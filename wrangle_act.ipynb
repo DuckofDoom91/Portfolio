{
  "cells": [
    {
      "cell_type": "markdown",
      "metadata": {
        "id": "view-in-github",
        "colab_type": "text"
      },
      "source": [
        "<a href=\"https://colab.research.google.com/github/DuckofDoom91/Portfolio/blob/main/wrangle_act.ipynb\" target=\"_parent\"><img src=\"https://colab.research.google.com/assets/colab-badge.svg\" alt=\"Open In Colab\"/></a>"
      ]
    },
    {
      "cell_type": "markdown",
      "id": "672044ca",
      "metadata": {
        "id": "672044ca"
      },
      "source": [
        "# Project: Wrangling and Analyze Data"
      ]
    },
    {
      "cell_type": "markdown",
      "id": "7c3558af",
      "metadata": {
        "id": "7c3558af"
      },
      "source": [
        "## Data Gathering\n",
        "In the cell below, gather **all** three pieces of data for this project and load them in the notebook. **Note:** the methods required to gather each data are different.\n",
        "1. Directly download the WeRateDogs Twitter archive data (twitter_archive_enhanced.csv)"
      ]
    },
    {
      "cell_type": "code",
      "execution_count": null,
      "id": "e04f8996",
      "metadata": {
        "id": "e04f8996"
      },
      "outputs": [],
      "source": [
        "import pandas as pd\n",
        "import numpy as np\n",
        "import requests\n",
        "import json\n",
        "import matplotlib.pyplot as plt\n",
        "%matplotlib inline\n",
        "pd.set_option('display.max_colwidth', None)"
      ]
    },
    {
      "cell_type": "code",
      "execution_count": null,
      "id": "a8204b6d",
      "metadata": {
        "id": "a8204b6d",
        "outputId": "a9ddb9ad-b69e-4134-cdfc-1716a45e1667"
      },
      "outputs": [
        {
          "data": {
            "text/html": [
              "<div>\n",
              "<style scoped>\n",
              "    .dataframe tbody tr th:only-of-type {\n",
              "        vertical-align: middle;\n",
              "    }\n",
              "\n",
              "    .dataframe tbody tr th {\n",
              "        vertical-align: top;\n",
              "    }\n",
              "\n",
              "    .dataframe thead th {\n",
              "        text-align: right;\n",
              "    }\n",
              "</style>\n",
              "<table border=\"1\" class=\"dataframe\">\n",
              "  <thead>\n",
              "    <tr style=\"text-align: right;\">\n",
              "      <th></th>\n",
              "      <th>tweet_id</th>\n",
              "      <th>in_reply_to_status_id</th>\n",
              "      <th>in_reply_to_user_id</th>\n",
              "      <th>timestamp</th>\n",
              "      <th>source</th>\n",
              "      <th>text</th>\n",
              "      <th>retweeted_status_id</th>\n",
              "      <th>retweeted_status_user_id</th>\n",
              "      <th>retweeted_status_timestamp</th>\n",
              "      <th>expanded_urls</th>\n",
              "      <th>rating_numerator</th>\n",
              "      <th>rating_denominator</th>\n",
              "      <th>name</th>\n",
              "      <th>doggo</th>\n",
              "      <th>floofer</th>\n",
              "      <th>pupper</th>\n",
              "      <th>puppo</th>\n",
              "    </tr>\n",
              "  </thead>\n",
              "  <tbody>\n",
              "    <tr>\n",
              "      <th>0</th>\n",
              "      <td>892420643555336193</td>\n",
              "      <td>NaN</td>\n",
              "      <td>NaN</td>\n",
              "      <td>2017-08-01 16:23:56 +0000</td>\n",
              "      <td>&lt;a href=\"http://twitter.com/download/iphone\" rel=\"nofollow\"&gt;Twitter for iPhone&lt;/a&gt;</td>\n",
              "      <td>This is Phineas. He's a mystical boy. Only ever appears in the hole of a donut. 13/10 https://t.co/MgUWQ76dJU</td>\n",
              "      <td>NaN</td>\n",
              "      <td>NaN</td>\n",
              "      <td>NaN</td>\n",
              "      <td>https://twitter.com/dog_rates/status/892420643555336193/photo/1</td>\n",
              "      <td>13</td>\n",
              "      <td>10</td>\n",
              "      <td>Phineas</td>\n",
              "      <td>None</td>\n",
              "      <td>None</td>\n",
              "      <td>None</td>\n",
              "      <td>None</td>\n",
              "    </tr>\n",
              "    <tr>\n",
              "      <th>1</th>\n",
              "      <td>892177421306343426</td>\n",
              "      <td>NaN</td>\n",
              "      <td>NaN</td>\n",
              "      <td>2017-08-01 00:17:27 +0000</td>\n",
              "      <td>&lt;a href=\"http://twitter.com/download/iphone\" rel=\"nofollow\"&gt;Twitter for iPhone&lt;/a&gt;</td>\n",
              "      <td>This is Tilly. She's just checking pup on you. Hopes you're doing ok. If not, she's available for pats, snugs, boops, the whole bit. 13/10 https://t.co/0Xxu71qeIV</td>\n",
              "      <td>NaN</td>\n",
              "      <td>NaN</td>\n",
              "      <td>NaN</td>\n",
              "      <td>https://twitter.com/dog_rates/status/892177421306343426/photo/1</td>\n",
              "      <td>13</td>\n",
              "      <td>10</td>\n",
              "      <td>Tilly</td>\n",
              "      <td>None</td>\n",
              "      <td>None</td>\n",
              "      <td>None</td>\n",
              "      <td>None</td>\n",
              "    </tr>\n",
              "    <tr>\n",
              "      <th>2</th>\n",
              "      <td>891815181378084864</td>\n",
              "      <td>NaN</td>\n",
              "      <td>NaN</td>\n",
              "      <td>2017-07-31 00:18:03 +0000</td>\n",
              "      <td>&lt;a href=\"http://twitter.com/download/iphone\" rel=\"nofollow\"&gt;Twitter for iPhone&lt;/a&gt;</td>\n",
              "      <td>This is Archie. He is a rare Norwegian Pouncing Corgo. Lives in the tall grass. You never know when one may strike. 12/10 https://t.co/wUnZnhtVJB</td>\n",
              "      <td>NaN</td>\n",
              "      <td>NaN</td>\n",
              "      <td>NaN</td>\n",
              "      <td>https://twitter.com/dog_rates/status/891815181378084864/photo/1</td>\n",
              "      <td>12</td>\n",
              "      <td>10</td>\n",
              "      <td>Archie</td>\n",
              "      <td>None</td>\n",
              "      <td>None</td>\n",
              "      <td>None</td>\n",
              "      <td>None</td>\n",
              "    </tr>\n",
              "    <tr>\n",
              "      <th>3</th>\n",
              "      <td>891689557279858688</td>\n",
              "      <td>NaN</td>\n",
              "      <td>NaN</td>\n",
              "      <td>2017-07-30 15:58:51 +0000</td>\n",
              "      <td>&lt;a href=\"http://twitter.com/download/iphone\" rel=\"nofollow\"&gt;Twitter for iPhone&lt;/a&gt;</td>\n",
              "      <td>This is Darla. She commenced a snooze mid meal. 13/10 happens to the best of us https://t.co/tD36da7qLQ</td>\n",
              "      <td>NaN</td>\n",
              "      <td>NaN</td>\n",
              "      <td>NaN</td>\n",
              "      <td>https://twitter.com/dog_rates/status/891689557279858688/photo/1</td>\n",
              "      <td>13</td>\n",
              "      <td>10</td>\n",
              "      <td>Darla</td>\n",
              "      <td>None</td>\n",
              "      <td>None</td>\n",
              "      <td>None</td>\n",
              "      <td>None</td>\n",
              "    </tr>\n",
              "    <tr>\n",
              "      <th>4</th>\n",
              "      <td>891327558926688256</td>\n",
              "      <td>NaN</td>\n",
              "      <td>NaN</td>\n",
              "      <td>2017-07-29 16:00:24 +0000</td>\n",
              "      <td>&lt;a href=\"http://twitter.com/download/iphone\" rel=\"nofollow\"&gt;Twitter for iPhone&lt;/a&gt;</td>\n",
              "      <td>This is Franklin. He would like you to stop calling him \"cute.\" He is a very fierce shark and should be respected as such. 12/10 #BarkWeek https://t.co/AtUZn91f7f</td>\n",
              "      <td>NaN</td>\n",
              "      <td>NaN</td>\n",
              "      <td>NaN</td>\n",
              "      <td>https://twitter.com/dog_rates/status/891327558926688256/photo/1,https://twitter.com/dog_rates/status/891327558926688256/photo/1</td>\n",
              "      <td>12</td>\n",
              "      <td>10</td>\n",
              "      <td>Franklin</td>\n",
              "      <td>None</td>\n",
              "      <td>None</td>\n",
              "      <td>None</td>\n",
              "      <td>None</td>\n",
              "    </tr>\n",
              "  </tbody>\n",
              "</table>\n",
              "</div>"
            ],
            "text/plain": [
              "             tweet_id  in_reply_to_status_id  in_reply_to_user_id  \\\n",
              "0  892420643555336193                    NaN                  NaN   \n",
              "1  892177421306343426                    NaN                  NaN   \n",
              "2  891815181378084864                    NaN                  NaN   \n",
              "3  891689557279858688                    NaN                  NaN   \n",
              "4  891327558926688256                    NaN                  NaN   \n",
              "\n",
              "                   timestamp  \\\n",
              "0  2017-08-01 16:23:56 +0000   \n",
              "1  2017-08-01 00:17:27 +0000   \n",
              "2  2017-07-31 00:18:03 +0000   \n",
              "3  2017-07-30 15:58:51 +0000   \n",
              "4  2017-07-29 16:00:24 +0000   \n",
              "\n",
              "                                                                               source  \\\n",
              "0  <a href=\"http://twitter.com/download/iphone\" rel=\"nofollow\">Twitter for iPhone</a>   \n",
              "1  <a href=\"http://twitter.com/download/iphone\" rel=\"nofollow\">Twitter for iPhone</a>   \n",
              "2  <a href=\"http://twitter.com/download/iphone\" rel=\"nofollow\">Twitter for iPhone</a>   \n",
              "3  <a href=\"http://twitter.com/download/iphone\" rel=\"nofollow\">Twitter for iPhone</a>   \n",
              "4  <a href=\"http://twitter.com/download/iphone\" rel=\"nofollow\">Twitter for iPhone</a>   \n",
              "\n",
              "                                                                                                                                                                 text  \\\n",
              "0                                                       This is Phineas. He's a mystical boy. Only ever appears in the hole of a donut. 13/10 https://t.co/MgUWQ76dJU   \n",
              "1  This is Tilly. She's just checking pup on you. Hopes you're doing ok. If not, she's available for pats, snugs, boops, the whole bit. 13/10 https://t.co/0Xxu71qeIV   \n",
              "2                   This is Archie. He is a rare Norwegian Pouncing Corgo. Lives in the tall grass. You never know when one may strike. 12/10 https://t.co/wUnZnhtVJB   \n",
              "3                                                             This is Darla. She commenced a snooze mid meal. 13/10 happens to the best of us https://t.co/tD36da7qLQ   \n",
              "4  This is Franklin. He would like you to stop calling him \"cute.\" He is a very fierce shark and should be respected as such. 12/10 #BarkWeek https://t.co/AtUZn91f7f   \n",
              "\n",
              "   retweeted_status_id  retweeted_status_user_id retweeted_status_timestamp  \\\n",
              "0                  NaN                       NaN                        NaN   \n",
              "1                  NaN                       NaN                        NaN   \n",
              "2                  NaN                       NaN                        NaN   \n",
              "3                  NaN                       NaN                        NaN   \n",
              "4                  NaN                       NaN                        NaN   \n",
              "\n",
              "                                                                                                                     expanded_urls  \\\n",
              "0                                                                  https://twitter.com/dog_rates/status/892420643555336193/photo/1   \n",
              "1                                                                  https://twitter.com/dog_rates/status/892177421306343426/photo/1   \n",
              "2                                                                  https://twitter.com/dog_rates/status/891815181378084864/photo/1   \n",
              "3                                                                  https://twitter.com/dog_rates/status/891689557279858688/photo/1   \n",
              "4  https://twitter.com/dog_rates/status/891327558926688256/photo/1,https://twitter.com/dog_rates/status/891327558926688256/photo/1   \n",
              "\n",
              "   rating_numerator  rating_denominator      name doggo floofer pupper puppo  \n",
              "0                13                  10   Phineas  None    None   None  None  \n",
              "1                13                  10     Tilly  None    None   None  None  \n",
              "2                12                  10    Archie  None    None   None  None  \n",
              "3                13                  10     Darla  None    None   None  None  \n",
              "4                12                  10  Franklin  None    None   None  None  "
            ]
          },
          "execution_count": 210,
          "metadata": {},
          "output_type": "execute_result"
        }
      ],
      "source": [
        "twitter_archive = pd.read_csv('twitter-archive-enhanced.csv')\n",
        "twitter_archive.head()"
      ]
    },
    {
      "cell_type": "markdown",
      "id": "bb04f697",
      "metadata": {
        "id": "bb04f697"
      },
      "source": [
        "2. Use the Requests library to download the tweet image prediction (image_predictions.tsv)"
      ]
    },
    {
      "cell_type": "code",
      "execution_count": null,
      "id": "779a5275",
      "metadata": {
        "id": "779a5275",
        "outputId": "5f8e80d9-e1a6-4c0a-ff7c-f2044f895ebb"
      },
      "outputs": [
        {
          "data": {
            "text/plain": [
              "<Response [200]>"
            ]
          },
          "execution_count": 211,
          "metadata": {},
          "output_type": "execute_result"
        }
      ],
      "source": [
        "url = 'https://d17h27t6h515a5.cloudfront.net/topher/2017/August/599fd2ad_image-predictions/image-predictions.tsv'\n",
        "response = requests.get(url)\n",
        "response"
      ]
    },
    {
      "cell_type": "code",
      "execution_count": null,
      "id": "fac53adb",
      "metadata": {
        "id": "fac53adb",
        "outputId": "98ec6b21-8c0b-4bd8-b64b-06431d0fca67"
      },
      "outputs": [
        {
          "data": {
            "text/html": [
              "<div>\n",
              "<style scoped>\n",
              "    .dataframe tbody tr th:only-of-type {\n",
              "        vertical-align: middle;\n",
              "    }\n",
              "\n",
              "    .dataframe tbody tr th {\n",
              "        vertical-align: top;\n",
              "    }\n",
              "\n",
              "    .dataframe thead th {\n",
              "        text-align: right;\n",
              "    }\n",
              "</style>\n",
              "<table border=\"1\" class=\"dataframe\">\n",
              "  <thead>\n",
              "    <tr style=\"text-align: right;\">\n",
              "      <th></th>\n",
              "      <th>tweet_id</th>\n",
              "      <th>jpg_url</th>\n",
              "      <th>img_num</th>\n",
              "      <th>p1</th>\n",
              "      <th>p1_conf</th>\n",
              "      <th>p1_dog</th>\n",
              "      <th>p2</th>\n",
              "      <th>p2_conf</th>\n",
              "      <th>p2_dog</th>\n",
              "      <th>p3</th>\n",
              "      <th>p3_conf</th>\n",
              "      <th>p3_dog</th>\n",
              "    </tr>\n",
              "  </thead>\n",
              "  <tbody>\n",
              "    <tr>\n",
              "      <th>0</th>\n",
              "      <td>666020888022790149</td>\n",
              "      <td>https://pbs.twimg.com/media/CT4udn0WwAA0aMy.jpg</td>\n",
              "      <td>1</td>\n",
              "      <td>Welsh_springer_spaniel</td>\n",
              "      <td>0.465074</td>\n",
              "      <td>True</td>\n",
              "      <td>collie</td>\n",
              "      <td>0.156665</td>\n",
              "      <td>True</td>\n",
              "      <td>Shetland_sheepdog</td>\n",
              "      <td>0.061428</td>\n",
              "      <td>True</td>\n",
              "    </tr>\n",
              "    <tr>\n",
              "      <th>1</th>\n",
              "      <td>666029285002620928</td>\n",
              "      <td>https://pbs.twimg.com/media/CT42GRgUYAA5iDo.jpg</td>\n",
              "      <td>1</td>\n",
              "      <td>redbone</td>\n",
              "      <td>0.506826</td>\n",
              "      <td>True</td>\n",
              "      <td>miniature_pinscher</td>\n",
              "      <td>0.074192</td>\n",
              "      <td>True</td>\n",
              "      <td>Rhodesian_ridgeback</td>\n",
              "      <td>0.072010</td>\n",
              "      <td>True</td>\n",
              "    </tr>\n",
              "    <tr>\n",
              "      <th>2</th>\n",
              "      <td>666033412701032449</td>\n",
              "      <td>https://pbs.twimg.com/media/CT4521TWwAEvMyu.jpg</td>\n",
              "      <td>1</td>\n",
              "      <td>German_shepherd</td>\n",
              "      <td>0.596461</td>\n",
              "      <td>True</td>\n",
              "      <td>malinois</td>\n",
              "      <td>0.138584</td>\n",
              "      <td>True</td>\n",
              "      <td>bloodhound</td>\n",
              "      <td>0.116197</td>\n",
              "      <td>True</td>\n",
              "    </tr>\n",
              "    <tr>\n",
              "      <th>3</th>\n",
              "      <td>666044226329800704</td>\n",
              "      <td>https://pbs.twimg.com/media/CT5Dr8HUEAA-lEu.jpg</td>\n",
              "      <td>1</td>\n",
              "      <td>Rhodesian_ridgeback</td>\n",
              "      <td>0.408143</td>\n",
              "      <td>True</td>\n",
              "      <td>redbone</td>\n",
              "      <td>0.360687</td>\n",
              "      <td>True</td>\n",
              "      <td>miniature_pinscher</td>\n",
              "      <td>0.222752</td>\n",
              "      <td>True</td>\n",
              "    </tr>\n",
              "    <tr>\n",
              "      <th>4</th>\n",
              "      <td>666049248165822465</td>\n",
              "      <td>https://pbs.twimg.com/media/CT5IQmsXIAAKY4A.jpg</td>\n",
              "      <td>1</td>\n",
              "      <td>miniature_pinscher</td>\n",
              "      <td>0.560311</td>\n",
              "      <td>True</td>\n",
              "      <td>Rottweiler</td>\n",
              "      <td>0.243682</td>\n",
              "      <td>True</td>\n",
              "      <td>Doberman</td>\n",
              "      <td>0.154629</td>\n",
              "      <td>True</td>\n",
              "    </tr>\n",
              "  </tbody>\n",
              "</table>\n",
              "</div>"
            ],
            "text/plain": [
              "             tweet_id                                          jpg_url  \\\n",
              "0  666020888022790149  https://pbs.twimg.com/media/CT4udn0WwAA0aMy.jpg   \n",
              "1  666029285002620928  https://pbs.twimg.com/media/CT42GRgUYAA5iDo.jpg   \n",
              "2  666033412701032449  https://pbs.twimg.com/media/CT4521TWwAEvMyu.jpg   \n",
              "3  666044226329800704  https://pbs.twimg.com/media/CT5Dr8HUEAA-lEu.jpg   \n",
              "4  666049248165822465  https://pbs.twimg.com/media/CT5IQmsXIAAKY4A.jpg   \n",
              "\n",
              "   img_num                      p1   p1_conf  p1_dog                  p2  \\\n",
              "0        1  Welsh_springer_spaniel  0.465074    True              collie   \n",
              "1        1                 redbone  0.506826    True  miniature_pinscher   \n",
              "2        1         German_shepherd  0.596461    True            malinois   \n",
              "3        1     Rhodesian_ridgeback  0.408143    True             redbone   \n",
              "4        1      miniature_pinscher  0.560311    True          Rottweiler   \n",
              "\n",
              "    p2_conf  p2_dog                   p3   p3_conf  p3_dog  \n",
              "0  0.156665    True    Shetland_sheepdog  0.061428    True  \n",
              "1  0.074192    True  Rhodesian_ridgeback  0.072010    True  \n",
              "2  0.138584    True           bloodhound  0.116197    True  \n",
              "3  0.360687    True   miniature_pinscher  0.222752    True  \n",
              "4  0.243682    True             Doberman  0.154629    True  "
            ]
          },
          "execution_count": 212,
          "metadata": {},
          "output_type": "execute_result"
        }
      ],
      "source": [
        "with open('image-predictions.tsv', mode = 'wb') as file:\n",
        "    file.write(response.content)\n",
        "image_pred = pd.read_csv('image-predictions.tsv', sep = '\\t')\n",
        "\n",
        "image_pred.head()"
      ]
    },
    {
      "cell_type": "markdown",
      "id": "bfce0fa8",
      "metadata": {
        "id": "bfce0fa8"
      },
      "source": [
        "3. Use the Tweepy library to query additional data via the Twitter API (tweet_json.txt)"
      ]
    },
    {
      "cell_type": "code",
      "execution_count": null,
      "id": "5cc9004d",
      "metadata": {
        "id": "5cc9004d",
        "outputId": "2038ec67-aec9-4100-d89c-bd5f31ef3585"
      },
      "outputs": [
        {
          "data": {
            "text/html": [
              "<div>\n",
              "<style scoped>\n",
              "    .dataframe tbody tr th:only-of-type {\n",
              "        vertical-align: middle;\n",
              "    }\n",
              "\n",
              "    .dataframe tbody tr th {\n",
              "        vertical-align: top;\n",
              "    }\n",
              "\n",
              "    .dataframe thead th {\n",
              "        text-align: right;\n",
              "    }\n",
              "</style>\n",
              "<table border=\"1\" class=\"dataframe\">\n",
              "  <thead>\n",
              "    <tr style=\"text-align: right;\">\n",
              "      <th></th>\n",
              "      <th>tweet_id</th>\n",
              "      <th>retweet_count</th>\n",
              "      <th>favorite_count</th>\n",
              "    </tr>\n",
              "  </thead>\n",
              "  <tbody>\n",
              "    <tr>\n",
              "      <th>0</th>\n",
              "      <td>892420643555336193</td>\n",
              "      <td>8853</td>\n",
              "      <td>39467</td>\n",
              "    </tr>\n",
              "    <tr>\n",
              "      <th>1</th>\n",
              "      <td>892177421306343426</td>\n",
              "      <td>6514</td>\n",
              "      <td>33819</td>\n",
              "    </tr>\n",
              "    <tr>\n",
              "      <th>2</th>\n",
              "      <td>891815181378084864</td>\n",
              "      <td>4328</td>\n",
              "      <td>25461</td>\n",
              "    </tr>\n",
              "    <tr>\n",
              "      <th>3</th>\n",
              "      <td>891689557279858688</td>\n",
              "      <td>8964</td>\n",
              "      <td>42908</td>\n",
              "    </tr>\n",
              "    <tr>\n",
              "      <th>4</th>\n",
              "      <td>891327558926688256</td>\n",
              "      <td>9774</td>\n",
              "      <td>41048</td>\n",
              "    </tr>\n",
              "  </tbody>\n",
              "</table>\n",
              "</div>"
            ],
            "text/plain": [
              "             tweet_id  retweet_count  favorite_count\n",
              "0  892420643555336193           8853           39467\n",
              "1  892177421306343426           6514           33819\n",
              "2  891815181378084864           4328           25461\n",
              "3  891689557279858688           8964           42908\n",
              "4  891327558926688256           9774           41048"
            ]
          },
          "execution_count": 213,
          "metadata": {},
          "output_type": "execute_result"
        }
      ],
      "source": [
        "twitter_list = []\n",
        "with open('tweet-json.txt', 'r') as file:\n",
        "    lines = file.readlines()\n",
        "    for line in lines:\n",
        "        parsed_json = json.loads(line)\n",
        "        twitter_list.append({'tweet_id': parsed_json['id'],\n",
        "                        'retweet_count': parsed_json['retweet_count'],\n",
        "                        'favorite_count': parsed_json['favorite_count']})\n",
        "tweet_json = pd.DataFrame(twitter_list, columns = ['tweet_id', 'retweet_count', 'favorite_count'])\n",
        "\n",
        "tweet_json.head()"
      ]
    },
    {
      "cell_type": "markdown",
      "id": "306a0537",
      "metadata": {
        "id": "306a0537"
      },
      "source": [
        "## Assessing Data\n",
        "In this section, detect and document at least **eight (8) quality issues and two (2) tidiness issue**. You must use **both** visual assessment\n",
        "programmatic assessement to assess the data.\n",
        "\n",
        "**Note:** pay attention to the following key points when you access the data.\n",
        "\n",
        "* You only want original ratings (no retweets) that have images. Though there are 5000+ tweets in the dataset, not all are dog ratings and some are retweets.\n",
        "* Assessing and cleaning the entire dataset completely would require a lot of time, and is not necessary to practice and demonstrate your skills in data wrangling. Therefore, the requirements of this project are only to assess and clean at least 8 quality issues and at least 2 tidiness issues in this dataset.\n",
        "* The fact that the rating numerators are greater than the denominators does not need to be cleaned. This [unique rating system](http://knowyourmeme.com/memes/theyre-good-dogs-brent) is a big part of the popularity of WeRateDogs.\n",
        "* You do not need to gather the tweets beyond August 1st, 2017. You can, but note that you won't be able to gather the image predictions for these tweets since you don't have access to the algorithm used.\n"
      ]
    },
    {
      "cell_type": "markdown",
      "id": "54187805",
      "metadata": {
        "id": "54187805"
      },
      "source": [
        "## `twitter_archive` Assesment"
      ]
    },
    {
      "cell_type": "code",
      "execution_count": null,
      "id": "792fa574",
      "metadata": {
        "id": "792fa574",
        "outputId": "697b8490-2a88-487b-a032-e911886006ce"
      },
      "outputs": [
        {
          "data": {
            "text/html": [
              "<div>\n",
              "<style scoped>\n",
              "    .dataframe tbody tr th:only-of-type {\n",
              "        vertical-align: middle;\n",
              "    }\n",
              "\n",
              "    .dataframe tbody tr th {\n",
              "        vertical-align: top;\n",
              "    }\n",
              "\n",
              "    .dataframe thead th {\n",
              "        text-align: right;\n",
              "    }\n",
              "</style>\n",
              "<table border=\"1\" class=\"dataframe\">\n",
              "  <thead>\n",
              "    <tr style=\"text-align: right;\">\n",
              "      <th></th>\n",
              "      <th>tweet_id</th>\n",
              "      <th>in_reply_to_status_id</th>\n",
              "      <th>in_reply_to_user_id</th>\n",
              "      <th>timestamp</th>\n",
              "      <th>source</th>\n",
              "      <th>text</th>\n",
              "      <th>retweeted_status_id</th>\n",
              "      <th>retweeted_status_user_id</th>\n",
              "      <th>retweeted_status_timestamp</th>\n",
              "      <th>expanded_urls</th>\n",
              "      <th>rating_numerator</th>\n",
              "      <th>rating_denominator</th>\n",
              "      <th>name</th>\n",
              "      <th>doggo</th>\n",
              "      <th>floofer</th>\n",
              "      <th>pupper</th>\n",
              "      <th>puppo</th>\n",
              "    </tr>\n",
              "  </thead>\n",
              "  <tbody>\n",
              "    <tr>\n",
              "      <th>2330</th>\n",
              "      <td>666362758909284353</td>\n",
              "      <td>NaN</td>\n",
              "      <td>NaN</td>\n",
              "      <td>2015-11-16 21:10:36 +0000</td>\n",
              "      <td>&lt;a href=\"http://twitter.com/download/iphone\" rel=\"nofollow\"&gt;Twitter for iPhone&lt;/a&gt;</td>\n",
              "      <td>Unique dog here. Very small. Lives in container of Frosted Flakes (?). Short legs. Must be rare 6/10 would still pet https://t.co/XMD9CwjEnM</td>\n",
              "      <td>NaN</td>\n",
              "      <td>NaN</td>\n",
              "      <td>NaN</td>\n",
              "      <td>https://twitter.com/dog_rates/status/666362758909284353/photo/1</td>\n",
              "      <td>6</td>\n",
              "      <td>10</td>\n",
              "      <td>None</td>\n",
              "      <td>None</td>\n",
              "      <td>None</td>\n",
              "      <td>None</td>\n",
              "      <td>None</td>\n",
              "    </tr>\n",
              "    <tr>\n",
              "      <th>1835</th>\n",
              "      <td>676101918813499392</td>\n",
              "      <td>NaN</td>\n",
              "      <td>NaN</td>\n",
              "      <td>2015-12-13 18:10:33 +0000</td>\n",
              "      <td>&lt;a href=\"http://twitter.com/download/iphone\" rel=\"nofollow\"&gt;Twitter for iPhone&lt;/a&gt;</td>\n",
              "      <td>Meet Striker. He's ready for Christmas. 11/10 https://t.co/B3xxSLjQSH</td>\n",
              "      <td>NaN</td>\n",
              "      <td>NaN</td>\n",
              "      <td>NaN</td>\n",
              "      <td>https://twitter.com/dog_rates/status/676101918813499392/photo/1</td>\n",
              "      <td>11</td>\n",
              "      <td>10</td>\n",
              "      <td>Striker</td>\n",
              "      <td>None</td>\n",
              "      <td>None</td>\n",
              "      <td>None</td>\n",
              "      <td>None</td>\n",
              "    </tr>\n",
              "    <tr>\n",
              "      <th>657</th>\n",
              "      <td>791774931465953280</td>\n",
              "      <td>NaN</td>\n",
              "      <td>NaN</td>\n",
              "      <td>2016-10-27 22:53:48 +0000</td>\n",
              "      <td>&lt;a href=\"http://vine.co\" rel=\"nofollow\"&gt;Vine - Make a Scene&lt;/a&gt;</td>\n",
              "      <td>Vine will be deeply missed. This was by far my favorite one. 14/10 https://t.co/roqIxCvEB3</td>\n",
              "      <td>NaN</td>\n",
              "      <td>NaN</td>\n",
              "      <td>NaN</td>\n",
              "      <td>https://vine.co/v/ea0OwvPTx9l</td>\n",
              "      <td>14</td>\n",
              "      <td>10</td>\n",
              "      <td>None</td>\n",
              "      <td>None</td>\n",
              "      <td>None</td>\n",
              "      <td>None</td>\n",
              "      <td>None</td>\n",
              "    </tr>\n",
              "    <tr>\n",
              "      <th>1788</th>\n",
              "      <td>677557565589463040</td>\n",
              "      <td>NaN</td>\n",
              "      <td>NaN</td>\n",
              "      <td>2015-12-17 18:34:46 +0000</td>\n",
              "      <td>&lt;a href=\"http://twitter.com/download/iphone\" rel=\"nofollow\"&gt;Twitter for iPhone&lt;/a&gt;</td>\n",
              "      <td>Reckless pupper here. Not even looking at road. Absolute menace. No regard for fellow pupper lives. 10/10 still cute https://t.co/96IBkOYB7j</td>\n",
              "      <td>NaN</td>\n",
              "      <td>NaN</td>\n",
              "      <td>NaN</td>\n",
              "      <td>https://twitter.com/dog_rates/status/677557565589463040/photo/1</td>\n",
              "      <td>10</td>\n",
              "      <td>10</td>\n",
              "      <td>None</td>\n",
              "      <td>None</td>\n",
              "      <td>None</td>\n",
              "      <td>pupper</td>\n",
              "      <td>None</td>\n",
              "    </tr>\n",
              "    <tr>\n",
              "      <th>2008</th>\n",
              "      <td>672256522047614977</td>\n",
              "      <td>NaN</td>\n",
              "      <td>NaN</td>\n",
              "      <td>2015-12-03 03:30:19 +0000</td>\n",
              "      <td>&lt;a href=\"http://twitter.com/download/iphone\" rel=\"nofollow\"&gt;Twitter for iPhone&lt;/a&gt;</td>\n",
              "      <td>Mighty rare dogs here. Long smooth necks. Great knees. Travel in squads. 1 out of every 14 is massive. 8/10 for all https://t.co/PoMKKnKpRd</td>\n",
              "      <td>NaN</td>\n",
              "      <td>NaN</td>\n",
              "      <td>NaN</td>\n",
              "      <td>https://twitter.com/dog_rates/status/672256522047614977/photo/1</td>\n",
              "      <td>8</td>\n",
              "      <td>10</td>\n",
              "      <td>None</td>\n",
              "      <td>None</td>\n",
              "      <td>None</td>\n",
              "      <td>None</td>\n",
              "      <td>None</td>\n",
              "    </tr>\n",
              "  </tbody>\n",
              "</table>\n",
              "</div>"
            ],
            "text/plain": [
              "                tweet_id  in_reply_to_status_id  in_reply_to_user_id  \\\n",
              "2330  666362758909284353                    NaN                  NaN   \n",
              "1835  676101918813499392                    NaN                  NaN   \n",
              "657   791774931465953280                    NaN                  NaN   \n",
              "1788  677557565589463040                    NaN                  NaN   \n",
              "2008  672256522047614977                    NaN                  NaN   \n",
              "\n",
              "                      timestamp  \\\n",
              "2330  2015-11-16 21:10:36 +0000   \n",
              "1835  2015-12-13 18:10:33 +0000   \n",
              "657   2016-10-27 22:53:48 +0000   \n",
              "1788  2015-12-17 18:34:46 +0000   \n",
              "2008  2015-12-03 03:30:19 +0000   \n",
              "\n",
              "                                                                                  source  \\\n",
              "2330  <a href=\"http://twitter.com/download/iphone\" rel=\"nofollow\">Twitter for iPhone</a>   \n",
              "1835  <a href=\"http://twitter.com/download/iphone\" rel=\"nofollow\">Twitter for iPhone</a>   \n",
              "657                      <a href=\"http://vine.co\" rel=\"nofollow\">Vine - Make a Scene</a>   \n",
              "1788  <a href=\"http://twitter.com/download/iphone\" rel=\"nofollow\">Twitter for iPhone</a>   \n",
              "2008  <a href=\"http://twitter.com/download/iphone\" rel=\"nofollow\">Twitter for iPhone</a>   \n",
              "\n",
              "                                                                                                                                              text  \\\n",
              "2330  Unique dog here. Very small. Lives in container of Frosted Flakes (?). Short legs. Must be rare 6/10 would still pet https://t.co/XMD9CwjEnM   \n",
              "1835                                                                         Meet Striker. He's ready for Christmas. 11/10 https://t.co/B3xxSLjQSH   \n",
              "657                                                     Vine will be deeply missed. This was by far my favorite one. 14/10 https://t.co/roqIxCvEB3   \n",
              "1788  Reckless pupper here. Not even looking at road. Absolute menace. No regard for fellow pupper lives. 10/10 still cute https://t.co/96IBkOYB7j   \n",
              "2008   Mighty rare dogs here. Long smooth necks. Great knees. Travel in squads. 1 out of every 14 is massive. 8/10 for all https://t.co/PoMKKnKpRd   \n",
              "\n",
              "      retweeted_status_id  retweeted_status_user_id  \\\n",
              "2330                  NaN                       NaN   \n",
              "1835                  NaN                       NaN   \n",
              "657                   NaN                       NaN   \n",
              "1788                  NaN                       NaN   \n",
              "2008                  NaN                       NaN   \n",
              "\n",
              "     retweeted_status_timestamp  \\\n",
              "2330                        NaN   \n",
              "1835                        NaN   \n",
              "657                         NaN   \n",
              "1788                        NaN   \n",
              "2008                        NaN   \n",
              "\n",
              "                                                        expanded_urls  \\\n",
              "2330  https://twitter.com/dog_rates/status/666362758909284353/photo/1   \n",
              "1835  https://twitter.com/dog_rates/status/676101918813499392/photo/1   \n",
              "657                                     https://vine.co/v/ea0OwvPTx9l   \n",
              "1788  https://twitter.com/dog_rates/status/677557565589463040/photo/1   \n",
              "2008  https://twitter.com/dog_rates/status/672256522047614977/photo/1   \n",
              "\n",
              "      rating_numerator  rating_denominator     name doggo floofer  pupper  \\\n",
              "2330                 6                  10     None  None    None    None   \n",
              "1835                11                  10  Striker  None    None    None   \n",
              "657                 14                  10     None  None    None    None   \n",
              "1788                10                  10     None  None    None  pupper   \n",
              "2008                 8                  10     None  None    None    None   \n",
              "\n",
              "     puppo  \n",
              "2330  None  \n",
              "1835  None  \n",
              "657   None  \n",
              "1788  None  \n",
              "2008  None  "
            ]
          },
          "execution_count": 214,
          "metadata": {},
          "output_type": "execute_result"
        }
      ],
      "source": [
        "twitter_archive.sample(5)"
      ]
    },
    {
      "cell_type": "code",
      "execution_count": null,
      "id": "b57bd4e3",
      "metadata": {
        "id": "b57bd4e3",
        "outputId": "8d244b5b-3d86-454c-c20d-924b326ccfca"
      },
      "outputs": [
        {
          "data": {
            "text/plain": [
              "tweet_id                      2356\n",
              "in_reply_to_status_id           77\n",
              "in_reply_to_user_id             31\n",
              "timestamp                     2356\n",
              "source                           4\n",
              "text                          2356\n",
              "retweeted_status_id            181\n",
              "retweeted_status_user_id        25\n",
              "retweeted_status_timestamp     181\n",
              "expanded_urls                 2218\n",
              "rating_numerator                40\n",
              "rating_denominator              18\n",
              "name                           957\n",
              "doggo                            2\n",
              "floofer                          2\n",
              "pupper                           2\n",
              "puppo                            2\n",
              "dtype: int64"
            ]
          },
          "execution_count": 215,
          "metadata": {},
          "output_type": "execute_result"
        }
      ],
      "source": [
        "twitter_archive.nunique()"
      ]
    },
    {
      "cell_type": "code",
      "execution_count": null,
      "id": "38e7c579",
      "metadata": {
        "id": "38e7c579",
        "outputId": "4a99ce12-6087-4d3b-d940-17935fcd90f7"
      },
      "outputs": [
        {
          "data": {
            "text/plain": [
              "12      558\n",
              "11      464\n",
              "10      461\n",
              "13      351\n",
              "9       158\n",
              "8       102\n",
              "7        55\n",
              "14       54\n",
              "5        37\n",
              "6        32\n",
              "3        19\n",
              "4        17\n",
              "2         9\n",
              "1         9\n",
              "75        2\n",
              "15        2\n",
              "420       2\n",
              "0         2\n",
              "80        1\n",
              "144       1\n",
              "17        1\n",
              "26        1\n",
              "20        1\n",
              "121       1\n",
              "143       1\n",
              "44        1\n",
              "60        1\n",
              "45        1\n",
              "50        1\n",
              "99        1\n",
              "204       1\n",
              "1776      1\n",
              "165       1\n",
              "666       1\n",
              "27        1\n",
              "182       1\n",
              "24        1\n",
              "960       1\n",
              "84        1\n",
              "88        1\n",
              "Name: rating_numerator, dtype: int64"
            ]
          },
          "execution_count": 216,
          "metadata": {},
          "output_type": "execute_result"
        }
      ],
      "source": [
        "twitter_archive.rating_numerator.value_counts()\n",
        "#the numerator and demoninator are silly and the entire purpose of the account. \n",
        "#Getting rid of \"outliers\" wouldn't help analytically."
      ]
    },
    {
      "cell_type": "code",
      "execution_count": null,
      "id": "d4b9df1d",
      "metadata": {
        "id": "d4b9df1d",
        "outputId": "71071aed-1922-4540-b231-391cb0e48d67"
      },
      "outputs": [
        {
          "data": {
            "text/plain": [
              "10     2333\n",
              "11        3\n",
              "50        3\n",
              "20        2\n",
              "80        2\n",
              "70        1\n",
              "7         1\n",
              "15        1\n",
              "150       1\n",
              "170       1\n",
              "0         1\n",
              "90        1\n",
              "40        1\n",
              "130       1\n",
              "110       1\n",
              "16        1\n",
              "120       1\n",
              "2         1\n",
              "Name: rating_denominator, dtype: int64"
            ]
          },
          "execution_count": 217,
          "metadata": {},
          "output_type": "execute_result"
        }
      ],
      "source": [
        "twitter_archive.rating_denominator.value_counts()\n",
        "#Typically the denominator is 10, to be less than the numerator. It appears\n",
        "#entires with higher denominators are almost always multiple dogs."
      ]
    },
    {
      "cell_type": "code",
      "execution_count": null,
      "id": "30f8afe2",
      "metadata": {
        "id": "30f8afe2",
        "outputId": "356e667f-eaa6-439a-fcbc-2e92df73bb3c"
      },
      "outputs": [
        {
          "data": {
            "text/html": [
              "<div>\n",
              "<style scoped>\n",
              "    .dataframe tbody tr th:only-of-type {\n",
              "        vertical-align: middle;\n",
              "    }\n",
              "\n",
              "    .dataframe tbody tr th {\n",
              "        vertical-align: top;\n",
              "    }\n",
              "\n",
              "    .dataframe thead th {\n",
              "        text-align: right;\n",
              "    }\n",
              "</style>\n",
              "<table border=\"1\" class=\"dataframe\">\n",
              "  <thead>\n",
              "    <tr style=\"text-align: right;\">\n",
              "      <th></th>\n",
              "      <th>text</th>\n",
              "      <th>tweet_id</th>\n",
              "      <th>rating_numerator</th>\n",
              "      <th>rating_denominator</th>\n",
              "    </tr>\n",
              "  </thead>\n",
              "  <tbody>\n",
              "    <tr>\n",
              "      <th>433</th>\n",
              "      <td>The floofs have been released I repeat the floofs have been released. 84/70 https://t.co/NIYC820tmd</td>\n",
              "      <td>820690176645140481</td>\n",
              "      <td>84</td>\n",
              "      <td>70</td>\n",
              "    </tr>\n",
              "    <tr>\n",
              "      <th>516</th>\n",
              "      <td>Meet Sam. She smiles 24/7 &amp;amp; secretly aspires to be a reindeer. \\nKeep Sam smiling by clicking and sharing this link:\\nhttps://t.co/98tB8y7y7t https://t.co/LouL5vdvxx</td>\n",
              "      <td>810984652412424192</td>\n",
              "      <td>24</td>\n",
              "      <td>7</td>\n",
              "    </tr>\n",
              "    <tr>\n",
              "      <th>902</th>\n",
              "      <td>Why does this never happen at my front door... 165/150 https://t.co/HmwrdfEfUE</td>\n",
              "      <td>758467244762497024</td>\n",
              "      <td>165</td>\n",
              "      <td>150</td>\n",
              "    </tr>\n",
              "    <tr>\n",
              "      <th>1068</th>\n",
              "      <td>After so many requests, this is Bretagne. She was the last surviving 9/11 search dog, and our second ever 14/10. RIP https://t.co/XAVDNDaVgQ</td>\n",
              "      <td>740373189193256964</td>\n",
              "      <td>9</td>\n",
              "      <td>11</td>\n",
              "    </tr>\n",
              "    <tr>\n",
              "      <th>1120</th>\n",
              "      <td>Say hello to this unbelievably well behaved squad of doggos. 204/170 would try to pet all at once https://t.co/yGQI3He3xv</td>\n",
              "      <td>731156023742988288</td>\n",
              "      <td>204</td>\n",
              "      <td>170</td>\n",
              "    </tr>\n",
              "    <tr>\n",
              "      <th>1165</th>\n",
              "      <td>Happy 4/20 from the squad! 13/10 for all https://t.co/eV1diwds8a</td>\n",
              "      <td>722974582966214656</td>\n",
              "      <td>4</td>\n",
              "      <td>20</td>\n",
              "    </tr>\n",
              "    <tr>\n",
              "      <th>1202</th>\n",
              "      <td>This is Bluebert. He just saw that both #FinalFur match ups are split 50/50. Amazed af. 11/10 https://t.co/Kky1DPG4iq</td>\n",
              "      <td>716439118184652801</td>\n",
              "      <td>50</td>\n",
              "      <td>50</td>\n",
              "    </tr>\n",
              "    <tr>\n",
              "      <th>1228</th>\n",
              "      <td>Happy Saturday here's 9 puppers on a bench. 99/90 good work everybody https://t.co/mpvaVxKmc1</td>\n",
              "      <td>713900603437621249</td>\n",
              "      <td>99</td>\n",
              "      <td>90</td>\n",
              "    </tr>\n",
              "    <tr>\n",
              "      <th>1254</th>\n",
              "      <td>Here's a brigade of puppers. All look very prepared for whatever happens next. 80/80 https://t.co/0eb7R1Om12</td>\n",
              "      <td>710658690886586372</td>\n",
              "      <td>80</td>\n",
              "      <td>80</td>\n",
              "    </tr>\n",
              "    <tr>\n",
              "      <th>1274</th>\n",
              "      <td>From left to right:\\nCletus, Jerome, Alejandro, Burp, &amp;amp; Titson\\nNone know where camera is. 45/50 would hug all at once https://t.co/sedre1ivTK</td>\n",
              "      <td>709198395643068416</td>\n",
              "      <td>45</td>\n",
              "      <td>50</td>\n",
              "    </tr>\n",
              "    <tr>\n",
              "      <th>1351</th>\n",
              "      <td>Here is a whole flock of puppers.  60/50 I'll take the lot https://t.co/9dpcw6MdWa</td>\n",
              "      <td>704054845121142784</td>\n",
              "      <td>60</td>\n",
              "      <td>50</td>\n",
              "    </tr>\n",
              "    <tr>\n",
              "      <th>1433</th>\n",
              "      <td>Happy Wednesday here's a bucket of pups. 44/40 would pet all at once https://t.co/HppvrYuamZ</td>\n",
              "      <td>697463031882764288</td>\n",
              "      <td>44</td>\n",
              "      <td>40</td>\n",
              "    </tr>\n",
              "    <tr>\n",
              "      <th>1635</th>\n",
              "      <td>Someone help the girl is being mugged. Several are distracting her while two steal her shoes. Clever puppers 121/110 https://t.co/1zfnTJLt55</td>\n",
              "      <td>684222868335505415</td>\n",
              "      <td>121</td>\n",
              "      <td>110</td>\n",
              "    </tr>\n",
              "    <tr>\n",
              "      <th>1662</th>\n",
              "      <td>This is Darrel. He just robbed a 7/11 and is in a high speed police chase. Was just spotted by the helicopter 10/10 https://t.co/7EsP8LmSp5</td>\n",
              "      <td>682962037429899265</td>\n",
              "      <td>7</td>\n",
              "      <td>11</td>\n",
              "    </tr>\n",
              "    <tr>\n",
              "      <th>1779</th>\n",
              "      <td>IT'S PUPPERGEDDON. Total of 144/120 ...I think https://t.co/ZanVtAtvIq</td>\n",
              "      <td>677716515794329600</td>\n",
              "      <td>144</td>\n",
              "      <td>120</td>\n",
              "    </tr>\n",
              "    <tr>\n",
              "      <th>1843</th>\n",
              "      <td>Here we have an entire platoon of puppers. Total score: 88/80 would pet all at once https://t.co/y93p6FLvVw</td>\n",
              "      <td>675853064436391936</td>\n",
              "      <td>88</td>\n",
              "      <td>80</td>\n",
              "    </tr>\n",
              "    <tr>\n",
              "      <th>2335</th>\n",
              "      <td>This is an Albanian 3 1/2 legged  Episcopalian. Loves well-polished hardwood flooring. Penis on the collar. 9/10 https://t.co/d9NcXFKwLv</td>\n",
              "      <td>666287406224695296</td>\n",
              "      <td>1</td>\n",
              "      <td>2</td>\n",
              "    </tr>\n",
              "  </tbody>\n",
              "</table>\n",
              "</div>"
            ],
            "text/plain": [
              "                                                                                                                                                                           text  \\\n",
              "433                                                                         The floofs have been released I repeat the floofs have been released. 84/70 https://t.co/NIYC820tmd   \n",
              "516   Meet Sam. She smiles 24/7 &amp; secretly aspires to be a reindeer. \\nKeep Sam smiling by clicking and sharing this link:\\nhttps://t.co/98tB8y7y7t https://t.co/LouL5vdvxx   \n",
              "902                                                                                              Why does this never happen at my front door... 165/150 https://t.co/HmwrdfEfUE   \n",
              "1068                               After so many requests, this is Bretagne. She was the last surviving 9/11 search dog, and our second ever 14/10. RIP https://t.co/XAVDNDaVgQ   \n",
              "1120                                                  Say hello to this unbelievably well behaved squad of doggos. 204/170 would try to pet all at once https://t.co/yGQI3He3xv   \n",
              "1165                                                                                                           Happy 4/20 from the squad! 13/10 for all https://t.co/eV1diwds8a   \n",
              "1202                                                      This is Bluebert. He just saw that both #FinalFur match ups are split 50/50. Amazed af. 11/10 https://t.co/Kky1DPG4iq   \n",
              "1228                                                                              Happy Saturday here's 9 puppers on a bench. 99/90 good work everybody https://t.co/mpvaVxKmc1   \n",
              "1254                                                               Here's a brigade of puppers. All look very prepared for whatever happens next. 80/80 https://t.co/0eb7R1Om12   \n",
              "1274                         From left to right:\\nCletus, Jerome, Alejandro, Burp, &amp; Titson\\nNone know where camera is. 45/50 would hug all at once https://t.co/sedre1ivTK   \n",
              "1351                                                                                         Here is a whole flock of puppers.  60/50 I'll take the lot https://t.co/9dpcw6MdWa   \n",
              "1433                                                                               Happy Wednesday here's a bucket of pups. 44/40 would pet all at once https://t.co/HppvrYuamZ   \n",
              "1635                               Someone help the girl is being mugged. Several are distracting her while two steal her shoes. Clever puppers 121/110 https://t.co/1zfnTJLt55   \n",
              "1662                                This is Darrel. He just robbed a 7/11 and is in a high speed police chase. Was just spotted by the helicopter 10/10 https://t.co/7EsP8LmSp5   \n",
              "1779                                                                                                     IT'S PUPPERGEDDON. Total of 144/120 ...I think https://t.co/ZanVtAtvIq   \n",
              "1843                                                                Here we have an entire platoon of puppers. Total score: 88/80 would pet all at once https://t.co/y93p6FLvVw   \n",
              "2335                                   This is an Albanian 3 1/2 legged  Episcopalian. Loves well-polished hardwood flooring. Penis on the collar. 9/10 https://t.co/d9NcXFKwLv   \n",
              "\n",
              "                tweet_id  rating_numerator  rating_denominator  \n",
              "433   820690176645140481                84                  70  \n",
              "516   810984652412424192                24                   7  \n",
              "902   758467244762497024               165                 150  \n",
              "1068  740373189193256964                 9                  11  \n",
              "1120  731156023742988288               204                 170  \n",
              "1165  722974582966214656                 4                  20  \n",
              "1202  716439118184652801                50                  50  \n",
              "1228  713900603437621249                99                  90  \n",
              "1254  710658690886586372                80                  80  \n",
              "1274  709198395643068416                45                  50  \n",
              "1351  704054845121142784                60                  50  \n",
              "1433  697463031882764288                44                  40  \n",
              "1635  684222868335505415               121                 110  \n",
              "1662  682962037429899265                 7                  11  \n",
              "1779  677716515794329600               144                 120  \n",
              "1843  675853064436391936                88                  80  \n",
              "2335  666287406224695296                 1                   2  "
            ]
          },
          "execution_count": 218,
          "metadata": {},
          "output_type": "execute_result"
        }
      ],
      "source": [
        "#It looks like the vast majority of the denomiators are 10. \n",
        "#Checking to see if the others may have been written in error or just in jest. \n",
        "#Just the original tweets, no retweets.\n",
        "rank_mask = (twitter_archive.rating_denominator != 10) & \\\n",
        "            twitter_archive.in_reply_to_status_id.isna() & \\\n",
        "            twitter_archive.retweeted_status_id.isna()\n",
        "\n",
        "col_mask = ['text', 'tweet_id', 'rating_numerator', 'rating_denominator']\n",
        "twitter_archive[rank_mask][col_mask]"
      ]
    },
    {
      "cell_type": "markdown",
      "id": "ae521039",
      "metadata": {
        "id": "ae521039"
      },
      "source": [
        "Most of these are groups of dogs, howver some are indeed incorrectly scrapped.\n",
        "\n",
        "`810984652412424192` - Not a rating, just a link to click. Just drop.\n",
        "\n",
        "`740373189193256964` - 9/11 Needs changed to 14/10\n",
        "\n",
        "`722974582966214656` - Change 4/20 to 13/10\n",
        "\n",
        "`716439118184652801` - Change 50/50 to 11/10\n",
        "\n",
        "`682962037429899265` - Change 7/11 to 10/10\n",
        "\n",
        "`666287406224695296` - Change 1/2 to 9/10."
      ]
    },
    {
      "cell_type": "code",
      "execution_count": null,
      "id": "43efac8e",
      "metadata": {
        "id": "43efac8e",
        "outputId": "16a1b0f2-875d-4019-bdd3-c522f090024a"
      },
      "outputs": [
        {
          "data": {
            "text/plain": [
              "0"
            ]
          },
          "execution_count": 219,
          "metadata": {},
          "output_type": "execute_result"
        }
      ],
      "source": [
        "twitter_archive.duplicated().sum()"
      ]
    },
    {
      "cell_type": "code",
      "execution_count": null,
      "id": "1762d768",
      "metadata": {
        "id": "1762d768",
        "outputId": "55543769-0334-4c15-d667-25d102d2b5c6"
      },
      "outputs": [
        {
          "data": {
            "text/plain": [
              "0"
            ]
          },
          "execution_count": 220,
          "metadata": {},
          "output_type": "execute_result"
        }
      ],
      "source": [
        "twitter_archive.tweet_id.duplicated().sum() \n",
        "#There aren't any duplicated ID's for combination purposes later on."
      ]
    },
    {
      "cell_type": "code",
      "execution_count": null,
      "id": "621d55b9",
      "metadata": {
        "id": "621d55b9",
        "outputId": "7eba7a21-339f-4940-f052-7d1da84d96ae"
      },
      "outputs": [
        {
          "name": "stdout",
          "output_type": "stream",
          "text": [
            "<class 'pandas.core.frame.DataFrame'>\n",
            "RangeIndex: 2356 entries, 0 to 2355\n",
            "Data columns (total 17 columns):\n",
            " #   Column                      Non-Null Count  Dtype  \n",
            "---  ------                      --------------  -----  \n",
            " 0   tweet_id                    2356 non-null   int64  \n",
            " 1   in_reply_to_status_id       78 non-null     float64\n",
            " 2   in_reply_to_user_id         78 non-null     float64\n",
            " 3   timestamp                   2356 non-null   object \n",
            " 4   source                      2356 non-null   object \n",
            " 5   text                        2356 non-null   object \n",
            " 6   retweeted_status_id         181 non-null    float64\n",
            " 7   retweeted_status_user_id    181 non-null    float64\n",
            " 8   retweeted_status_timestamp  181 non-null    object \n",
            " 9   expanded_urls               2297 non-null   object \n",
            " 10  rating_numerator            2356 non-null   int64  \n",
            " 11  rating_denominator          2356 non-null   int64  \n",
            " 12  name                        2356 non-null   object \n",
            " 13  doggo                       2356 non-null   object \n",
            " 14  floofer                     2356 non-null   object \n",
            " 15  pupper                      2356 non-null   object \n",
            " 16  puppo                       2356 non-null   object \n",
            "dtypes: float64(4), int64(3), object(10)\n",
            "memory usage: 313.0+ KB\n"
          ]
        }
      ],
      "source": [
        "twitter_archive.info()"
      ]
    },
    {
      "cell_type": "code",
      "execution_count": null,
      "id": "c3a0719b",
      "metadata": {
        "id": "c3a0719b",
        "outputId": "ef7756e0-5a70-432c-c3f2-6db1e0f9365e"
      },
      "outputs": [
        {
          "name": "stdout",
          "output_type": "stream",
          "text": [
            "None     2259\n",
            "doggo      97\n",
            "Name: doggo, dtype: int64 None      2099\n",
            "pupper     257\n",
            "Name: pupper, dtype: int64 None     2326\n",
            "puppo      30\n",
            "Name: puppo, dtype: int64 None       2346\n",
            "floofer      10\n",
            "Name: floofer, dtype: int64\n"
          ]
        }
      ],
      "source": [
        "x = twitter_archive.doggo.value_counts()\n",
        "y = twitter_archive.pupper.value_counts()\n",
        "z = twitter_archive.puppo.value_counts()\n",
        "a = twitter_archive.floofer.value_counts()\n",
        "print(x, y, z, a)\n",
        "#Not all dogs are \"rated\", the vast majority are not. \n",
        "#It also appears there are multiple versions of each style. Doggo, doggo, doggos, etc."
      ]
    },
    {
      "cell_type": "code",
      "execution_count": null,
      "id": "6f9aaff2",
      "metadata": {
        "id": "6f9aaff2",
        "outputId": "e1711100-1d95-4e91-8d2d-8e89637b5b91"
      },
      "outputs": [
        {
          "data": {
            "text/plain": [
              "None          745\n",
              "a              55\n",
              "Charlie        12\n",
              "Cooper         11\n",
              "Lucy           11\n",
              "             ... \n",
              "Dex             1\n",
              "Ace             1\n",
              "Tayzie          1\n",
              "Grizzie         1\n",
              "Christoper      1\n",
              "Name: name, Length: 957, dtype: int64"
            ]
          },
          "execution_count": 223,
          "metadata": {},
          "output_type": "execute_result"
        }
      ],
      "source": [
        "twitter_archive.name.value_counts() \n",
        "#the top name \"a\" seems like a typo or placeholder. It's unlikely anyone\n",
        "#would name thier dog that, let alone 55 seperate people."
      ]
    },
    {
      "cell_type": "code",
      "execution_count": null,
      "id": "adf59657",
      "metadata": {
        "id": "adf59657",
        "outputId": "2b95940f-91a2-4918-a0bd-b4480475816a"
      },
      "outputs": [
        {
          "data": {
            "text/plain": [
              "a               55\n",
              "actually         2\n",
              "all              1\n",
              "an               7\n",
              "by               1\n",
              "getting          2\n",
              "his              1\n",
              "incredibly       1\n",
              "infuriating      1\n",
              "just             4\n",
              "life             1\n",
              "light            1\n",
              "mad              2\n",
              "my               1\n",
              "not              2\n",
              "officially       1\n",
              "old              1\n",
              "one              4\n",
              "quite            4\n",
              "space            1\n",
              "such             1\n",
              "the              8\n",
              "this             1\n",
              "unacceptable     1\n",
              "very             5\n",
              "Name: name, dtype: int64"
            ]
          },
          "execution_count": 224,
          "metadata": {},
          "output_type": "execute_result"
        }
      ],
      "source": [
        "# All the non capitalzied \"names\" and/or letters\n",
        "non_cap = twitter_archive.name.str.contains('^[a-z]', regex = True)\n",
        "twitter_archive[non_cap].name.value_counts().sort_index()"
      ]
    },
    {
      "cell_type": "code",
      "execution_count": null,
      "id": "f2a85914",
      "metadata": {
        "id": "f2a85914",
        "outputId": "4d9f83af-2a27-476e-adea-41bf95fdf629"
      },
      "outputs": [
        {
          "data": {
            "text/html": [
              "<div>\n",
              "<style scoped>\n",
              "    .dataframe tbody tr th:only-of-type {\n",
              "        vertical-align: middle;\n",
              "    }\n",
              "\n",
              "    .dataframe tbody tr th {\n",
              "        vertical-align: top;\n",
              "    }\n",
              "\n",
              "    .dataframe thead th {\n",
              "        text-align: right;\n",
              "    }\n",
              "</style>\n",
              "<table border=\"1\" class=\"dataframe\">\n",
              "  <thead>\n",
              "    <tr style=\"text-align: right;\">\n",
              "      <th></th>\n",
              "      <th>22</th>\n",
              "      <th>56</th>\n",
              "      <th>118</th>\n",
              "      <th>169</th>\n",
              "      <th>193</th>\n",
              "      <th>335</th>\n",
              "      <th>369</th>\n",
              "      <th>542</th>\n",
              "      <th>649</th>\n",
              "      <th>682</th>\n",
              "      <th>...</th>\n",
              "      <th>2335</th>\n",
              "      <th>2345</th>\n",
              "      <th>2346</th>\n",
              "      <th>2347</th>\n",
              "      <th>2348</th>\n",
              "      <th>2349</th>\n",
              "      <th>2350</th>\n",
              "      <th>2352</th>\n",
              "      <th>2353</th>\n",
              "      <th>2354</th>\n",
              "    </tr>\n",
              "  </thead>\n",
              "  <tbody>\n",
              "    <tr>\n",
              "      <th>tweet_id</th>\n",
              "      <td>887517139158093824</td>\n",
              "      <td>881536004380872706</td>\n",
              "      <td>869988702071779329</td>\n",
              "      <td>859196978902773760</td>\n",
              "      <td>855459453768019968</td>\n",
              "      <td>832645525019123713</td>\n",
              "      <td>828650029636317184</td>\n",
              "      <td>806219024703037440</td>\n",
              "      <td>792913359805018113</td>\n",
              "      <td>788552643979468800</td>\n",
              "      <td>...</td>\n",
              "      <td>666287406224695296</td>\n",
              "      <td>666063827256086533</td>\n",
              "      <td>666058600524156928</td>\n",
              "      <td>666057090499244032</td>\n",
              "      <td>666055525042405380</td>\n",
              "      <td>666051853826850816</td>\n",
              "      <td>666050758794694657</td>\n",
              "      <td>666044226329800704</td>\n",
              "      <td>666033412701032449</td>\n",
              "      <td>666029285002620928</td>\n",
              "    </tr>\n",
              "    <tr>\n",
              "      <th>in_reply_to_status_id</th>\n",
              "      <td>NaN</td>\n",
              "      <td>NaN</td>\n",
              "      <td>NaN</td>\n",
              "      <td>NaN</td>\n",
              "      <td>NaN</td>\n",
              "      <td>NaN</td>\n",
              "      <td>NaN</td>\n",
              "      <td>NaN</td>\n",
              "      <td>NaN</td>\n",
              "      <td>NaN</td>\n",
              "      <td>...</td>\n",
              "      <td>NaN</td>\n",
              "      <td>NaN</td>\n",
              "      <td>NaN</td>\n",
              "      <td>NaN</td>\n",
              "      <td>NaN</td>\n",
              "      <td>NaN</td>\n",
              "      <td>NaN</td>\n",
              "      <td>NaN</td>\n",
              "      <td>NaN</td>\n",
              "      <td>NaN</td>\n",
              "    </tr>\n",
              "    <tr>\n",
              "      <th>in_reply_to_user_id</th>\n",
              "      <td>NaN</td>\n",
              "      <td>NaN</td>\n",
              "      <td>NaN</td>\n",
              "      <td>NaN</td>\n",
              "      <td>NaN</td>\n",
              "      <td>NaN</td>\n",
              "      <td>NaN</td>\n",
              "      <td>NaN</td>\n",
              "      <td>NaN</td>\n",
              "      <td>NaN</td>\n",
              "      <td>...</td>\n",
              "      <td>NaN</td>\n",
              "      <td>NaN</td>\n",
              "      <td>NaN</td>\n",
              "      <td>NaN</td>\n",
              "      <td>NaN</td>\n",
              "      <td>NaN</td>\n",
              "      <td>NaN</td>\n",
              "      <td>NaN</td>\n",
              "      <td>NaN</td>\n",
              "      <td>NaN</td>\n",
              "    </tr>\n",
              "    <tr>\n",
              "      <th>timestamp</th>\n",
              "      <td>2017-07-19 03:39:09 +0000</td>\n",
              "      <td>2017-07-02 15:32:16 +0000</td>\n",
              "      <td>2017-05-31 18:47:24 +0000</td>\n",
              "      <td>2017-05-02 00:04:57 +0000</td>\n",
              "      <td>2017-04-21 16:33:22 +0000</td>\n",
              "      <td>2017-02-17 17:38:57 +0000</td>\n",
              "      <td>2017-02-06 17:02:17 +0000</td>\n",
              "      <td>2016-12-06 19:29:28 +0000</td>\n",
              "      <td>2016-10-31 02:17:31 +0000</td>\n",
              "      <td>2016-10-19 01:29:35 +0000</td>\n",
              "      <td>...</td>\n",
              "      <td>2015-11-16 16:11:11 +0000</td>\n",
              "      <td>2015-11-16 01:22:45 +0000</td>\n",
              "      <td>2015-11-16 01:01:59 +0000</td>\n",
              "      <td>2015-11-16 00:55:59 +0000</td>\n",
              "      <td>2015-11-16 00:49:46 +0000</td>\n",
              "      <td>2015-11-16 00:35:11 +0000</td>\n",
              "      <td>2015-11-16 00:30:50 +0000</td>\n",
              "      <td>2015-11-16 00:04:52 +0000</td>\n",
              "      <td>2015-11-15 23:21:54 +0000</td>\n",
              "      <td>2015-11-15 23:05:30 +0000</td>\n",
              "    </tr>\n",
              "    <tr>\n",
              "      <th>source</th>\n",
              "      <td>&lt;a href=\"http://twitter.com/download/iphone\" rel=\"nofollow\"&gt;Twitter for iPhone&lt;/a&gt;</td>\n",
              "      <td>&lt;a href=\"http://twitter.com/download/iphone\" rel=\"nofollow\"&gt;Twitter for iPhone&lt;/a&gt;</td>\n",
              "      <td>&lt;a href=\"http://twitter.com/download/iphone\" rel=\"nofollow\"&gt;Twitter for iPhone&lt;/a&gt;</td>\n",
              "      <td>&lt;a href=\"http://twitter.com/download/iphone\" rel=\"nofollow\"&gt;Twitter for iPhone&lt;/a&gt;</td>\n",
              "      <td>&lt;a href=\"http://twitter.com/download/iphone\" rel=\"nofollow\"&gt;Twitter for iPhone&lt;/a&gt;</td>\n",
              "      <td>&lt;a href=\"http://twitter.com\" rel=\"nofollow\"&gt;Twitter Web Client&lt;/a&gt;</td>\n",
              "      <td>&lt;a href=\"http://twitter.com/download/iphone\" rel=\"nofollow\"&gt;Twitter for iPhone&lt;/a&gt;</td>\n",
              "      <td>&lt;a href=\"http://twitter.com/download/iphone\" rel=\"nofollow\"&gt;Twitter for iPhone&lt;/a&gt;</td>\n",
              "      <td>&lt;a href=\"http://twitter.com/download/iphone\" rel=\"nofollow\"&gt;Twitter for iPhone&lt;/a&gt;</td>\n",
              "      <td>&lt;a href=\"http://twitter.com/download/iphone\" rel=\"nofollow\"&gt;Twitter for iPhone&lt;/a&gt;</td>\n",
              "      <td>...</td>\n",
              "      <td>&lt;a href=\"http://twitter.com/download/iphone\" rel=\"nofollow\"&gt;Twitter for iPhone&lt;/a&gt;</td>\n",
              "      <td>&lt;a href=\"http://twitter.com/download/iphone\" rel=\"nofollow\"&gt;Twitter for iPhone&lt;/a&gt;</td>\n",
              "      <td>&lt;a href=\"http://twitter.com/download/iphone\" rel=\"nofollow\"&gt;Twitter for iPhone&lt;/a&gt;</td>\n",
              "      <td>&lt;a href=\"http://twitter.com/download/iphone\" rel=\"nofollow\"&gt;Twitter for iPhone&lt;/a&gt;</td>\n",
              "      <td>&lt;a href=\"http://twitter.com/download/iphone\" rel=\"nofollow\"&gt;Twitter for iPhone&lt;/a&gt;</td>\n",
              "      <td>&lt;a href=\"http://twitter.com/download/iphone\" rel=\"nofollow\"&gt;Twitter for iPhone&lt;/a&gt;</td>\n",
              "      <td>&lt;a href=\"http://twitter.com/download/iphone\" rel=\"nofollow\"&gt;Twitter for iPhone&lt;/a&gt;</td>\n",
              "      <td>&lt;a href=\"http://twitter.com/download/iphone\" rel=\"nofollow\"&gt;Twitter for iPhone&lt;/a&gt;</td>\n",
              "      <td>&lt;a href=\"http://twitter.com/download/iphone\" rel=\"nofollow\"&gt;Twitter for iPhone&lt;/a&gt;</td>\n",
              "      <td>&lt;a href=\"http://twitter.com/download/iphone\" rel=\"nofollow\"&gt;Twitter for iPhone&lt;/a&gt;</td>\n",
              "    </tr>\n",
              "  </tbody>\n",
              "</table>\n",
              "<p>5 rows × 109 columns</p>\n",
              "</div>"
            ],
            "text/plain": [
              "                                                                                                     22    \\\n",
              "tweet_id                                                                               887517139158093824   \n",
              "in_reply_to_status_id                                                                                 NaN   \n",
              "in_reply_to_user_id                                                                                   NaN   \n",
              "timestamp                                                                       2017-07-19 03:39:09 +0000   \n",
              "source                 <a href=\"http://twitter.com/download/iphone\" rel=\"nofollow\">Twitter for iPhone</a>   \n",
              "\n",
              "                                                                                                     56    \\\n",
              "tweet_id                                                                               881536004380872706   \n",
              "in_reply_to_status_id                                                                                 NaN   \n",
              "in_reply_to_user_id                                                                                   NaN   \n",
              "timestamp                                                                       2017-07-02 15:32:16 +0000   \n",
              "source                 <a href=\"http://twitter.com/download/iphone\" rel=\"nofollow\">Twitter for iPhone</a>   \n",
              "\n",
              "                                                                                                     118   \\\n",
              "tweet_id                                                                               869988702071779329   \n",
              "in_reply_to_status_id                                                                                 NaN   \n",
              "in_reply_to_user_id                                                                                   NaN   \n",
              "timestamp                                                                       2017-05-31 18:47:24 +0000   \n",
              "source                 <a href=\"http://twitter.com/download/iphone\" rel=\"nofollow\">Twitter for iPhone</a>   \n",
              "\n",
              "                                                                                                     169   \\\n",
              "tweet_id                                                                               859196978902773760   \n",
              "in_reply_to_status_id                                                                                 NaN   \n",
              "in_reply_to_user_id                                                                                   NaN   \n",
              "timestamp                                                                       2017-05-02 00:04:57 +0000   \n",
              "source                 <a href=\"http://twitter.com/download/iphone\" rel=\"nofollow\">Twitter for iPhone</a>   \n",
              "\n",
              "                                                                                                     193   \\\n",
              "tweet_id                                                                               855459453768019968   \n",
              "in_reply_to_status_id                                                                                 NaN   \n",
              "in_reply_to_user_id                                                                                   NaN   \n",
              "timestamp                                                                       2017-04-21 16:33:22 +0000   \n",
              "source                 <a href=\"http://twitter.com/download/iphone\" rel=\"nofollow\">Twitter for iPhone</a>   \n",
              "\n",
              "                                                                                     335   \\\n",
              "tweet_id                                                               832645525019123713   \n",
              "in_reply_to_status_id                                                                 NaN   \n",
              "in_reply_to_user_id                                                                   NaN   \n",
              "timestamp                                                       2017-02-17 17:38:57 +0000   \n",
              "source                 <a href=\"http://twitter.com\" rel=\"nofollow\">Twitter Web Client</a>   \n",
              "\n",
              "                                                                                                     369   \\\n",
              "tweet_id                                                                               828650029636317184   \n",
              "in_reply_to_status_id                                                                                 NaN   \n",
              "in_reply_to_user_id                                                                                   NaN   \n",
              "timestamp                                                                       2017-02-06 17:02:17 +0000   \n",
              "source                 <a href=\"http://twitter.com/download/iphone\" rel=\"nofollow\">Twitter for iPhone</a>   \n",
              "\n",
              "                                                                                                     542   \\\n",
              "tweet_id                                                                               806219024703037440   \n",
              "in_reply_to_status_id                                                                                 NaN   \n",
              "in_reply_to_user_id                                                                                   NaN   \n",
              "timestamp                                                                       2016-12-06 19:29:28 +0000   \n",
              "source                 <a href=\"http://twitter.com/download/iphone\" rel=\"nofollow\">Twitter for iPhone</a>   \n",
              "\n",
              "                                                                                                     649   \\\n",
              "tweet_id                                                                               792913359805018113   \n",
              "in_reply_to_status_id                                                                                 NaN   \n",
              "in_reply_to_user_id                                                                                   NaN   \n",
              "timestamp                                                                       2016-10-31 02:17:31 +0000   \n",
              "source                 <a href=\"http://twitter.com/download/iphone\" rel=\"nofollow\">Twitter for iPhone</a>   \n",
              "\n",
              "                                                                                                     682   \\\n",
              "tweet_id                                                                               788552643979468800   \n",
              "in_reply_to_status_id                                                                                 NaN   \n",
              "in_reply_to_user_id                                                                                   NaN   \n",
              "timestamp                                                                       2016-10-19 01:29:35 +0000   \n",
              "source                 <a href=\"http://twitter.com/download/iphone\" rel=\"nofollow\">Twitter for iPhone</a>   \n",
              "\n",
              "                       ...  \\\n",
              "tweet_id               ...   \n",
              "in_reply_to_status_id  ...   \n",
              "in_reply_to_user_id    ...   \n",
              "timestamp              ...   \n",
              "source                 ...   \n",
              "\n",
              "                                                                                                     2335  \\\n",
              "tweet_id                                                                               666287406224695296   \n",
              "in_reply_to_status_id                                                                                 NaN   \n",
              "in_reply_to_user_id                                                                                   NaN   \n",
              "timestamp                                                                       2015-11-16 16:11:11 +0000   \n",
              "source                 <a href=\"http://twitter.com/download/iphone\" rel=\"nofollow\">Twitter for iPhone</a>   \n",
              "\n",
              "                                                                                                     2345  \\\n",
              "tweet_id                                                                               666063827256086533   \n",
              "in_reply_to_status_id                                                                                 NaN   \n",
              "in_reply_to_user_id                                                                                   NaN   \n",
              "timestamp                                                                       2015-11-16 01:22:45 +0000   \n",
              "source                 <a href=\"http://twitter.com/download/iphone\" rel=\"nofollow\">Twitter for iPhone</a>   \n",
              "\n",
              "                                                                                                     2346  \\\n",
              "tweet_id                                                                               666058600524156928   \n",
              "in_reply_to_status_id                                                                                 NaN   \n",
              "in_reply_to_user_id                                                                                   NaN   \n",
              "timestamp                                                                       2015-11-16 01:01:59 +0000   \n",
              "source                 <a href=\"http://twitter.com/download/iphone\" rel=\"nofollow\">Twitter for iPhone</a>   \n",
              "\n",
              "                                                                                                     2347  \\\n",
              "tweet_id                                                                               666057090499244032   \n",
              "in_reply_to_status_id                                                                                 NaN   \n",
              "in_reply_to_user_id                                                                                   NaN   \n",
              "timestamp                                                                       2015-11-16 00:55:59 +0000   \n",
              "source                 <a href=\"http://twitter.com/download/iphone\" rel=\"nofollow\">Twitter for iPhone</a>   \n",
              "\n",
              "                                                                                                     2348  \\\n",
              "tweet_id                                                                               666055525042405380   \n",
              "in_reply_to_status_id                                                                                 NaN   \n",
              "in_reply_to_user_id                                                                                   NaN   \n",
              "timestamp                                                                       2015-11-16 00:49:46 +0000   \n",
              "source                 <a href=\"http://twitter.com/download/iphone\" rel=\"nofollow\">Twitter for iPhone</a>   \n",
              "\n",
              "                                                                                                     2349  \\\n",
              "tweet_id                                                                               666051853826850816   \n",
              "in_reply_to_status_id                                                                                 NaN   \n",
              "in_reply_to_user_id                                                                                   NaN   \n",
              "timestamp                                                                       2015-11-16 00:35:11 +0000   \n",
              "source                 <a href=\"http://twitter.com/download/iphone\" rel=\"nofollow\">Twitter for iPhone</a>   \n",
              "\n",
              "                                                                                                     2350  \\\n",
              "tweet_id                                                                               666050758794694657   \n",
              "in_reply_to_status_id                                                                                 NaN   \n",
              "in_reply_to_user_id                                                                                   NaN   \n",
              "timestamp                                                                       2015-11-16 00:30:50 +0000   \n",
              "source                 <a href=\"http://twitter.com/download/iphone\" rel=\"nofollow\">Twitter for iPhone</a>   \n",
              "\n",
              "                                                                                                     2352  \\\n",
              "tweet_id                                                                               666044226329800704   \n",
              "in_reply_to_status_id                                                                                 NaN   \n",
              "in_reply_to_user_id                                                                                   NaN   \n",
              "timestamp                                                                       2015-11-16 00:04:52 +0000   \n",
              "source                 <a href=\"http://twitter.com/download/iphone\" rel=\"nofollow\">Twitter for iPhone</a>   \n",
              "\n",
              "                                                                                                     2353  \\\n",
              "tweet_id                                                                               666033412701032449   \n",
              "in_reply_to_status_id                                                                                 NaN   \n",
              "in_reply_to_user_id                                                                                   NaN   \n",
              "timestamp                                                                       2015-11-15 23:21:54 +0000   \n",
              "source                 <a href=\"http://twitter.com/download/iphone\" rel=\"nofollow\">Twitter for iPhone</a>   \n",
              "\n",
              "                                                                                                     2354  \n",
              "tweet_id                                                                               666029285002620928  \n",
              "in_reply_to_status_id                                                                                 NaN  \n",
              "in_reply_to_user_id                                                                                   NaN  \n",
              "timestamp                                                                       2015-11-15 23:05:30 +0000  \n",
              "source                 <a href=\"http://twitter.com/download/iphone\" rel=\"nofollow\">Twitter for iPhone</a>  \n",
              "\n",
              "[5 rows x 109 columns]"
            ]
          },
          "execution_count": 225,
          "metadata": {},
          "output_type": "execute_result"
        }
      ],
      "source": [
        "name_check = twitter_archive[non_cap].T\n",
        "name_check.head()\n",
        "#After viewing these they all truely don't contain a name, just a silly description.\n",
        "#I'll leave them in, but use a query when doing an analysis."
      ]
    },
    {
      "cell_type": "markdown",
      "id": "53fe8c45",
      "metadata": {
        "id": "53fe8c45"
      },
      "source": [
        "## `image_pred` Assessment"
      ]
    },
    {
      "cell_type": "code",
      "execution_count": null,
      "id": "b7336b6a",
      "metadata": {
        "id": "b7336b6a",
        "outputId": "470913fa-7feb-45c5-b56c-7378e8628513"
      },
      "outputs": [
        {
          "data": {
            "text/html": [
              "<div>\n",
              "<style scoped>\n",
              "    .dataframe tbody tr th:only-of-type {\n",
              "        vertical-align: middle;\n",
              "    }\n",
              "\n",
              "    .dataframe tbody tr th {\n",
              "        vertical-align: top;\n",
              "    }\n",
              "\n",
              "    .dataframe thead th {\n",
              "        text-align: right;\n",
              "    }\n",
              "</style>\n",
              "<table border=\"1\" class=\"dataframe\">\n",
              "  <thead>\n",
              "    <tr style=\"text-align: right;\">\n",
              "      <th></th>\n",
              "      <th>tweet_id</th>\n",
              "      <th>jpg_url</th>\n",
              "      <th>img_num</th>\n",
              "      <th>p1</th>\n",
              "      <th>p1_conf</th>\n",
              "      <th>p1_dog</th>\n",
              "      <th>p2</th>\n",
              "      <th>p2_conf</th>\n",
              "      <th>p2_dog</th>\n",
              "      <th>p3</th>\n",
              "      <th>p3_conf</th>\n",
              "      <th>p3_dog</th>\n",
              "    </tr>\n",
              "  </thead>\n",
              "  <tbody>\n",
              "    <tr>\n",
              "      <th>1242</th>\n",
              "      <td>747204161125646336</td>\n",
              "      <td>https://pbs.twimg.com/media/Cl6aOBhWEAALuti.jpg</td>\n",
              "      <td>2</td>\n",
              "      <td>coil</td>\n",
              "      <td>0.533699</td>\n",
              "      <td>False</td>\n",
              "      <td>dugong</td>\n",
              "      <td>0.087959</td>\n",
              "      <td>False</td>\n",
              "      <td>rain_barrel</td>\n",
              "      <td>0.039221</td>\n",
              "      <td>False</td>\n",
              "    </tr>\n",
              "    <tr>\n",
              "      <th>1337</th>\n",
              "      <td>758405701903519748</td>\n",
              "      <td>https://pbs.twimg.com/media/CoZl9fXWgAMox0n.jpg</td>\n",
              "      <td>4</td>\n",
              "      <td>Chesapeake_Bay_retriever</td>\n",
              "      <td>0.702954</td>\n",
              "      <td>True</td>\n",
              "      <td>laptop</td>\n",
              "      <td>0.092277</td>\n",
              "      <td>False</td>\n",
              "      <td>notebook</td>\n",
              "      <td>0.032727</td>\n",
              "      <td>False</td>\n",
              "    </tr>\n",
              "    <tr>\n",
              "      <th>110</th>\n",
              "      <td>667886921285246976</td>\n",
              "      <td>https://pbs.twimg.com/media/CUTPnPCW4AI7R0y.jpg</td>\n",
              "      <td>1</td>\n",
              "      <td>Pomeranian</td>\n",
              "      <td>0.800432</td>\n",
              "      <td>True</td>\n",
              "      <td>Pekinese</td>\n",
              "      <td>0.168445</td>\n",
              "      <td>True</td>\n",
              "      <td>Chihuahua</td>\n",
              "      <td>0.008950</td>\n",
              "      <td>True</td>\n",
              "    </tr>\n",
              "    <tr>\n",
              "      <th>2056</th>\n",
              "      <td>888554962724278272</td>\n",
              "      <td>https://pbs.twimg.com/media/DFTH_O-UQAACu20.jpg</td>\n",
              "      <td>3</td>\n",
              "      <td>Siberian_husky</td>\n",
              "      <td>0.700377</td>\n",
              "      <td>True</td>\n",
              "      <td>Eskimo_dog</td>\n",
              "      <td>0.166511</td>\n",
              "      <td>True</td>\n",
              "      <td>malamute</td>\n",
              "      <td>0.111411</td>\n",
              "      <td>True</td>\n",
              "    </tr>\n",
              "    <tr>\n",
              "      <th>1034</th>\n",
              "      <td>711732680602345472</td>\n",
              "      <td>https://pbs.twimg.com/media/CeCVGEbUYAASeY4.jpg</td>\n",
              "      <td>3</td>\n",
              "      <td>dingo</td>\n",
              "      <td>0.366875</td>\n",
              "      <td>False</td>\n",
              "      <td>Ibizan_hound</td>\n",
              "      <td>0.334929</td>\n",
              "      <td>True</td>\n",
              "      <td>Eskimo_dog</td>\n",
              "      <td>0.073876</td>\n",
              "      <td>True</td>\n",
              "    </tr>\n",
              "  </tbody>\n",
              "</table>\n",
              "</div>"
            ],
            "text/plain": [
              "                tweet_id                                          jpg_url  \\\n",
              "1242  747204161125646336  https://pbs.twimg.com/media/Cl6aOBhWEAALuti.jpg   \n",
              "1337  758405701903519748  https://pbs.twimg.com/media/CoZl9fXWgAMox0n.jpg   \n",
              "110   667886921285246976  https://pbs.twimg.com/media/CUTPnPCW4AI7R0y.jpg   \n",
              "2056  888554962724278272  https://pbs.twimg.com/media/DFTH_O-UQAACu20.jpg   \n",
              "1034  711732680602345472  https://pbs.twimg.com/media/CeCVGEbUYAASeY4.jpg   \n",
              "\n",
              "      img_num                        p1   p1_conf  p1_dog            p2  \\\n",
              "1242        2                      coil  0.533699   False        dugong   \n",
              "1337        4  Chesapeake_Bay_retriever  0.702954    True        laptop   \n",
              "110         1                Pomeranian  0.800432    True      Pekinese   \n",
              "2056        3            Siberian_husky  0.700377    True    Eskimo_dog   \n",
              "1034        3                     dingo  0.366875   False  Ibizan_hound   \n",
              "\n",
              "       p2_conf  p2_dog           p3   p3_conf  p3_dog  \n",
              "1242  0.087959   False  rain_barrel  0.039221   False  \n",
              "1337  0.092277   False     notebook  0.032727   False  \n",
              "110   0.168445    True    Chihuahua  0.008950    True  \n",
              "2056  0.166511    True     malamute  0.111411    True  \n",
              "1034  0.334929    True   Eskimo_dog  0.073876    True  "
            ]
          },
          "execution_count": 226,
          "metadata": {},
          "output_type": "execute_result"
        }
      ],
      "source": [
        "image_pred.sample(5)"
      ]
    },
    {
      "cell_type": "code",
      "execution_count": null,
      "id": "bf9052f0",
      "metadata": {
        "id": "bf9052f0",
        "outputId": "c76278b4-eb74-43c6-90ac-8ac7b4b46d6f"
      },
      "outputs": [
        {
          "data": {
            "text/plain": [
              "tweet_id    2075\n",
              "jpg_url     2009\n",
              "img_num        4\n",
              "p1           378\n",
              "p1_conf     2006\n",
              "p1_dog         2\n",
              "p2           405\n",
              "p2_conf     2004\n",
              "p2_dog         2\n",
              "p3           408\n",
              "p3_conf     2006\n",
              "p3_dog         2\n",
              "dtype: int64"
            ]
          },
          "execution_count": 227,
          "metadata": {},
          "output_type": "execute_result"
        }
      ],
      "source": [
        "image_pred.nunique()\n",
        "#There aren't the same number of URL's as tweet_id's. Suggesting not all the tweets had images, and are perhaps retweets or replies."
      ]
    },
    {
      "cell_type": "code",
      "execution_count": null,
      "id": "8af04132",
      "metadata": {
        "id": "8af04132",
        "outputId": "619f2c86-bdd9-4e85-afa3-07174e5a5082"
      },
      "outputs": [
        {
          "data": {
            "text/plain": [
              "66"
            ]
          },
          "execution_count": 228,
          "metadata": {},
          "output_type": "execute_result"
        }
      ],
      "source": [
        "image_pred['jpg_url'].duplicated().sum()\n",
        "#There are 66 image urls duplicated, so possibly multiple predictions of the same image."
      ]
    },
    {
      "cell_type": "code",
      "execution_count": null,
      "id": "b7902e55",
      "metadata": {
        "id": "b7902e55",
        "outputId": "dc95f37d-93ef-471c-a24b-2b8d90948c41"
      },
      "outputs": [
        {
          "data": {
            "text/plain": [
              "False    2009\n",
              "True       66\n",
              "Name: jpg_url, dtype: int64"
            ]
          },
          "execution_count": 229,
          "metadata": {},
          "output_type": "execute_result"
        }
      ],
      "source": [
        "image_pred['jpg_url'].duplicated().value_counts()"
      ]
    },
    {
      "cell_type": "code",
      "execution_count": null,
      "id": "3e8c0f59",
      "metadata": {
        "id": "3e8c0f59",
        "outputId": "0fb51ae3-03e1-4088-9bf2-e333851ea7dc"
      },
      "outputs": [
        {
          "data": {
            "text/plain": [
              "0"
            ]
          },
          "execution_count": 230,
          "metadata": {},
          "output_type": "execute_result"
        }
      ],
      "source": [
        "image_pred.duplicated().sum()"
      ]
    },
    {
      "cell_type": "code",
      "execution_count": null,
      "id": "1d00d23c",
      "metadata": {
        "id": "1d00d23c",
        "outputId": "1ba5324c-0d25-419f-8668-6461b0013cd4"
      },
      "outputs": [
        {
          "data": {
            "text/plain": [
              "0"
            ]
          },
          "execution_count": 231,
          "metadata": {},
          "output_type": "execute_result"
        }
      ],
      "source": [
        "image_pred.tweet_id.duplicated().sum()\n",
        "#no duplicate ID's for combining purposes later on."
      ]
    },
    {
      "cell_type": "code",
      "execution_count": null,
      "id": "103d00c9",
      "metadata": {
        "id": "103d00c9",
        "outputId": "e130d97a-0246-4850-f487-29022f309dcc"
      },
      "outputs": [
        {
          "name": "stdout",
          "output_type": "stream",
          "text": [
            "<class 'pandas.core.frame.DataFrame'>\n",
            "RangeIndex: 2075 entries, 0 to 2074\n",
            "Data columns (total 12 columns):\n",
            " #   Column    Non-Null Count  Dtype  \n",
            "---  ------    --------------  -----  \n",
            " 0   tweet_id  2075 non-null   int64  \n",
            " 1   jpg_url   2075 non-null   object \n",
            " 2   img_num   2075 non-null   int64  \n",
            " 3   p1        2075 non-null   object \n",
            " 4   p1_conf   2075 non-null   float64\n",
            " 5   p1_dog    2075 non-null   bool   \n",
            " 6   p2        2075 non-null   object \n",
            " 7   p2_conf   2075 non-null   float64\n",
            " 8   p2_dog    2075 non-null   bool   \n",
            " 9   p3        2075 non-null   object \n",
            " 10  p3_conf   2075 non-null   float64\n",
            " 11  p3_dog    2075 non-null   bool   \n",
            "dtypes: bool(3), float64(3), int64(2), object(4)\n",
            "memory usage: 152.1+ KB\n"
          ]
        }
      ],
      "source": [
        "image_pred.info()"
      ]
    },
    {
      "cell_type": "code",
      "execution_count": null,
      "id": "c446187e",
      "metadata": {
        "id": "c446187e",
        "outputId": "2929b8e4-0428-4c41-a30c-cfcbed8e54b8"
      },
      "outputs": [
        {
          "data": {
            "text/plain": [
              "golden_retriever      150\n",
              "Labrador_retriever    100\n",
              "Pembroke               89\n",
              "Chihuahua              83\n",
              "pug                    57\n",
              "                     ... \n",
              "pillow                  1\n",
              "carousel                1\n",
              "bald_eagle              1\n",
              "lorikeet                1\n",
              "orange                  1\n",
              "Name: p1, Length: 378, dtype: int64"
            ]
          },
          "execution_count": 233,
          "metadata": {},
          "output_type": "execute_result"
        }
      ],
      "source": [
        "image_pred.p1.value_counts()"
      ]
    },
    {
      "cell_type": "code",
      "execution_count": null,
      "id": "d76147ef",
      "metadata": {
        "id": "d76147ef",
        "outputId": "0ea1ee04-e85c-4b88-86e5-02008775d06f"
      },
      "outputs": [
        {
          "data": {
            "text/plain": [
              "Labrador_retriever    104\n",
              "golden_retriever       92\n",
              "Cardigan               73\n",
              "Chihuahua              44\n",
              "Pomeranian             42\n",
              "                     ... \n",
              "medicine_chest          1\n",
              "quail                   1\n",
              "horse_cart              1\n",
              "waffle_iron             1\n",
              "bagel                   1\n",
              "Name: p2, Length: 405, dtype: int64"
            ]
          },
          "execution_count": 234,
          "metadata": {},
          "output_type": "execute_result"
        }
      ],
      "source": [
        "image_pred.p2.value_counts()"
      ]
    },
    {
      "cell_type": "code",
      "execution_count": null,
      "id": "606d19b1",
      "metadata": {
        "id": "606d19b1",
        "outputId": "37739772-aa02-4d54-91f4-4e0edb3e07b0"
      },
      "outputs": [
        {
          "data": {
            "text/plain": [
              "Labrador_retriever    79\n",
              "Chihuahua             58\n",
              "golden_retriever      48\n",
              "Eskimo_dog            38\n",
              "kelpie                35\n",
              "                      ..\n",
              "ox                     1\n",
              "assault_rifle          1\n",
              "axolotl                1\n",
              "pot                    1\n",
              "banana                 1\n",
              "Name: p3, Length: 408, dtype: int64"
            ]
          },
          "execution_count": 235,
          "metadata": {},
          "output_type": "execute_result"
        }
      ],
      "source": [
        "image_pred.p3.value_counts()"
      ]
    },
    {
      "cell_type": "markdown",
      "id": "c7361ebc",
      "metadata": {
        "id": "c7361ebc"
      },
      "source": [
        "## `tweet_json` Assessment"
      ]
    },
    {
      "cell_type": "code",
      "execution_count": null,
      "id": "a3e65e81",
      "metadata": {
        "id": "a3e65e81",
        "outputId": "aa4223b7-9653-43bb-8d53-6bf90ada1881"
      },
      "outputs": [
        {
          "name": "stdout",
          "output_type": "stream",
          "text": [
            "<class 'pandas.core.frame.DataFrame'>\n",
            "RangeIndex: 2354 entries, 0 to 2353\n",
            "Data columns (total 3 columns):\n",
            " #   Column          Non-Null Count  Dtype\n",
            "---  ------          --------------  -----\n",
            " 0   tweet_id        2354 non-null   int64\n",
            " 1   retweet_count   2354 non-null   int64\n",
            " 2   favorite_count  2354 non-null   int64\n",
            "dtypes: int64(3)\n",
            "memory usage: 55.3 KB\n"
          ]
        }
      ],
      "source": [
        "tweet_json.info()"
      ]
    },
    {
      "cell_type": "markdown",
      "id": "11baa9b6",
      "metadata": {
        "id": "11baa9b6"
      },
      "source": [
        "### Quality issues\n",
        "1. The Datatype for dog styles should be category. (twitter_archive)\n",
        "\n",
        "2. Timestamp should be in datetime format, not object in twitter_archive. Also remove the “+0000”. (twitter_archive)\n",
        "\n",
        "3. Some of the tweets have inccorect values for ranking, as other fractions were listed before the correct ranking was in the tweet. \n",
        "\n",
        "4. There are versions of dog stlyes that are technically the same, but written differently. Doggo, doggo, doggos, etc. (imgage_pred)\n",
        "\n",
        "5. There are a few jpg_url duplicates. They appear to be related to retweets. (Image Pred)\n",
        "\n",
        "6. Not every dog gets a doggo “rank”. Can’t use it for an overall analysis, might be able to do a mini analysis on just the ranks.\n",
        "\n",
        "7. There are retweets and replies, I only want the original ratings to not mess up the analysis down the line. (twitter_archive)\n",
        "\n",
        "8. Some of the names look wrong for some of the dogs. “A” is not a name. (twitter_archive)\n"
      ]
    },
    {
      "cell_type": "markdown",
      "id": "1ffe5c42",
      "metadata": {
        "id": "1ffe5c42"
      },
      "source": [
        "### Tidiness issues\n",
        "1. The URL's in `twitter_archive` are still in HTML format. It would be easier to read and visually assess what's happening if I extract only the text and remove all the uneeded HTML.\n",
        "\n",
        "2.Dog “rank” (doggo, puppo, floof, etc.) should just be one column."
      ]
    },
    {
      "cell_type": "markdown",
      "id": "a1eed41b",
      "metadata": {
        "id": "a1eed41b"
      },
      "source": [
        "## Cleaning Data\n",
        "\n",
        "Cleaning will be done in a Define, Code, Test framework. Where I define the problem, code the solution, then test it to make sure it works."
      ]
    },
    {
      "cell_type": "code",
      "execution_count": null,
      "id": "3d4ad63d",
      "metadata": {
        "id": "3d4ad63d"
      },
      "outputs": [],
      "source": [
        "# Make copies of original pieces of data\n",
        "twitter_archive_c = twitter_archive.copy()\n",
        "image_pred_c = image_pred.copy()\n",
        "tweet_json_c = tweet_json.copy()"
      ]
    },
    {
      "cell_type": "markdown",
      "id": "74330409",
      "metadata": {
        "id": "74330409"
      },
      "source": [
        "# Cleaning `twitter_archive_c`"
      ]
    },
    {
      "cell_type": "markdown",
      "id": "87d16294",
      "metadata": {
        "id": "87d16294"
      },
      "source": [
        "### Issue #1: In `twitter_archive_c` \"timestamp\" should be in datetime format."
      ]
    },
    {
      "cell_type": "markdown",
      "id": "5057c1bd",
      "metadata": {
        "id": "5057c1bd"
      },
      "source": [
        "#### Define\n",
        "Change timestamp from object to datetime64."
      ]
    },
    {
      "cell_type": "markdown",
      "id": "f7eb1d0b",
      "metadata": {
        "id": "f7eb1d0b"
      },
      "source": [
        "#### Code"
      ]
    },
    {
      "cell_type": "code",
      "execution_count": null,
      "id": "bf8135f6",
      "metadata": {
        "id": "bf8135f6"
      },
      "outputs": [],
      "source": [
        "twitter_archive_c.timestamp = pd.to_datetime(twitter_archive_c.timestamp)"
      ]
    },
    {
      "cell_type": "markdown",
      "id": "1a0d964f",
      "metadata": {
        "id": "1a0d964f"
      },
      "source": [
        "#### Test"
      ]
    },
    {
      "cell_type": "code",
      "execution_count": null,
      "id": "274084e8",
      "metadata": {
        "id": "274084e8",
        "outputId": "6960b3e6-b27b-40bd-965d-ae951ad9ddca"
      },
      "outputs": [
        {
          "name": "stdout",
          "output_type": "stream",
          "text": [
            "<class 'pandas.core.frame.DataFrame'>\n",
            "RangeIndex: 2356 entries, 0 to 2355\n",
            "Data columns (total 17 columns):\n",
            " #   Column                      Non-Null Count  Dtype              \n",
            "---  ------                      --------------  -----              \n",
            " 0   tweet_id                    2356 non-null   int64              \n",
            " 1   in_reply_to_status_id       78 non-null     float64            \n",
            " 2   in_reply_to_user_id         78 non-null     float64            \n",
            " 3   timestamp                   2356 non-null   datetime64[ns, UTC]\n",
            " 4   source                      2356 non-null   object             \n",
            " 5   text                        2356 non-null   object             \n",
            " 6   retweeted_status_id         181 non-null    float64            \n",
            " 7   retweeted_status_user_id    181 non-null    float64            \n",
            " 8   retweeted_status_timestamp  181 non-null    object             \n",
            " 9   expanded_urls               2297 non-null   object             \n",
            " 10  rating_numerator            2356 non-null   int64              \n",
            " 11  rating_denominator          2356 non-null   int64              \n",
            " 12  name                        2356 non-null   object             \n",
            " 13  doggo                       2356 non-null   object             \n",
            " 14  floofer                     2356 non-null   object             \n",
            " 15  pupper                      2356 non-null   object             \n",
            " 16  puppo                       2356 non-null   object             \n",
            "dtypes: datetime64[ns, UTC](1), float64(4), int64(3), object(9)\n",
            "memory usage: 313.0+ KB\n"
          ]
        }
      ],
      "source": [
        "twitter_archive_c.info()"
      ]
    },
    {
      "cell_type": "markdown",
      "id": "aa6d51f9",
      "metadata": {
        "id": "aa6d51f9"
      },
      "source": [
        "## Issue # 2: We only want original content, not retweets."
      ]
    },
    {
      "cell_type": "markdown",
      "id": "4234b3e0",
      "metadata": {
        "id": "4234b3e0"
      },
      "source": [
        "#### Define: From `twitter_archive_c` we need to remove replies and retweets. "
      ]
    },
    {
      "cell_type": "markdown",
      "id": "b22f2c4c",
      "metadata": {
        "id": "b22f2c4c"
      },
      "source": [
        "#### Code"
      ]
    },
    {
      "cell_type": "code",
      "execution_count": null,
      "id": "bbca86b0",
      "metadata": {
        "id": "bbca86b0"
      },
      "outputs": [],
      "source": [
        "#Remove any rows not containing any NaN values. Then, drop the uneeded columns.\n",
        "replies = (~twitter_archive_c.in_reply_to_status_id.isnull())\n",
        "#There are 76 total.\n",
        "\n",
        "twitter_archive_c = twitter_archive_c[~replies]"
      ]
    },
    {
      "cell_type": "code",
      "execution_count": null,
      "id": "24c0d844",
      "metadata": {
        "id": "24c0d844"
      },
      "outputs": [],
      "source": [
        "rt = (~twitter_archive_c.retweeted_status_id.isnull())\n",
        "# There are 181 total.\n",
        "\n",
        "twitter_archive_c = twitter_archive_c[~rt]"
      ]
    },
    {
      "cell_type": "code",
      "execution_count": null,
      "id": "e786eaa7",
      "metadata": {
        "id": "e786eaa7",
        "outputId": "156a8add-ea8c-4e59-fcb1-1c0302a4d4f9"
      },
      "outputs": [
        {
          "name": "stdout",
          "output_type": "stream",
          "text": [
            "<class 'pandas.core.frame.DataFrame'>\n",
            "Int64Index: 2097 entries, 0 to 2355\n",
            "Data columns (total 17 columns):\n",
            " #   Column                      Non-Null Count  Dtype              \n",
            "---  ------                      --------------  -----              \n",
            " 0   tweet_id                    2097 non-null   int64              \n",
            " 1   in_reply_to_status_id       0 non-null      float64            \n",
            " 2   in_reply_to_user_id         0 non-null      float64            \n",
            " 3   timestamp                   2097 non-null   datetime64[ns, UTC]\n",
            " 4   source                      2097 non-null   object             \n",
            " 5   text                        2097 non-null   object             \n",
            " 6   retweeted_status_id         0 non-null      float64            \n",
            " 7   retweeted_status_user_id    0 non-null      float64            \n",
            " 8   retweeted_status_timestamp  0 non-null      object             \n",
            " 9   expanded_urls               2094 non-null   object             \n",
            " 10  rating_numerator            2097 non-null   int64              \n",
            " 11  rating_denominator          2097 non-null   int64              \n",
            " 12  name                        2097 non-null   object             \n",
            " 13  doggo                       2097 non-null   object             \n",
            " 14  floofer                     2097 non-null   object             \n",
            " 15  pupper                      2097 non-null   object             \n",
            " 16  puppo                       2097 non-null   object             \n",
            "dtypes: datetime64[ns, UTC](1), float64(4), int64(3), object(9)\n",
            "memory usage: 294.9+ KB\n"
          ]
        }
      ],
      "source": [
        "twitter_archive_c.info()"
      ]
    },
    {
      "cell_type": "code",
      "execution_count": null,
      "id": "f1149e69",
      "metadata": {
        "id": "f1149e69"
      },
      "outputs": [],
      "source": [
        "#I know I can make this all one line for easier coding, but for whatever reason,\n",
        "#I keep getting KeyErrors for any other way I code it.\n",
        "twitter_archive_c = twitter_archive_c.drop(['retweeted_status_id'], axis=1)\n",
        "twitter_archive_c = twitter_archive_c.drop(['retweeted_status_user_id'], axis=1)\n",
        "twitter_archive_c = twitter_archive_c.drop(['retweeted_status_timestamp'], axis=1)\n",
        "twitter_archive_c = twitter_archive_c.drop(['in_reply_to_status_id'], axis=1)\n",
        "twitter_archive_c = twitter_archive_c.drop(['in_reply_to_user_id'], axis=1)"
      ]
    },
    {
      "cell_type": "markdown",
      "id": "091b1f6c",
      "metadata": {
        "id": "091b1f6c"
      },
      "source": [
        "#### Test"
      ]
    },
    {
      "cell_type": "code",
      "execution_count": null,
      "id": "4b2dbc18",
      "metadata": {
        "id": "4b2dbc18",
        "outputId": "ee994e19-5760-4b40-f966-0dd1707e2a2b"
      },
      "outputs": [
        {
          "name": "stdout",
          "output_type": "stream",
          "text": [
            "<class 'pandas.core.frame.DataFrame'>\n",
            "Int64Index: 2097 entries, 0 to 2355\n",
            "Data columns (total 12 columns):\n",
            " #   Column              Non-Null Count  Dtype              \n",
            "---  ------              --------------  -----              \n",
            " 0   tweet_id            2097 non-null   int64              \n",
            " 1   timestamp           2097 non-null   datetime64[ns, UTC]\n",
            " 2   source              2097 non-null   object             \n",
            " 3   text                2097 non-null   object             \n",
            " 4   expanded_urls       2094 non-null   object             \n",
            " 5   rating_numerator    2097 non-null   int64              \n",
            " 6   rating_denominator  2097 non-null   int64              \n",
            " 7   name                2097 non-null   object             \n",
            " 8   doggo               2097 non-null   object             \n",
            " 9   floofer             2097 non-null   object             \n",
            " 10  pupper              2097 non-null   object             \n",
            " 11  puppo               2097 non-null   object             \n",
            "dtypes: datetime64[ns, UTC](1), int64(3), object(8)\n",
            "memory usage: 213.0+ KB\n"
          ]
        }
      ],
      "source": [
        "twitter_archive_c.info()"
      ]
    },
    {
      "cell_type": "markdown",
      "id": "3411ed4b",
      "metadata": {
        "id": "3411ed4b"
      },
      "source": [
        "#### Test "
      ]
    },
    {
      "cell_type": "markdown",
      "id": "dde2c571",
      "metadata": {
        "id": "dde2c571"
      },
      "source": [
        "### Issue #3: In `twitter_archive_c` there are dog names that aren't actual names.\n",
        "\n",
        "- Luckily, it appears all the actual names are all capitalized. It appears we can run a check to see if any uncapitalized letters or words are actually just accidental additions to the name column. I'll do a manual check to see if there are any actual names, if not I'll just make them NaN."
      ]
    },
    {
      "cell_type": "markdown",
      "id": "8028086c",
      "metadata": {
        "id": "8028086c"
      },
      "source": [
        "#### Code"
      ]
    },
    {
      "cell_type": "code",
      "execution_count": null,
      "id": "4ff39ee3",
      "metadata": {
        "id": "4ff39ee3",
        "outputId": "ce3f0f28-c32e-4292-b462-b5c72e1852cb"
      },
      "outputs": [
        {
          "data": {
            "text/plain": [
              "a               55\n",
              "actually         2\n",
              "all              1\n",
              "an               6\n",
              "by               1\n",
              "getting          2\n",
              "his              1\n",
              "incredibly       1\n",
              "infuriating      1\n",
              "just             3\n",
              "life             1\n",
              "light            1\n",
              "mad              1\n",
              "my               1\n",
              "not              2\n",
              "officially       1\n",
              "old              1\n",
              "one              4\n",
              "quite            3\n",
              "space            1\n",
              "such             1\n",
              "the              8\n",
              "this             1\n",
              "unacceptable     1\n",
              "very             4\n",
              "Name: name, dtype: int64"
            ]
          },
          "execution_count": 652,
          "metadata": {},
          "output_type": "execute_result"
        }
      ],
      "source": [
        "# All the non capitalzied \"names\" and/or letters\n",
        "non_cap = twitter_archive_c.name.str.contains('^[a-z]', regex = True)\n",
        "twitter_archive_c[non_cap].name.value_counts().sort_index()"
      ]
    },
    {
      "cell_type": "code",
      "execution_count": null,
      "id": "945f4ff7",
      "metadata": {
        "id": "945f4ff7"
      },
      "outputs": [],
      "source": [
        "twitter_archive_c.loc[non_cap, 'name'] = \"None\"\n",
        "twitter_archive_c['name'].replace('None', np.nan, inplace=True)"
      ]
    },
    {
      "cell_type": "markdown",
      "id": "d6c1c404",
      "metadata": {
        "id": "d6c1c404"
      },
      "source": [
        "#### Test"
      ]
    },
    {
      "cell_type": "code",
      "execution_count": null,
      "id": "92ae9b58",
      "metadata": {
        "id": "92ae9b58",
        "outputId": "94904f18-27cd-4c01-d970-17c6bce84555"
      },
      "outputs": [
        {
          "data": {
            "text/plain": [
              "0     Phineas\n",
              "1       Tilly\n",
              "2      Archie\n",
              "3       Darla\n",
              "4    Franklin\n",
              "5         NaN\n",
              "6         Jax\n",
              "7         NaN\n",
              "8        Zoey\n",
              "9      Cassie\n",
              "Name: name, dtype: object"
            ]
          },
          "execution_count": 654,
          "metadata": {},
          "output_type": "execute_result"
        }
      ],
      "source": [
        "twitter_archive_c.name.head(10)"
      ]
    },
    {
      "cell_type": "code",
      "execution_count": null,
      "id": "a33c973a",
      "metadata": {
        "id": "a33c973a",
        "outputId": "a71ef1ad-59c5-4b72-e85e-48c6f68d6216"
      },
      "outputs": [
        {
          "data": {
            "text/plain": [
              "Charlie       11\n",
              "Lucy          11\n",
              "Oliver        10\n",
              "Cooper        10\n",
              "Penny          9\n",
              "              ..\n",
              "Shelby         1\n",
              "Sephie         1\n",
              "Bonaparte      1\n",
              "Wishes         1\n",
              "Christoper     1\n",
              "Name: name, Length: 929, dtype: int64"
            ]
          },
          "execution_count": 655,
          "metadata": {},
          "output_type": "execute_result"
        }
      ],
      "source": [
        "twitter_archive_c.name.value_counts()"
      ]
    },
    {
      "cell_type": "markdown",
      "id": "c9f77fb8",
      "metadata": {
        "id": "c9f77fb8"
      },
      "source": [
        "### Issue # 4 Not every dog gets a doggo “type”. And there are redundant columns we can remove for tidyness."
      ]
    },
    {
      "cell_type": "markdown",
      "id": "2eff8e58",
      "metadata": {
        "id": "2eff8e58"
      },
      "source": [
        "#### Define\n",
        "\n",
        "- take the three dog stages and make a new column with the combined data named `dog_stage`. Then drop the 3 original columns, leaving only the cleaned one.\n",
        "\n",
        "- There are 11 tweets in the dataset that have more than one dog stage. In order to avoid dropping them entirely it's going to be the first rank in ascending order. The order being doggo, floofer, pupper, puppo."
      ]
    },
    {
      "cell_type": "markdown",
      "id": "3f7752dd",
      "metadata": {
        "id": "3f7752dd"
      },
      "source": [
        "#### Code"
      ]
    },
    {
      "cell_type": "code",
      "execution_count": null,
      "id": "45b6ee82",
      "metadata": {
        "id": "45b6ee82"
      },
      "outputs": [],
      "source": [
        "#Trying to catch any version of the word, capitalized or not\n",
        "twitter_archive_c['doggo'] = twitter_archive_c['text'].str.extract('([Dd]+[Oo]+[Gg]+[Oo]+[Ss]*)')\n",
        "twitter_archive_c['floofer'] = twitter_archive_c['text'].str.extract('([Ff]+[Ll]+[Oo]+[Ff]+[Ee]+[Rr]+[Ss]*)')\n",
        "twitter_archive_c['pupper'] = twitter_archive_c['text'].str.extract('([Pp]+[Uu]+[Pp]+[Ee]+[Rr]+[Ss]*)')\n",
        "twitter_archive_c['puppo'] = twitter_archive_c['text'].str.extract('([Pp]+[Uu]+[Pp]+[Oo]+[Ss]*)')"
      ]
    },
    {
      "cell_type": "markdown",
      "id": "fe66667e",
      "metadata": {
        "id": "fe66667e"
      },
      "source": [
        "#### Test"
      ]
    },
    {
      "cell_type": "code",
      "execution_count": null,
      "id": "a4d23bea",
      "metadata": {
        "id": "a4d23bea",
        "outputId": "1ca85b08-2f75-443c-ee9a-c870d6ad1500"
      },
      "outputs": [
        {
          "data": {
            "text/plain": [
              "doggo     75\n",
              "doggos     8\n",
              "Doggo      7\n",
              "DOGGO      1\n",
              "Name: doggo, dtype: int64"
            ]
          },
          "execution_count": 657,
          "metadata": {},
          "output_type": "execute_result"
        }
      ],
      "source": [
        "twitter_archive_c['doggo'].value_counts()"
      ]
    },
    {
      "cell_type": "code",
      "execution_count": null,
      "id": "44e123f1",
      "metadata": {
        "id": "44e123f1",
        "outputId": "ee9da622-9631-494d-d59f-7deece7cebeb"
      },
      "outputs": [
        {
          "data": {
            "text/plain": [
              "puppo     28\n",
              "Puppo      1\n",
              "puppos     1\n",
              "Name: puppo, dtype: int64"
            ]
          },
          "execution_count": 658,
          "metadata": {},
          "output_type": "execute_result"
        }
      ],
      "source": [
        "twitter_archive_c['puppo'].value_counts()"
      ]
    },
    {
      "cell_type": "code",
      "execution_count": null,
      "id": "7de5f739",
      "metadata": {
        "id": "7de5f739",
        "outputId": "0b0eac51-4684-4e46-e8bd-35d6d148257d"
      },
      "outputs": [
        {
          "data": {
            "text/plain": [
              "Floofer    6\n",
              "floofer    4\n",
              "Name: floofer, dtype: int64"
            ]
          },
          "execution_count": 659,
          "metadata": {},
          "output_type": "execute_result"
        }
      ],
      "source": [
        "twitter_archive_c['floofer'].value_counts()"
      ]
    },
    {
      "cell_type": "code",
      "execution_count": null,
      "id": "248745fe",
      "metadata": {
        "id": "248745fe",
        "outputId": "95e69a4f-aa06-44d9-822d-49c847db339c"
      },
      "outputs": [
        {
          "data": {
            "text/plain": [
              "pupper     221\n",
              "puppers     22\n",
              "Pupper       8\n",
              "PUPPER       4\n",
              "Name: pupper, dtype: int64"
            ]
          },
          "execution_count": 660,
          "metadata": {},
          "output_type": "execute_result"
        }
      ],
      "source": [
        "twitter_archive_c['pupper'].value_counts()"
      ]
    },
    {
      "cell_type": "code",
      "execution_count": null,
      "id": "fcc610d8",
      "metadata": {
        "id": "fcc610d8"
      },
      "outputs": [],
      "source": []
    },
    {
      "cell_type": "code",
      "execution_count": null,
      "id": "1d32aaea",
      "metadata": {
        "id": "1d32aaea"
      },
      "outputs": [],
      "source": [
        "#Combine the dog type colmns into one column.\n",
        "twitter_archive_c['dog_stage'] = twitter_archive_c.doggo.fillna(twitter_archive_c.floofer.fillna(twitter_archive_c.pupper.fillna(twitter_archive_c.puppo)))"
      ]
    },
    {
      "cell_type": "code",
      "execution_count": null,
      "id": "db93f89e",
      "metadata": {
        "id": "db93f89e",
        "outputId": "a91dd16d-3667-43e2-ff3e-ff2d06283ef8"
      },
      "outputs": [
        {
          "data": {
            "text/html": [
              "<div>\n",
              "<style scoped>\n",
              "    .dataframe tbody tr th:only-of-type {\n",
              "        vertical-align: middle;\n",
              "    }\n",
              "\n",
              "    .dataframe tbody tr th {\n",
              "        vertical-align: top;\n",
              "    }\n",
              "\n",
              "    .dataframe thead th {\n",
              "        text-align: right;\n",
              "    }\n",
              "</style>\n",
              "<table border=\"1\" class=\"dataframe\">\n",
              "  <thead>\n",
              "    <tr style=\"text-align: right;\">\n",
              "      <th></th>\n",
              "      <th>dog_stage</th>\n",
              "      <th>doggo</th>\n",
              "      <th>floofer</th>\n",
              "      <th>pupper</th>\n",
              "      <th>puppo</th>\n",
              "    </tr>\n",
              "  </thead>\n",
              "  <tbody>\n",
              "    <tr>\n",
              "      <th>1432</th>\n",
              "      <td>NaN</td>\n",
              "      <td>NaN</td>\n",
              "      <td>NaN</td>\n",
              "      <td>NaN</td>\n",
              "      <td>NaN</td>\n",
              "    </tr>\n",
              "    <tr>\n",
              "      <th>1578</th>\n",
              "      <td>NaN</td>\n",
              "      <td>NaN</td>\n",
              "      <td>NaN</td>\n",
              "      <td>NaN</td>\n",
              "      <td>NaN</td>\n",
              "    </tr>\n",
              "    <tr>\n",
              "      <th>969</th>\n",
              "      <td>NaN</td>\n",
              "      <td>NaN</td>\n",
              "      <td>NaN</td>\n",
              "      <td>NaN</td>\n",
              "      <td>NaN</td>\n",
              "    </tr>\n",
              "    <tr>\n",
              "      <th>1145</th>\n",
              "      <td>NaN</td>\n",
              "      <td>NaN</td>\n",
              "      <td>NaN</td>\n",
              "      <td>NaN</td>\n",
              "      <td>NaN</td>\n",
              "    </tr>\n",
              "    <tr>\n",
              "      <th>920</th>\n",
              "      <td>NaN</td>\n",
              "      <td>NaN</td>\n",
              "      <td>NaN</td>\n",
              "      <td>NaN</td>\n",
              "      <td>NaN</td>\n",
              "    </tr>\n",
              "    <tr>\n",
              "      <th>1210</th>\n",
              "      <td>NaN</td>\n",
              "      <td>NaN</td>\n",
              "      <td>NaN</td>\n",
              "      <td>NaN</td>\n",
              "      <td>NaN</td>\n",
              "    </tr>\n",
              "    <tr>\n",
              "      <th>703</th>\n",
              "      <td>NaN</td>\n",
              "      <td>NaN</td>\n",
              "      <td>NaN</td>\n",
              "      <td>NaN</td>\n",
              "      <td>NaN</td>\n",
              "    </tr>\n",
              "    <tr>\n",
              "      <th>1440</th>\n",
              "      <td>NaN</td>\n",
              "      <td>NaN</td>\n",
              "      <td>NaN</td>\n",
              "      <td>NaN</td>\n",
              "      <td>NaN</td>\n",
              "    </tr>\n",
              "    <tr>\n",
              "      <th>208</th>\n",
              "      <td>NaN</td>\n",
              "      <td>NaN</td>\n",
              "      <td>NaN</td>\n",
              "      <td>NaN</td>\n",
              "      <td>NaN</td>\n",
              "    </tr>\n",
              "    <tr>\n",
              "      <th>1765</th>\n",
              "      <td>NaN</td>\n",
              "      <td>NaN</td>\n",
              "      <td>NaN</td>\n",
              "      <td>NaN</td>\n",
              "      <td>NaN</td>\n",
              "    </tr>\n",
              "    <tr>\n",
              "      <th>1826</th>\n",
              "      <td>puppers</td>\n",
              "      <td>NaN</td>\n",
              "      <td>NaN</td>\n",
              "      <td>puppers</td>\n",
              "      <td>NaN</td>\n",
              "    </tr>\n",
              "    <tr>\n",
              "      <th>901</th>\n",
              "      <td>NaN</td>\n",
              "      <td>NaN</td>\n",
              "      <td>NaN</td>\n",
              "      <td>NaN</td>\n",
              "      <td>NaN</td>\n",
              "    </tr>\n",
              "    <tr>\n",
              "      <th>713</th>\n",
              "      <td>puppo</td>\n",
              "      <td>NaN</td>\n",
              "      <td>NaN</td>\n",
              "      <td>NaN</td>\n",
              "      <td>puppo</td>\n",
              "    </tr>\n",
              "    <tr>\n",
              "      <th>1652</th>\n",
              "      <td>pupper</td>\n",
              "      <td>NaN</td>\n",
              "      <td>NaN</td>\n",
              "      <td>pupper</td>\n",
              "      <td>NaN</td>\n",
              "    </tr>\n",
              "    <tr>\n",
              "      <th>820</th>\n",
              "      <td>NaN</td>\n",
              "      <td>NaN</td>\n",
              "      <td>NaN</td>\n",
              "      <td>NaN</td>\n",
              "      <td>NaN</td>\n",
              "    </tr>\n",
              "    <tr>\n",
              "      <th>1493</th>\n",
              "      <td>pupper</td>\n",
              "      <td>NaN</td>\n",
              "      <td>NaN</td>\n",
              "      <td>pupper</td>\n",
              "      <td>NaN</td>\n",
              "    </tr>\n",
              "    <tr>\n",
              "      <th>315</th>\n",
              "      <td>NaN</td>\n",
              "      <td>NaN</td>\n",
              "      <td>NaN</td>\n",
              "      <td>NaN</td>\n",
              "      <td>NaN</td>\n",
              "    </tr>\n",
              "    <tr>\n",
              "      <th>133</th>\n",
              "      <td>NaN</td>\n",
              "      <td>NaN</td>\n",
              "      <td>NaN</td>\n",
              "      <td>NaN</td>\n",
              "      <td>NaN</td>\n",
              "    </tr>\n",
              "    <tr>\n",
              "      <th>1406</th>\n",
              "      <td>NaN</td>\n",
              "      <td>NaN</td>\n",
              "      <td>NaN</td>\n",
              "      <td>NaN</td>\n",
              "      <td>NaN</td>\n",
              "    </tr>\n",
              "    <tr>\n",
              "      <th>2099</th>\n",
              "      <td>NaN</td>\n",
              "      <td>NaN</td>\n",
              "      <td>NaN</td>\n",
              "      <td>NaN</td>\n",
              "      <td>NaN</td>\n",
              "    </tr>\n",
              "  </tbody>\n",
              "</table>\n",
              "</div>"
            ],
            "text/plain": [
              "     dog_stage doggo floofer   pupper  puppo\n",
              "1432       NaN   NaN     NaN      NaN    NaN\n",
              "1578       NaN   NaN     NaN      NaN    NaN\n",
              "969        NaN   NaN     NaN      NaN    NaN\n",
              "1145       NaN   NaN     NaN      NaN    NaN\n",
              "920        NaN   NaN     NaN      NaN    NaN\n",
              "1210       NaN   NaN     NaN      NaN    NaN\n",
              "703        NaN   NaN     NaN      NaN    NaN\n",
              "1440       NaN   NaN     NaN      NaN    NaN\n",
              "208        NaN   NaN     NaN      NaN    NaN\n",
              "1765       NaN   NaN     NaN      NaN    NaN\n",
              "1826   puppers   NaN     NaN  puppers    NaN\n",
              "901        NaN   NaN     NaN      NaN    NaN\n",
              "713      puppo   NaN     NaN      NaN  puppo\n",
              "1652    pupper   NaN     NaN   pupper    NaN\n",
              "820        NaN   NaN     NaN      NaN    NaN\n",
              "1493    pupper   NaN     NaN   pupper    NaN\n",
              "315        NaN   NaN     NaN      NaN    NaN\n",
              "133        NaN   NaN     NaN      NaN    NaN\n",
              "1406       NaN   NaN     NaN      NaN    NaN\n",
              "2099       NaN   NaN     NaN      NaN    NaN"
            ]
          },
          "execution_count": 662,
          "metadata": {},
          "output_type": "execute_result"
        }
      ],
      "source": [
        "twitter_archive_c[['dog_stage', 'doggo', 'floofer', 'pupper', 'puppo']].sample(20)"
      ]
    },
    {
      "cell_type": "code",
      "execution_count": null,
      "id": "680b9359",
      "metadata": {
        "id": "680b9359",
        "outputId": "f97d7f76-a68c-460b-efb3-e18be861484a"
      },
      "outputs": [
        {
          "name": "stdout",
          "output_type": "stream",
          "text": [
            "<class 'pandas.core.frame.DataFrame'>\n",
            "Int64Index: 2097 entries, 0 to 2355\n",
            "Data columns (total 13 columns):\n",
            " #   Column              Non-Null Count  Dtype              \n",
            "---  ------              --------------  -----              \n",
            " 0   tweet_id            2097 non-null   int64              \n",
            " 1   timestamp           2097 non-null   datetime64[ns, UTC]\n",
            " 2   source              2097 non-null   object             \n",
            " 3   text                2097 non-null   object             \n",
            " 4   expanded_urls       2094 non-null   object             \n",
            " 5   rating_numerator    2097 non-null   int64              \n",
            " 6   rating_denominator  2097 non-null   int64              \n",
            " 7   name                1390 non-null   object             \n",
            " 8   doggo               91 non-null     object             \n",
            " 9   floofer             10 non-null     object             \n",
            " 10  pupper              255 non-null    object             \n",
            " 11  puppo               30 non-null     object             \n",
            " 12  dog_stage           374 non-null    object             \n",
            "dtypes: datetime64[ns, UTC](1), int64(3), object(9)\n",
            "memory usage: 229.4+ KB\n"
          ]
        }
      ],
      "source": [
        "twitter_archive_c.info()"
      ]
    },
    {
      "cell_type": "code",
      "execution_count": null,
      "id": "4eed53ba",
      "metadata": {
        "id": "4eed53ba"
      },
      "outputs": [],
      "source": [
        "# Remove the now uneeded columns.\n",
        "twitter_archive_c.drop(['doggo', \n",
        "                    'floofer', \n",
        "                    'pupper', \n",
        "                    'puppo'], axis=1, inplace=True)"
      ]
    },
    {
      "cell_type": "code",
      "execution_count": null,
      "id": "bc2144ae",
      "metadata": {
        "id": "bc2144ae"
      },
      "outputs": [],
      "source": [
        "# Making sure the dog_style datatype is categorical.\n",
        "twitter_archive_c['dog_stage'] = twitter_archive_c['dog_stage'].astype('category')"
      ]
    },
    {
      "cell_type": "markdown",
      "id": "a209ffd5",
      "metadata": {
        "id": "a209ffd5"
      },
      "source": [
        "#### Test"
      ]
    },
    {
      "cell_type": "code",
      "execution_count": null,
      "id": "5d66580e",
      "metadata": {
        "id": "5d66580e",
        "outputId": "19e3b6e9-b663-45ad-db2c-a2e26b658f33"
      },
      "outputs": [
        {
          "data": {
            "text/html": [
              "<div>\n",
              "<style scoped>\n",
              "    .dataframe tbody tr th:only-of-type {\n",
              "        vertical-align: middle;\n",
              "    }\n",
              "\n",
              "    .dataframe tbody tr th {\n",
              "        vertical-align: top;\n",
              "    }\n",
              "\n",
              "    .dataframe thead th {\n",
              "        text-align: right;\n",
              "    }\n",
              "</style>\n",
              "<table border=\"1\" class=\"dataframe\">\n",
              "  <thead>\n",
              "    <tr style=\"text-align: right;\">\n",
              "      <th></th>\n",
              "      <th>tweet_id</th>\n",
              "      <th>timestamp</th>\n",
              "      <th>source</th>\n",
              "      <th>text</th>\n",
              "      <th>expanded_urls</th>\n",
              "      <th>rating_numerator</th>\n",
              "      <th>rating_denominator</th>\n",
              "      <th>name</th>\n",
              "      <th>dog_stage</th>\n",
              "    </tr>\n",
              "  </thead>\n",
              "  <tbody>\n",
              "    <tr>\n",
              "      <th>481</th>\n",
              "      <td>815639385530101762</td>\n",
              "      <td>2017-01-01 19:22:38+00:00</td>\n",
              "      <td>&lt;a href=\"http://twitter.com/download/iphone\" rel=\"nofollow\"&gt;Twitter for iPhone&lt;/a&gt;</td>\n",
              "      <td>This is Titan. His nose is quite chilly. Requests to return to the indoors. 12/10 would boop to warm https://t.co/bLZuOh9sKy</td>\n",
              "      <td>https://twitter.com/dog_rates/status/815639385530101762/photo/1</td>\n",
              "      <td>12</td>\n",
              "      <td>10</td>\n",
              "      <td>Titan</td>\n",
              "      <td>NaN</td>\n",
              "    </tr>\n",
              "    <tr>\n",
              "      <th>837</th>\n",
              "      <td>767754930266464257</td>\n",
              "      <td>2016-08-22 16:06:54+00:00</td>\n",
              "      <td>&lt;a href=\"http://twitter.com/download/iphone\" rel=\"nofollow\"&gt;Twitter for iPhone&lt;/a&gt;</td>\n",
              "      <td>This is Philbert. His toilet broke and he doesn't know what to do. Trying not to panic. 11/10 furustrated af https://t.co/Nb68IsVb9O</td>\n",
              "      <td>https://twitter.com/dog_rates/status/767754930266464257/photo/1</td>\n",
              "      <td>11</td>\n",
              "      <td>10</td>\n",
              "      <td>Philbert</td>\n",
              "      <td>NaN</td>\n",
              "    </tr>\n",
              "    <tr>\n",
              "      <th>609</th>\n",
              "      <td>797545162159308800</td>\n",
              "      <td>2016-11-12 21:02:38+00:00</td>\n",
              "      <td>&lt;a href=\"http://twitter.com/download/iphone\" rel=\"nofollow\"&gt;Twitter for iPhone&lt;/a&gt;</td>\n",
              "      <td>This is Cassie. She steals things. Guilt increases slightly each time. 12/10 would forgive almost immediately https://t.co/Ia19irLwyB</td>\n",
              "      <td>https://twitter.com/dog_rates/status/797545162159308800/photo/1,https://twitter.com/dog_rates/status/797545162159308800/photo/1,https://twitter.com/dog_rates/status/797545162159308800/photo/1,https://twitter.com/dog_rates/status/797545162159308800/photo/1</td>\n",
              "      <td>12</td>\n",
              "      <td>10</td>\n",
              "      <td>Cassie</td>\n",
              "      <td>NaN</td>\n",
              "    </tr>\n",
              "    <tr>\n",
              "      <th>789</th>\n",
              "      <td>773985732834758656</td>\n",
              "      <td>2016-09-08 20:45:53+00:00</td>\n",
              "      <td>&lt;a href=\"http://twitter.com/download/iphone\" rel=\"nofollow\"&gt;Twitter for iPhone&lt;/a&gt;</td>\n",
              "      <td>Meet Winnie. She just made awkward eye contact with the driver beside her. Poor pupper panicked. 11/10 would comfort https://t.co/RFWtDqTnAz</td>\n",
              "      <td>https://twitter.com/dog_rates/status/773985732834758656/photo/1,https://twitter.com/dog_rates/status/773985732834758656/photo/1,https://twitter.com/dog_rates/status/773985732834758656/photo/1,https://twitter.com/dog_rates/status/773985732834758656/photo/1</td>\n",
              "      <td>11</td>\n",
              "      <td>10</td>\n",
              "      <td>Winnie</td>\n",
              "      <td>pupper</td>\n",
              "    </tr>\n",
              "    <tr>\n",
              "      <th>1482</th>\n",
              "      <td>693267061318012928</td>\n",
              "      <td>2016-01-30 02:58:42+00:00</td>\n",
              "      <td>&lt;a href=\"http://vine.co\" rel=\"nofollow\"&gt;Vine - Make a Scene&lt;/a&gt;</td>\n",
              "      <td>This is Oscar. He can wave. Friendly af. 12/10 would totally wave back (IG: Oscar.is.bear) https://t.co/waN6EW0wfM</td>\n",
              "      <td>https://vine.co/v/i5n2irFUYWv</td>\n",
              "      <td>12</td>\n",
              "      <td>10</td>\n",
              "      <td>Oscar</td>\n",
              "      <td>NaN</td>\n",
              "    </tr>\n",
              "  </tbody>\n",
              "</table>\n",
              "</div>"
            ],
            "text/plain": [
              "                tweet_id                 timestamp  \\\n",
              "481   815639385530101762 2017-01-01 19:22:38+00:00   \n",
              "837   767754930266464257 2016-08-22 16:06:54+00:00   \n",
              "609   797545162159308800 2016-11-12 21:02:38+00:00   \n",
              "789   773985732834758656 2016-09-08 20:45:53+00:00   \n",
              "1482  693267061318012928 2016-01-30 02:58:42+00:00   \n",
              "\n",
              "                                                                                  source  \\\n",
              "481   <a href=\"http://twitter.com/download/iphone\" rel=\"nofollow\">Twitter for iPhone</a>   \n",
              "837   <a href=\"http://twitter.com/download/iphone\" rel=\"nofollow\">Twitter for iPhone</a>   \n",
              "609   <a href=\"http://twitter.com/download/iphone\" rel=\"nofollow\">Twitter for iPhone</a>   \n",
              "789   <a href=\"http://twitter.com/download/iphone\" rel=\"nofollow\">Twitter for iPhone</a>   \n",
              "1482                     <a href=\"http://vine.co\" rel=\"nofollow\">Vine - Make a Scene</a>   \n",
              "\n",
              "                                                                                                                                              text  \\\n",
              "481                   This is Titan. His nose is quite chilly. Requests to return to the indoors. 12/10 would boop to warm https://t.co/bLZuOh9sKy   \n",
              "837           This is Philbert. His toilet broke and he doesn't know what to do. Trying not to panic. 11/10 furustrated af https://t.co/Nb68IsVb9O   \n",
              "609          This is Cassie. She steals things. Guilt increases slightly each time. 12/10 would forgive almost immediately https://t.co/Ia19irLwyB   \n",
              "789   Meet Winnie. She just made awkward eye contact with the driver beside her. Poor pupper panicked. 11/10 would comfort https://t.co/RFWtDqTnAz   \n",
              "1482                            This is Oscar. He can wave. Friendly af. 12/10 would totally wave back (IG: Oscar.is.bear) https://t.co/waN6EW0wfM   \n",
              "\n",
              "                                                                                                                                                                                                                                                        expanded_urls  \\\n",
              "481                                                                                                                                                                                                   https://twitter.com/dog_rates/status/815639385530101762/photo/1   \n",
              "837                                                                                                                                                                                                   https://twitter.com/dog_rates/status/767754930266464257/photo/1   \n",
              "609   https://twitter.com/dog_rates/status/797545162159308800/photo/1,https://twitter.com/dog_rates/status/797545162159308800/photo/1,https://twitter.com/dog_rates/status/797545162159308800/photo/1,https://twitter.com/dog_rates/status/797545162159308800/photo/1   \n",
              "789   https://twitter.com/dog_rates/status/773985732834758656/photo/1,https://twitter.com/dog_rates/status/773985732834758656/photo/1,https://twitter.com/dog_rates/status/773985732834758656/photo/1,https://twitter.com/dog_rates/status/773985732834758656/photo/1   \n",
              "1482                                                                                                                                                                                                                                    https://vine.co/v/i5n2irFUYWv   \n",
              "\n",
              "      rating_numerator  rating_denominator      name dog_stage  \n",
              "481                 12                  10     Titan       NaN  \n",
              "837                 11                  10  Philbert       NaN  \n",
              "609                 12                  10    Cassie       NaN  \n",
              "789                 11                  10    Winnie    pupper  \n",
              "1482                12                  10     Oscar       NaN  "
            ]
          },
          "execution_count": 666,
          "metadata": {},
          "output_type": "execute_result"
        }
      ],
      "source": [
        "twitter_archive_c.sample(5)"
      ]
    },
    {
      "cell_type": "code",
      "execution_count": null,
      "id": "1565a8a0",
      "metadata": {
        "id": "1565a8a0",
        "outputId": "b077764f-b2c4-4f6c-9e02-b38c557730fd"
      },
      "outputs": [
        {
          "name": "stdout",
          "output_type": "stream",
          "text": [
            "<class 'pandas.core.frame.DataFrame'>\n",
            "Int64Index: 2097 entries, 0 to 2355\n",
            "Data columns (total 9 columns):\n",
            " #   Column              Non-Null Count  Dtype              \n",
            "---  ------              --------------  -----              \n",
            " 0   tweet_id            2097 non-null   int64              \n",
            " 1   timestamp           2097 non-null   datetime64[ns, UTC]\n",
            " 2   source              2097 non-null   object             \n",
            " 3   text                2097 non-null   object             \n",
            " 4   expanded_urls       2094 non-null   object             \n",
            " 5   rating_numerator    2097 non-null   int64              \n",
            " 6   rating_denominator  2097 non-null   int64              \n",
            " 7   name                1390 non-null   object             \n",
            " 8   dog_stage           374 non-null    category           \n",
            "dtypes: category(1), datetime64[ns, UTC](1), int64(3), object(4)\n",
            "memory usage: 150.1+ KB\n"
          ]
        }
      ],
      "source": [
        "twitter_archive_c.info()"
      ]
    },
    {
      "cell_type": "markdown",
      "id": "9b2e4fad",
      "metadata": {
        "id": "9b2e4fad"
      },
      "source": [
        "## Issue # 5: The Source column has the HTML tags in it. If we remove them it will make the table much easier to read."
      ]
    },
    {
      "cell_type": "code",
      "execution_count": null,
      "id": "4a5f2b7c",
      "metadata": {
        "id": "4a5f2b7c",
        "outputId": "f0cc848d-08e1-4951-cc48-5917d8903450"
      },
      "outputs": [
        {
          "data": {
            "text/plain": [
              "<a href=\"http://twitter.com/download/iphone\" rel=\"nofollow\">Twitter for iPhone</a>     1964\n",
              "<a href=\"http://vine.co\" rel=\"nofollow\">Vine - Make a Scene</a>                          91\n",
              "<a href=\"http://twitter.com\" rel=\"nofollow\">Twitter Web Client</a>                       31\n",
              "<a href=\"https://about.twitter.com/products/tweetdeck\" rel=\"nofollow\">TweetDeck</a>      11\n",
              "Name: source, dtype: int64"
            ]
          },
          "execution_count": 668,
          "metadata": {},
          "output_type": "execute_result"
        }
      ],
      "source": [
        "#The current state of things\n",
        "twitter_archive_c.source.value_counts()"
      ]
    },
    {
      "cell_type": "markdown",
      "id": "9d8de4bf",
      "metadata": {
        "id": "9d8de4bf"
      },
      "source": [
        "#### Code"
      ]
    },
    {
      "cell_type": "code",
      "execution_count": null,
      "id": "d35af721",
      "metadata": {
        "id": "d35af721"
      },
      "outputs": [],
      "source": [
        "twitter_archive_c['source'] = twitter_archive_c['source'].str.extract('^<a.+>(.+)</a>$')"
      ]
    },
    {
      "cell_type": "code",
      "execution_count": null,
      "id": "0c19c3f3",
      "metadata": {
        "id": "0c19c3f3"
      },
      "outputs": [],
      "source": [
        "#While we're at it, going to remove the `expanded_urls` column for tidyness.\n",
        "twitter_archive_c.drop(['expanded_urls'], axis=1, inplace=True)"
      ]
    },
    {
      "cell_type": "markdown",
      "id": "7f45e18b",
      "metadata": {
        "id": "7f45e18b"
      },
      "source": [
        "### Test"
      ]
    },
    {
      "cell_type": "code",
      "execution_count": null,
      "id": "74eecb5d",
      "metadata": {
        "id": "74eecb5d",
        "outputId": "64c1df9f-ee45-4ad8-dabd-e36de832050c"
      },
      "outputs": [
        {
          "data": {
            "text/plain": [
              "Twitter for iPhone     1964\n",
              "Vine - Make a Scene      91\n",
              "Twitter Web Client       31\n",
              "TweetDeck                11\n",
              "Name: source, dtype: int64"
            ]
          },
          "execution_count": 671,
          "metadata": {},
          "output_type": "execute_result"
        }
      ],
      "source": [
        "twitter_archive_c.source.value_counts() #Much better"
      ]
    },
    {
      "cell_type": "markdown",
      "id": "7a6a3e9d",
      "metadata": {
        "id": "7a6a3e9d"
      },
      "source": [
        "### Issue # 6 : Some of the numerators and denomiators are incorrect because the scraped data shows fractions used in the tweet instead of the correct rating fraction at the end of the tweet.\n",
        "\n",
        "\n",
        "* `810984652412424192` - Not a rating, just a link to click. Just drop.\n",
        "* `740373189193256964` - 9/11 Needs changed to 14/10\n",
        "* `722974582966214656` - Change 4/20 to 13/10\n",
        "* `716439118184652801` - Change 50/50 to 11/10\n",
        "* `682962037429899265` - Change 7/11 to 10/10\n",
        "* `666287406224695296` - Change 1/2 to 9/10."
      ]
    },
    {
      "cell_type": "markdown",
      "id": "7669234d",
      "metadata": {
        "id": "7669234d"
      },
      "source": [
        "#### Code"
      ]
    },
    {
      "cell_type": "code",
      "execution_count": null,
      "id": "2ae76400",
      "metadata": {
        "id": "2ae76400"
      },
      "outputs": [],
      "source": [
        "fix = twitter_archive_c.tweet_id == 740373189193256964\n",
        "twitter_archive_c.loc[fix, 'rating_numerator'] = 14\n",
        "twitter_archive_c.loc[fix, 'rating_denominator'] = 10"
      ]
    },
    {
      "cell_type": "code",
      "execution_count": null,
      "id": "c0ed4d44",
      "metadata": {
        "id": "c0ed4d44"
      },
      "outputs": [],
      "source": [
        "fix = twitter_archive_c.tweet_id == 722974582966214656\n",
        "twitter_archive_c.loc[fix, 'rating_numerator'] = 13\n",
        "twitter_archive_c.loc[fix, 'rating_denominator'] = 10"
      ]
    },
    {
      "cell_type": "code",
      "execution_count": null,
      "id": "a3e70aa2",
      "metadata": {
        "id": "a3e70aa2"
      },
      "outputs": [],
      "source": [
        "fix = twitter_archive_c.tweet_id == 716439118184652801\n",
        "twitter_archive_c.loc[fix, 'rating_numerator'] = 11\n",
        "twitter_archive_c.loc[fix, 'rating_denominator'] = 10"
      ]
    },
    {
      "cell_type": "code",
      "execution_count": null,
      "id": "43095bbc",
      "metadata": {
        "id": "43095bbc"
      },
      "outputs": [],
      "source": [
        "fix = twitter_archive_c.tweet_id == 682962037429899265\n",
        "twitter_archive_c.loc[fix, 'rating_numerator'] = 10\n",
        "twitter_archive_c.loc[fix, 'rating_denominator'] = 10"
      ]
    },
    {
      "cell_type": "code",
      "execution_count": null,
      "id": "898fa04c",
      "metadata": {
        "id": "898fa04c"
      },
      "outputs": [],
      "source": [
        "fix = twitter_archive_c.tweet_id == 666287406224695296\n",
        "twitter_archive_c.loc[fix, 'rating_numerator'] = 9\n",
        "twitter_archive_c.loc[fix, 'rating_denominator'] = 10"
      ]
    },
    {
      "cell_type": "code",
      "execution_count": null,
      "id": "937e2f3c",
      "metadata": {
        "id": "937e2f3c"
      },
      "outputs": [],
      "source": [
        "#Dropping the tweet that is just a link.\n",
        "twitter_archive_c.drop(index=516, inplace=True)"
      ]
    },
    {
      "cell_type": "markdown",
      "id": "3ec42e83",
      "metadata": {
        "id": "3ec42e83"
      },
      "source": [
        "#### Test"
      ]
    },
    {
      "cell_type": "code",
      "execution_count": null,
      "id": "b1347ff9",
      "metadata": {
        "id": "b1347ff9",
        "outputId": "05485f11-e4b5-4794-be86-cd41d08ae8f8"
      },
      "outputs": [
        {
          "data": {
            "text/html": [
              "<div>\n",
              "<style scoped>\n",
              "    .dataframe tbody tr th:only-of-type {\n",
              "        vertical-align: middle;\n",
              "    }\n",
              "\n",
              "    .dataframe tbody tr th {\n",
              "        vertical-align: top;\n",
              "    }\n",
              "\n",
              "    .dataframe thead th {\n",
              "        text-align: right;\n",
              "    }\n",
              "</style>\n",
              "<table border=\"1\" class=\"dataframe\">\n",
              "  <thead>\n",
              "    <tr style=\"text-align: right;\">\n",
              "      <th></th>\n",
              "      <th>tweet_id</th>\n",
              "      <th>rating_numerator</th>\n",
              "      <th>rating_denominator</th>\n",
              "    </tr>\n",
              "  </thead>\n",
              "  <tbody>\n",
              "    <tr>\n",
              "      <th>1068</th>\n",
              "      <td>740373189193256964</td>\n",
              "      <td>14</td>\n",
              "      <td>10</td>\n",
              "    </tr>\n",
              "    <tr>\n",
              "      <th>1165</th>\n",
              "      <td>722974582966214656</td>\n",
              "      <td>13</td>\n",
              "      <td>10</td>\n",
              "    </tr>\n",
              "    <tr>\n",
              "      <th>1202</th>\n",
              "      <td>716439118184652801</td>\n",
              "      <td>11</td>\n",
              "      <td>10</td>\n",
              "    </tr>\n",
              "    <tr>\n",
              "      <th>1662</th>\n",
              "      <td>682962037429899265</td>\n",
              "      <td>10</td>\n",
              "      <td>10</td>\n",
              "    </tr>\n",
              "    <tr>\n",
              "      <th>2335</th>\n",
              "      <td>666287406224695296</td>\n",
              "      <td>9</td>\n",
              "      <td>10</td>\n",
              "    </tr>\n",
              "  </tbody>\n",
              "</table>\n",
              "</div>"
            ],
            "text/plain": [
              "                tweet_id  rating_numerator  rating_denominator\n",
              "1068  740373189193256964                14                  10\n",
              "1165  722974582966214656                13                  10\n",
              "1202  716439118184652801                11                  10\n",
              "1662  682962037429899265                10                  10\n",
              "2335  666287406224695296                 9                  10"
            ]
          },
          "execution_count": 678,
          "metadata": {},
          "output_type": "execute_result"
        }
      ],
      "source": [
        "check = ['tweet_id', 'rating_numerator', 'rating_denominator']\n",
        "twitter_archive_c[(twitter_archive_c.tweet_id == 740373189193256964) | \\\n",
        "              (twitter_archive_c.tweet_id == 722974582966214656) | \\\n",
        "              (twitter_archive_c.tweet_id == 716439118184652801) | \\\n",
        "              (twitter_archive_c.tweet_id == 682962037429899265) | \\\n",
        "              (twitter_archive_c.tweet_id == 666287406224695296) ][check]"
      ]
    },
    {
      "cell_type": "code",
      "execution_count": null,
      "id": "ef977822",
      "metadata": {
        "id": "ef977822",
        "outputId": "699b3514-5024-498e-a52f-f3d05d5d841f"
      },
      "outputs": [
        {
          "name": "stdout",
          "output_type": "stream",
          "text": [
            "<class 'pandas.core.frame.DataFrame'>\n",
            "Int64Index: 2096 entries, 0 to 2355\n",
            "Data columns (total 8 columns):\n",
            " #   Column              Non-Null Count  Dtype              \n",
            "---  ------              --------------  -----              \n",
            " 0   tweet_id            2096 non-null   int64              \n",
            " 1   timestamp           2096 non-null   datetime64[ns, UTC]\n",
            " 2   source              2096 non-null   object             \n",
            " 3   text                2096 non-null   object             \n",
            " 4   rating_numerator    2096 non-null   int64              \n",
            " 5   rating_denominator  2096 non-null   int64              \n",
            " 6   name                1389 non-null   object             \n",
            " 7   dog_stage           374 non-null    category           \n",
            "dtypes: category(1), datetime64[ns, UTC](1), int64(3), object(3)\n",
            "memory usage: 133.7+ KB\n"
          ]
        }
      ],
      "source": [
        "twitter_archive_c.info()\n",
        "#There is one less entry than before, the code for dropping the row worked"
      ]
    },
    {
      "cell_type": "markdown",
      "id": "d258b638",
      "metadata": {
        "id": "d258b638"
      },
      "source": [
        "## Cleaning `image_pred`"
      ]
    },
    {
      "cell_type": "markdown",
      "id": "c1c8ee82",
      "metadata": {
        "id": "c1c8ee82"
      },
      "source": [
        "### Issue # 7: There are pictures in the `image_pred` dataframe that are not of dogs."
      ]
    },
    {
      "cell_type": "markdown",
      "id": "a7c80896",
      "metadata": {
        "id": "a7c80896"
      },
      "source": [
        "#### Define: I'm going to query `image_pred` for any rows that do not contain at least one **True** value between the three dog guesses. This will leave only rows with correct dog guesses."
      ]
    },
    {
      "cell_type": "markdown",
      "id": "706ac6be",
      "metadata": {
        "id": "706ac6be"
      },
      "source": [
        "#### Code"
      ]
    },
    {
      "cell_type": "code",
      "execution_count": null,
      "id": "4250a91c",
      "metadata": {
        "id": "4250a91c",
        "outputId": "c83fafdd-af77-4146-95ec-c6df274bccbc"
      },
      "outputs": [
        {
          "name": "stdout",
          "output_type": "stream",
          "text": [
            "<class 'pandas.core.frame.DataFrame'>\n",
            "RangeIndex: 2075 entries, 0 to 2074\n",
            "Data columns (total 12 columns):\n",
            " #   Column    Non-Null Count  Dtype  \n",
            "---  ------    --------------  -----  \n",
            " 0   tweet_id  2075 non-null   int64  \n",
            " 1   jpg_url   2075 non-null   object \n",
            " 2   img_num   2075 non-null   int64  \n",
            " 3   p1        2075 non-null   object \n",
            " 4   p1_conf   2075 non-null   float64\n",
            " 5   p1_dog    2075 non-null   bool   \n",
            " 6   p2        2075 non-null   object \n",
            " 7   p2_conf   2075 non-null   float64\n",
            " 8   p2_dog    2075 non-null   bool   \n",
            " 9   p3        2075 non-null   object \n",
            " 10  p3_conf   2075 non-null   float64\n",
            " 11  p3_dog    2075 non-null   bool   \n",
            "dtypes: bool(3), float64(3), int64(2), object(4)\n",
            "memory usage: 152.1+ KB\n"
          ]
        }
      ],
      "source": [
        "image_pred_c.info()"
      ]
    },
    {
      "cell_type": "code",
      "execution_count": null,
      "id": "06595d6b",
      "metadata": {
        "id": "06595d6b",
        "outputId": "61b88c67-2fe1-4cea-f7c7-da2d9da51069"
      },
      "outputs": [
        {
          "name": "stdout",
          "output_type": "stream",
          "text": [
            "<class 'pandas.core.frame.DataFrame'>\n",
            "Int64Index: 1751 entries, 0 to 2073\n",
            "Data columns (total 12 columns):\n",
            " #   Column    Non-Null Count  Dtype  \n",
            "---  ------    --------------  -----  \n",
            " 0   tweet_id  1751 non-null   int64  \n",
            " 1   jpg_url   1751 non-null   object \n",
            " 2   img_num   1751 non-null   int64  \n",
            " 3   p1        1751 non-null   object \n",
            " 4   p1_conf   1751 non-null   float64\n",
            " 5   p1_dog    1751 non-null   bool   \n",
            " 6   p2        1751 non-null   object \n",
            " 7   p2_conf   1751 non-null   float64\n",
            " 8   p2_dog    1751 non-null   bool   \n",
            " 9   p3        1751 non-null   object \n",
            " 10  p3_conf   1751 non-null   float64\n",
            " 11  p3_dog    1751 non-null   bool   \n",
            "dtypes: bool(3), float64(3), int64(2), object(4)\n",
            "memory usage: 141.9+ KB\n"
          ]
        }
      ],
      "source": [
        "image_pred_c = image_pred_c.query('p1_dog == True | p2_dog == True | p3_dog == True')\n",
        "image_pred_c.info()"
      ]
    },
    {
      "cell_type": "code",
      "execution_count": null,
      "id": "ab5102ac",
      "metadata": {
        "id": "ab5102ac",
        "outputId": "04bb8c43-130c-461b-da9d-58e03d31bba1"
      },
      "outputs": [
        {
          "data": {
            "text/html": [
              "<div>\n",
              "<style scoped>\n",
              "    .dataframe tbody tr th:only-of-type {\n",
              "        vertical-align: middle;\n",
              "    }\n",
              "\n",
              "    .dataframe tbody tr th {\n",
              "        vertical-align: top;\n",
              "    }\n",
              "\n",
              "    .dataframe thead th {\n",
              "        text-align: right;\n",
              "    }\n",
              "</style>\n",
              "<table border=\"1\" class=\"dataframe\">\n",
              "  <thead>\n",
              "    <tr style=\"text-align: right;\">\n",
              "      <th></th>\n",
              "      <th>tweet_id</th>\n",
              "      <th>jpg_url</th>\n",
              "      <th>img_num</th>\n",
              "      <th>p1</th>\n",
              "      <th>p1_conf</th>\n",
              "      <th>p1_dog</th>\n",
              "      <th>p2</th>\n",
              "      <th>p2_conf</th>\n",
              "      <th>p2_dog</th>\n",
              "      <th>p3</th>\n",
              "      <th>p3_conf</th>\n",
              "      <th>p3_dog</th>\n",
              "    </tr>\n",
              "  </thead>\n",
              "  <tbody>\n",
              "  </tbody>\n",
              "</table>\n",
              "</div>"
            ],
            "text/plain": [
              "Empty DataFrame\n",
              "Columns: [tweet_id, jpg_url, img_num, p1, p1_conf, p1_dog, p2, p2_conf, p2_dog, p3, p3_conf, p3_dog]\n",
              "Index: []"
            ]
          },
          "execution_count": 682,
          "metadata": {},
          "output_type": "execute_result"
        }
      ],
      "source": [
        "#Double-checking to see if there are rows that do not contain any dog guesses at all.\n",
        "image_pred_c.query('p1_dog == False & p2_dog == False & p3_dog == False')"
      ]
    },
    {
      "cell_type": "code",
      "execution_count": null,
      "id": "5c7c91d3",
      "metadata": {
        "id": "5c7c91d3"
      },
      "outputs": [],
      "source": [
        "# I'm going to set up a breed and confidence column using out p1, p1_conf etc.\n",
        "#First I'll set up a sort of mask for breed predictions, then the order for confidence.\n",
        "#Then create the columns from the first successful condition of them. \n",
        "needs = [(image_pred_c['p1_dog'] == True),\n",
        "              (image_pred_c['p2_dog'] == True),\n",
        "              (image_pred_c['p3_dog'] == True)]\n",
        "\n",
        "# set the choice order based on the selection conditions for predicted breed\n",
        "breed = [image_pred_c['p1'], \n",
        "                 image_pred_c['p2'],\n",
        "                 image_pred_c['p3']]\n",
        "\n",
        "# set the choice order for confidence level based on the selection conditions\n",
        "conf = [image_pred_c['p1_conf'], \n",
        "                      image_pred_c['p2_conf'], \n",
        "                      image_pred_c['p3_conf']]\n",
        "\n",
        "# select the predicted breed based on the first successful condition\n",
        "image_pred_c['breeds'] = np.select(needs, breed, \n",
        "                                       default = 'none')\n",
        "\n",
        "# select the predicted confidence level based on the first successful condition\n",
        "image_pred_c['confidence'] = np.select(needs, conf, \n",
        "                                            default = 0)"
      ]
    },
    {
      "cell_type": "markdown",
      "id": "24fb13bd",
      "metadata": {
        "id": "24fb13bd"
      },
      "source": [
        "### Test"
      ]
    },
    {
      "cell_type": "code",
      "execution_count": null,
      "id": "75d93b56",
      "metadata": {
        "id": "75d93b56",
        "outputId": "b3489ff8-1573-4523-b45d-89dc6e7d82ae"
      },
      "outputs": [
        {
          "data": {
            "text/html": [
              "<div>\n",
              "<style scoped>\n",
              "    .dataframe tbody tr th:only-of-type {\n",
              "        vertical-align: middle;\n",
              "    }\n",
              "\n",
              "    .dataframe tbody tr th {\n",
              "        vertical-align: top;\n",
              "    }\n",
              "\n",
              "    .dataframe thead th {\n",
              "        text-align: right;\n",
              "    }\n",
              "</style>\n",
              "<table border=\"1\" class=\"dataframe\">\n",
              "  <thead>\n",
              "    <tr style=\"text-align: right;\">\n",
              "      <th></th>\n",
              "      <th>tweet_id</th>\n",
              "      <th>jpg_url</th>\n",
              "      <th>img_num</th>\n",
              "      <th>p1</th>\n",
              "      <th>p1_conf</th>\n",
              "      <th>p1_dog</th>\n",
              "      <th>p2</th>\n",
              "      <th>p2_conf</th>\n",
              "      <th>p2_dog</th>\n",
              "      <th>p3</th>\n",
              "      <th>p3_conf</th>\n",
              "      <th>p3_dog</th>\n",
              "      <th>breeds</th>\n",
              "      <th>confidence</th>\n",
              "    </tr>\n",
              "  </thead>\n",
              "  <tbody>\n",
              "    <tr>\n",
              "      <th>0</th>\n",
              "      <td>666020888022790149</td>\n",
              "      <td>https://pbs.twimg.com/media/CT4udn0WwAA0aMy.jpg</td>\n",
              "      <td>1</td>\n",
              "      <td>Welsh_springer_spaniel</td>\n",
              "      <td>0.465074</td>\n",
              "      <td>True</td>\n",
              "      <td>collie</td>\n",
              "      <td>0.156665</td>\n",
              "      <td>True</td>\n",
              "      <td>Shetland_sheepdog</td>\n",
              "      <td>0.061428</td>\n",
              "      <td>True</td>\n",
              "      <td>Welsh_springer_spaniel</td>\n",
              "      <td>0.465074</td>\n",
              "    </tr>\n",
              "    <tr>\n",
              "      <th>1</th>\n",
              "      <td>666029285002620928</td>\n",
              "      <td>https://pbs.twimg.com/media/CT42GRgUYAA5iDo.jpg</td>\n",
              "      <td>1</td>\n",
              "      <td>redbone</td>\n",
              "      <td>0.506826</td>\n",
              "      <td>True</td>\n",
              "      <td>miniature_pinscher</td>\n",
              "      <td>0.074192</td>\n",
              "      <td>True</td>\n",
              "      <td>Rhodesian_ridgeback</td>\n",
              "      <td>0.072010</td>\n",
              "      <td>True</td>\n",
              "      <td>redbone</td>\n",
              "      <td>0.506826</td>\n",
              "    </tr>\n",
              "    <tr>\n",
              "      <th>2</th>\n",
              "      <td>666033412701032449</td>\n",
              "      <td>https://pbs.twimg.com/media/CT4521TWwAEvMyu.jpg</td>\n",
              "      <td>1</td>\n",
              "      <td>German_shepherd</td>\n",
              "      <td>0.596461</td>\n",
              "      <td>True</td>\n",
              "      <td>malinois</td>\n",
              "      <td>0.138584</td>\n",
              "      <td>True</td>\n",
              "      <td>bloodhound</td>\n",
              "      <td>0.116197</td>\n",
              "      <td>True</td>\n",
              "      <td>German_shepherd</td>\n",
              "      <td>0.596461</td>\n",
              "    </tr>\n",
              "    <tr>\n",
              "      <th>3</th>\n",
              "      <td>666044226329800704</td>\n",
              "      <td>https://pbs.twimg.com/media/CT5Dr8HUEAA-lEu.jpg</td>\n",
              "      <td>1</td>\n",
              "      <td>Rhodesian_ridgeback</td>\n",
              "      <td>0.408143</td>\n",
              "      <td>True</td>\n",
              "      <td>redbone</td>\n",
              "      <td>0.360687</td>\n",
              "      <td>True</td>\n",
              "      <td>miniature_pinscher</td>\n",
              "      <td>0.222752</td>\n",
              "      <td>True</td>\n",
              "      <td>Rhodesian_ridgeback</td>\n",
              "      <td>0.408143</td>\n",
              "    </tr>\n",
              "    <tr>\n",
              "      <th>4</th>\n",
              "      <td>666049248165822465</td>\n",
              "      <td>https://pbs.twimg.com/media/CT5IQmsXIAAKY4A.jpg</td>\n",
              "      <td>1</td>\n",
              "      <td>miniature_pinscher</td>\n",
              "      <td>0.560311</td>\n",
              "      <td>True</td>\n",
              "      <td>Rottweiler</td>\n",
              "      <td>0.243682</td>\n",
              "      <td>True</td>\n",
              "      <td>Doberman</td>\n",
              "      <td>0.154629</td>\n",
              "      <td>True</td>\n",
              "      <td>miniature_pinscher</td>\n",
              "      <td>0.560311</td>\n",
              "    </tr>\n",
              "  </tbody>\n",
              "</table>\n",
              "</div>"
            ],
            "text/plain": [
              "             tweet_id                                          jpg_url  \\\n",
              "0  666020888022790149  https://pbs.twimg.com/media/CT4udn0WwAA0aMy.jpg   \n",
              "1  666029285002620928  https://pbs.twimg.com/media/CT42GRgUYAA5iDo.jpg   \n",
              "2  666033412701032449  https://pbs.twimg.com/media/CT4521TWwAEvMyu.jpg   \n",
              "3  666044226329800704  https://pbs.twimg.com/media/CT5Dr8HUEAA-lEu.jpg   \n",
              "4  666049248165822465  https://pbs.twimg.com/media/CT5IQmsXIAAKY4A.jpg   \n",
              "\n",
              "   img_num                      p1   p1_conf  p1_dog                  p2  \\\n",
              "0        1  Welsh_springer_spaniel  0.465074    True              collie   \n",
              "1        1                 redbone  0.506826    True  miniature_pinscher   \n",
              "2        1         German_shepherd  0.596461    True            malinois   \n",
              "3        1     Rhodesian_ridgeback  0.408143    True             redbone   \n",
              "4        1      miniature_pinscher  0.560311    True          Rottweiler   \n",
              "\n",
              "    p2_conf  p2_dog                   p3   p3_conf  p3_dog  \\\n",
              "0  0.156665    True    Shetland_sheepdog  0.061428    True   \n",
              "1  0.074192    True  Rhodesian_ridgeback  0.072010    True   \n",
              "2  0.138584    True           bloodhound  0.116197    True   \n",
              "3  0.360687    True   miniature_pinscher  0.222752    True   \n",
              "4  0.243682    True             Doberman  0.154629    True   \n",
              "\n",
              "                   breeds  confidence  \n",
              "0  Welsh_springer_spaniel    0.465074  \n",
              "1                 redbone    0.506826  \n",
              "2         German_shepherd    0.596461  \n",
              "3     Rhodesian_ridgeback    0.408143  \n",
              "4      miniature_pinscher    0.560311  "
            ]
          },
          "execution_count": 684,
          "metadata": {},
          "output_type": "execute_result"
        }
      ],
      "source": [
        "image_pred_c.head()"
      ]
    },
    {
      "cell_type": "code",
      "execution_count": null,
      "id": "3191eb35",
      "metadata": {
        "id": "3191eb35"
      },
      "outputs": [],
      "source": [
        "#Make the confidence a percent by multiplying it by 100.\n",
        "image_pred_c.confidence = (image_pred_c.confidence * 100).astype(int)"
      ]
    },
    {
      "cell_type": "code",
      "execution_count": null,
      "id": "5e99cbef",
      "metadata": {
        "id": "5e99cbef"
      },
      "outputs": [],
      "source": [
        "\n",
        "#Also going to remove the `img_num`, as it's not needed.\n",
        "image_pred_c.drop(['img_num'], axis=1, inplace=True)"
      ]
    },
    {
      "cell_type": "code",
      "execution_count": null,
      "id": "b715b0e0",
      "metadata": {
        "id": "b715b0e0",
        "outputId": "a99dbdee-c0d0-48a1-b0bb-d18feeee39db"
      },
      "outputs": [
        {
          "data": {
            "text/html": [
              "<div>\n",
              "<style scoped>\n",
              "    .dataframe tbody tr th:only-of-type {\n",
              "        vertical-align: middle;\n",
              "    }\n",
              "\n",
              "    .dataframe tbody tr th {\n",
              "        vertical-align: top;\n",
              "    }\n",
              "\n",
              "    .dataframe thead th {\n",
              "        text-align: right;\n",
              "    }\n",
              "</style>\n",
              "<table border=\"1\" class=\"dataframe\">\n",
              "  <thead>\n",
              "    <tr style=\"text-align: right;\">\n",
              "      <th></th>\n",
              "      <th>tweet_id</th>\n",
              "      <th>jpg_url</th>\n",
              "      <th>p1</th>\n",
              "      <th>p1_conf</th>\n",
              "      <th>p1_dog</th>\n",
              "      <th>p2</th>\n",
              "      <th>p2_conf</th>\n",
              "      <th>p2_dog</th>\n",
              "      <th>p3</th>\n",
              "      <th>p3_conf</th>\n",
              "      <th>p3_dog</th>\n",
              "      <th>breeds</th>\n",
              "      <th>confidence</th>\n",
              "    </tr>\n",
              "  </thead>\n",
              "  <tbody>\n",
              "    <tr>\n",
              "      <th>0</th>\n",
              "      <td>666020888022790149</td>\n",
              "      <td>https://pbs.twimg.com/media/CT4udn0WwAA0aMy.jpg</td>\n",
              "      <td>Welsh_springer_spaniel</td>\n",
              "      <td>0.465074</td>\n",
              "      <td>True</td>\n",
              "      <td>collie</td>\n",
              "      <td>0.156665</td>\n",
              "      <td>True</td>\n",
              "      <td>Shetland_sheepdog</td>\n",
              "      <td>0.061428</td>\n",
              "      <td>True</td>\n",
              "      <td>Welsh_springer_spaniel</td>\n",
              "      <td>46</td>\n",
              "    </tr>\n",
              "    <tr>\n",
              "      <th>1</th>\n",
              "      <td>666029285002620928</td>\n",
              "      <td>https://pbs.twimg.com/media/CT42GRgUYAA5iDo.jpg</td>\n",
              "      <td>redbone</td>\n",
              "      <td>0.506826</td>\n",
              "      <td>True</td>\n",
              "      <td>miniature_pinscher</td>\n",
              "      <td>0.074192</td>\n",
              "      <td>True</td>\n",
              "      <td>Rhodesian_ridgeback</td>\n",
              "      <td>0.072010</td>\n",
              "      <td>True</td>\n",
              "      <td>redbone</td>\n",
              "      <td>50</td>\n",
              "    </tr>\n",
              "    <tr>\n",
              "      <th>2</th>\n",
              "      <td>666033412701032449</td>\n",
              "      <td>https://pbs.twimg.com/media/CT4521TWwAEvMyu.jpg</td>\n",
              "      <td>German_shepherd</td>\n",
              "      <td>0.596461</td>\n",
              "      <td>True</td>\n",
              "      <td>malinois</td>\n",
              "      <td>0.138584</td>\n",
              "      <td>True</td>\n",
              "      <td>bloodhound</td>\n",
              "      <td>0.116197</td>\n",
              "      <td>True</td>\n",
              "      <td>German_shepherd</td>\n",
              "      <td>59</td>\n",
              "    </tr>\n",
              "    <tr>\n",
              "      <th>3</th>\n",
              "      <td>666044226329800704</td>\n",
              "      <td>https://pbs.twimg.com/media/CT5Dr8HUEAA-lEu.jpg</td>\n",
              "      <td>Rhodesian_ridgeback</td>\n",
              "      <td>0.408143</td>\n",
              "      <td>True</td>\n",
              "      <td>redbone</td>\n",
              "      <td>0.360687</td>\n",
              "      <td>True</td>\n",
              "      <td>miniature_pinscher</td>\n",
              "      <td>0.222752</td>\n",
              "      <td>True</td>\n",
              "      <td>Rhodesian_ridgeback</td>\n",
              "      <td>40</td>\n",
              "    </tr>\n",
              "    <tr>\n",
              "      <th>4</th>\n",
              "      <td>666049248165822465</td>\n",
              "      <td>https://pbs.twimg.com/media/CT5IQmsXIAAKY4A.jpg</td>\n",
              "      <td>miniature_pinscher</td>\n",
              "      <td>0.560311</td>\n",
              "      <td>True</td>\n",
              "      <td>Rottweiler</td>\n",
              "      <td>0.243682</td>\n",
              "      <td>True</td>\n",
              "      <td>Doberman</td>\n",
              "      <td>0.154629</td>\n",
              "      <td>True</td>\n",
              "      <td>miniature_pinscher</td>\n",
              "      <td>56</td>\n",
              "    </tr>\n",
              "  </tbody>\n",
              "</table>\n",
              "</div>"
            ],
            "text/plain": [
              "             tweet_id                                          jpg_url  \\\n",
              "0  666020888022790149  https://pbs.twimg.com/media/CT4udn0WwAA0aMy.jpg   \n",
              "1  666029285002620928  https://pbs.twimg.com/media/CT42GRgUYAA5iDo.jpg   \n",
              "2  666033412701032449  https://pbs.twimg.com/media/CT4521TWwAEvMyu.jpg   \n",
              "3  666044226329800704  https://pbs.twimg.com/media/CT5Dr8HUEAA-lEu.jpg   \n",
              "4  666049248165822465  https://pbs.twimg.com/media/CT5IQmsXIAAKY4A.jpg   \n",
              "\n",
              "                       p1   p1_conf  p1_dog                  p2   p2_conf  \\\n",
              "0  Welsh_springer_spaniel  0.465074    True              collie  0.156665   \n",
              "1                 redbone  0.506826    True  miniature_pinscher  0.074192   \n",
              "2         German_shepherd  0.596461    True            malinois  0.138584   \n",
              "3     Rhodesian_ridgeback  0.408143    True             redbone  0.360687   \n",
              "4      miniature_pinscher  0.560311    True          Rottweiler  0.243682   \n",
              "\n",
              "   p2_dog                   p3   p3_conf  p3_dog                  breeds  \\\n",
              "0    True    Shetland_sheepdog  0.061428    True  Welsh_springer_spaniel   \n",
              "1    True  Rhodesian_ridgeback  0.072010    True                 redbone   \n",
              "2    True           bloodhound  0.116197    True         German_shepherd   \n",
              "3    True   miniature_pinscher  0.222752    True     Rhodesian_ridgeback   \n",
              "4    True             Doberman  0.154629    True      miniature_pinscher   \n",
              "\n",
              "   confidence  \n",
              "0          46  \n",
              "1          50  \n",
              "2          59  \n",
              "3          40  \n",
              "4          56  "
            ]
          },
          "execution_count": 687,
          "metadata": {},
          "output_type": "execute_result"
        }
      ],
      "source": [
        "image_pred_c.head()"
      ]
    },
    {
      "cell_type": "markdown",
      "id": "4b648dc4",
      "metadata": {
        "id": "4b648dc4"
      },
      "source": [
        "## Issue # 8 There are duplicate `jpg_url` entries."
      ]
    },
    {
      "cell_type": "markdown",
      "id": "b52ea19d",
      "metadata": {
        "id": "b52ea19d"
      },
      "source": [
        "#### Define: \n",
        "I'm just going to drop any duplicates, as when visially assessed they appeared to all just be retweets."
      ]
    },
    {
      "cell_type": "markdown",
      "id": "e4c15465",
      "metadata": {
        "id": "e4c15465"
      },
      "source": [
        "#### Code"
      ]
    },
    {
      "cell_type": "code",
      "execution_count": null,
      "id": "9cc1aa46",
      "metadata": {
        "id": "9cc1aa46"
      },
      "outputs": [],
      "source": [
        "image_pred_c.jpg_url.duplicated().sum()\n",
        "# There are 66\n",
        "image_pred_c.drop_duplicates(inplace=True)"
      ]
    },
    {
      "cell_type": "markdown",
      "id": "8bc9d9fd",
      "metadata": {
        "id": "8bc9d9fd"
      },
      "source": [
        "#### Test"
      ]
    },
    {
      "cell_type": "code",
      "execution_count": null,
      "id": "bf5acf7d",
      "metadata": {
        "id": "bf5acf7d",
        "outputId": "9735f673-c2fa-4525-c650-d536691da1ab"
      },
      "outputs": [
        {
          "data": {
            "text/plain": [
              "0"
            ]
          },
          "execution_count": 689,
          "metadata": {},
          "output_type": "execute_result"
        }
      ],
      "source": [
        "image_pred_c.duplicated().sum()"
      ]
    },
    {
      "cell_type": "code",
      "execution_count": null,
      "id": "cbd99008",
      "metadata": {
        "id": "cbd99008"
      },
      "outputs": [],
      "source": [
        "#Might as wekk drop the jpg_url column for tidyness.\n",
        "image_pred_c.drop(['jpg_url'], axis=1, inplace=True)"
      ]
    },
    {
      "cell_type": "markdown",
      "id": "ef1379fc",
      "metadata": {
        "id": "ef1379fc"
      },
      "source": [
        "## Cleaning `tweet_json_c`\n",
        "\n",
        "-The only real thing is to make sure that the tweets not shared by both dataframes get dropped. This would make it easier to join it with the `twitter_archive_c` dataframe via `tweet_id`"
      ]
    },
    {
      "cell_type": "code",
      "execution_count": null,
      "id": "ac3db5de",
      "metadata": {
        "id": "ac3db5de",
        "outputId": "eb18965b-283a-4184-a52f-9d0cfd8dbb20"
      },
      "outputs": [
        {
          "data": {
            "text/html": [
              "<div>\n",
              "<style scoped>\n",
              "    .dataframe tbody tr th:only-of-type {\n",
              "        vertical-align: middle;\n",
              "    }\n",
              "\n",
              "    .dataframe tbody tr th {\n",
              "        vertical-align: top;\n",
              "    }\n",
              "\n",
              "    .dataframe thead th {\n",
              "        text-align: right;\n",
              "    }\n",
              "</style>\n",
              "<table border=\"1\" class=\"dataframe\">\n",
              "  <thead>\n",
              "    <tr style=\"text-align: right;\">\n",
              "      <th></th>\n",
              "      <th>tweet_id</th>\n",
              "      <th>retweet_count</th>\n",
              "      <th>favorite_count</th>\n",
              "    </tr>\n",
              "  </thead>\n",
              "  <tbody>\n",
              "    <tr>\n",
              "      <th>0</th>\n",
              "      <td>892420643555336193</td>\n",
              "      <td>8853</td>\n",
              "      <td>39467</td>\n",
              "    </tr>\n",
              "    <tr>\n",
              "      <th>1</th>\n",
              "      <td>892177421306343426</td>\n",
              "      <td>6514</td>\n",
              "      <td>33819</td>\n",
              "    </tr>\n",
              "    <tr>\n",
              "      <th>2</th>\n",
              "      <td>891815181378084864</td>\n",
              "      <td>4328</td>\n",
              "      <td>25461</td>\n",
              "    </tr>\n",
              "    <tr>\n",
              "      <th>3</th>\n",
              "      <td>891689557279858688</td>\n",
              "      <td>8964</td>\n",
              "      <td>42908</td>\n",
              "    </tr>\n",
              "    <tr>\n",
              "      <th>4</th>\n",
              "      <td>891327558926688256</td>\n",
              "      <td>9774</td>\n",
              "      <td>41048</td>\n",
              "    </tr>\n",
              "  </tbody>\n",
              "</table>\n",
              "</div>"
            ],
            "text/plain": [
              "             tweet_id  retweet_count  favorite_count\n",
              "0  892420643555336193           8853           39467\n",
              "1  892177421306343426           6514           33819\n",
              "2  891815181378084864           4328           25461\n",
              "3  891689557279858688           8964           42908\n",
              "4  891327558926688256           9774           41048"
            ]
          },
          "execution_count": 691,
          "metadata": {},
          "output_type": "execute_result"
        }
      ],
      "source": [
        "tweet_json.head()"
      ]
    },
    {
      "cell_type": "markdown",
      "id": "e020f8fc",
      "metadata": {
        "id": "e020f8fc"
      },
      "source": [
        "#### Code"
      ]
    },
    {
      "cell_type": "code",
      "execution_count": null,
      "id": "d81d3f3f",
      "metadata": {
        "id": "d81d3f3f",
        "outputId": "ee10a912-bc91-4c57-8dfd-0d9b8a4442fd"
      },
      "outputs": [
        {
          "data": {
            "text/plain": [
              "0"
            ]
          },
          "execution_count": 692,
          "metadata": {},
          "output_type": "execute_result"
        }
      ],
      "source": [
        "no_share = (~twitter_archive_c.tweet_id.isin(list(tweet_json_c.tweet_id)))\n",
        "no_share.sum()\n",
        "#Oh good, there aren't any."
      ]
    },
    {
      "cell_type": "code",
      "execution_count": null,
      "id": "d4f1e0da",
      "metadata": {
        "id": "d4f1e0da"
      },
      "outputs": [],
      "source": [
        "#Merging tweet_json with twittter_archive_c by tweet_id.\n",
        "twitter_archive_c = pd.merge(twitter_archive_c, tweet_json,\n",
        "                         on = 'tweet_id', how = 'inner')"
      ]
    },
    {
      "cell_type": "code",
      "execution_count": null,
      "id": "00c10623",
      "metadata": {
        "id": "00c10623",
        "outputId": "d7d07bf5-da78-4233-c89d-7dd84dfd06db"
      },
      "outputs": [
        {
          "data": {
            "text/html": [
              "<div>\n",
              "<style scoped>\n",
              "    .dataframe tbody tr th:only-of-type {\n",
              "        vertical-align: middle;\n",
              "    }\n",
              "\n",
              "    .dataframe tbody tr th {\n",
              "        vertical-align: top;\n",
              "    }\n",
              "\n",
              "    .dataframe thead th {\n",
              "        text-align: right;\n",
              "    }\n",
              "</style>\n",
              "<table border=\"1\" class=\"dataframe\">\n",
              "  <thead>\n",
              "    <tr style=\"text-align: right;\">\n",
              "      <th></th>\n",
              "      <th>tweet_id</th>\n",
              "      <th>timestamp</th>\n",
              "      <th>source</th>\n",
              "      <th>text</th>\n",
              "      <th>rating_numerator</th>\n",
              "      <th>rating_denominator</th>\n",
              "      <th>name</th>\n",
              "      <th>dog_stage</th>\n",
              "      <th>retweet_count</th>\n",
              "      <th>favorite_count</th>\n",
              "    </tr>\n",
              "  </thead>\n",
              "  <tbody>\n",
              "    <tr>\n",
              "      <th>0</th>\n",
              "      <td>892420643555336193</td>\n",
              "      <td>2017-08-01 16:23:56+00:00</td>\n",
              "      <td>Twitter for iPhone</td>\n",
              "      <td>This is Phineas. He's a mystical boy. Only ever appears in the hole of a donut. 13/10 https://t.co/MgUWQ76dJU</td>\n",
              "      <td>13</td>\n",
              "      <td>10</td>\n",
              "      <td>Phineas</td>\n",
              "      <td>NaN</td>\n",
              "      <td>8853</td>\n",
              "      <td>39467</td>\n",
              "    </tr>\n",
              "    <tr>\n",
              "      <th>1</th>\n",
              "      <td>892177421306343426</td>\n",
              "      <td>2017-08-01 00:17:27+00:00</td>\n",
              "      <td>Twitter for iPhone</td>\n",
              "      <td>This is Tilly. She's just checking pup on you. Hopes you're doing ok. If not, she's available for pats, snugs, boops, the whole bit. 13/10 https://t.co/0Xxu71qeIV</td>\n",
              "      <td>13</td>\n",
              "      <td>10</td>\n",
              "      <td>Tilly</td>\n",
              "      <td>NaN</td>\n",
              "      <td>6514</td>\n",
              "      <td>33819</td>\n",
              "    </tr>\n",
              "    <tr>\n",
              "      <th>2</th>\n",
              "      <td>891815181378084864</td>\n",
              "      <td>2017-07-31 00:18:03+00:00</td>\n",
              "      <td>Twitter for iPhone</td>\n",
              "      <td>This is Archie. He is a rare Norwegian Pouncing Corgo. Lives in the tall grass. You never know when one may strike. 12/10 https://t.co/wUnZnhtVJB</td>\n",
              "      <td>12</td>\n",
              "      <td>10</td>\n",
              "      <td>Archie</td>\n",
              "      <td>NaN</td>\n",
              "      <td>4328</td>\n",
              "      <td>25461</td>\n",
              "    </tr>\n",
              "    <tr>\n",
              "      <th>3</th>\n",
              "      <td>891689557279858688</td>\n",
              "      <td>2017-07-30 15:58:51+00:00</td>\n",
              "      <td>Twitter for iPhone</td>\n",
              "      <td>This is Darla. She commenced a snooze mid meal. 13/10 happens to the best of us https://t.co/tD36da7qLQ</td>\n",
              "      <td>13</td>\n",
              "      <td>10</td>\n",
              "      <td>Darla</td>\n",
              "      <td>NaN</td>\n",
              "      <td>8964</td>\n",
              "      <td>42908</td>\n",
              "    </tr>\n",
              "    <tr>\n",
              "      <th>4</th>\n",
              "      <td>891327558926688256</td>\n",
              "      <td>2017-07-29 16:00:24+00:00</td>\n",
              "      <td>Twitter for iPhone</td>\n",
              "      <td>This is Franklin. He would like you to stop calling him \"cute.\" He is a very fierce shark and should be respected as such. 12/10 #BarkWeek https://t.co/AtUZn91f7f</td>\n",
              "      <td>12</td>\n",
              "      <td>10</td>\n",
              "      <td>Franklin</td>\n",
              "      <td>NaN</td>\n",
              "      <td>9774</td>\n",
              "      <td>41048</td>\n",
              "    </tr>\n",
              "  </tbody>\n",
              "</table>\n",
              "</div>"
            ],
            "text/plain": [
              "             tweet_id                 timestamp              source  \\\n",
              "0  892420643555336193 2017-08-01 16:23:56+00:00  Twitter for iPhone   \n",
              "1  892177421306343426 2017-08-01 00:17:27+00:00  Twitter for iPhone   \n",
              "2  891815181378084864 2017-07-31 00:18:03+00:00  Twitter for iPhone   \n",
              "3  891689557279858688 2017-07-30 15:58:51+00:00  Twitter for iPhone   \n",
              "4  891327558926688256 2017-07-29 16:00:24+00:00  Twitter for iPhone   \n",
              "\n",
              "                                                                                                                                                                 text  \\\n",
              "0                                                       This is Phineas. He's a mystical boy. Only ever appears in the hole of a donut. 13/10 https://t.co/MgUWQ76dJU   \n",
              "1  This is Tilly. She's just checking pup on you. Hopes you're doing ok. If not, she's available for pats, snugs, boops, the whole bit. 13/10 https://t.co/0Xxu71qeIV   \n",
              "2                   This is Archie. He is a rare Norwegian Pouncing Corgo. Lives in the tall grass. You never know when one may strike. 12/10 https://t.co/wUnZnhtVJB   \n",
              "3                                                             This is Darla. She commenced a snooze mid meal. 13/10 happens to the best of us https://t.co/tD36da7qLQ   \n",
              "4  This is Franklin. He would like you to stop calling him \"cute.\" He is a very fierce shark and should be respected as such. 12/10 #BarkWeek https://t.co/AtUZn91f7f   \n",
              "\n",
              "   rating_numerator  rating_denominator      name dog_stage  retweet_count  \\\n",
              "0                13                  10   Phineas       NaN           8853   \n",
              "1                13                  10     Tilly       NaN           6514   \n",
              "2                12                  10    Archie       NaN           4328   \n",
              "3                13                  10     Darla       NaN           8964   \n",
              "4                12                  10  Franklin       NaN           9774   \n",
              "\n",
              "   favorite_count  \n",
              "0           39467  \n",
              "1           33819  \n",
              "2           25461  \n",
              "3           42908  \n",
              "4           41048  "
            ]
          },
          "execution_count": 694,
          "metadata": {},
          "output_type": "execute_result"
        }
      ],
      "source": [
        "twitter_archive_c.head()"
      ]
    },
    {
      "cell_type": "code",
      "execution_count": null,
      "id": "835bfc9e",
      "metadata": {
        "id": "835bfc9e"
      },
      "outputs": [],
      "source": [
        "#The MegaMerge.\n",
        "# merge the breed and confidence columns to archive\n",
        "merge = ['tweet_id', 'breeds', 'confidence']\n",
        "twitter_archive_c = pd.merge(twitter_archive_c, image_pred_c[merge],\n",
        "                         on = 'tweet_id', how = 'inner')"
      ]
    },
    {
      "cell_type": "markdown",
      "id": "63dd8c2f",
      "metadata": {
        "id": "63dd8c2f"
      },
      "source": [
        "#### Test"
      ]
    },
    {
      "cell_type": "code",
      "execution_count": null,
      "id": "189b9095",
      "metadata": {
        "id": "189b9095",
        "outputId": "6c522ff5-b631-468b-d34d-569b76aab6e1"
      },
      "outputs": [
        {
          "data": {
            "text/html": [
              "<div>\n",
              "<style scoped>\n",
              "    .dataframe tbody tr th:only-of-type {\n",
              "        vertical-align: middle;\n",
              "    }\n",
              "\n",
              "    .dataframe tbody tr th {\n",
              "        vertical-align: top;\n",
              "    }\n",
              "\n",
              "    .dataframe thead th {\n",
              "        text-align: right;\n",
              "    }\n",
              "</style>\n",
              "<table border=\"1\" class=\"dataframe\">\n",
              "  <thead>\n",
              "    <tr style=\"text-align: right;\">\n",
              "      <th></th>\n",
              "      <th>tweet_id</th>\n",
              "      <th>timestamp</th>\n",
              "      <th>source</th>\n",
              "      <th>text</th>\n",
              "      <th>rating_numerator</th>\n",
              "      <th>rating_denominator</th>\n",
              "      <th>name</th>\n",
              "      <th>dog_stage</th>\n",
              "      <th>retweet_count</th>\n",
              "      <th>favorite_count</th>\n",
              "      <th>breeds</th>\n",
              "      <th>confidence</th>\n",
              "    </tr>\n",
              "  </thead>\n",
              "  <tbody>\n",
              "    <tr>\n",
              "      <th>0</th>\n",
              "      <td>892177421306343426</td>\n",
              "      <td>2017-08-01 00:17:27+00:00</td>\n",
              "      <td>Twitter for iPhone</td>\n",
              "      <td>This is Tilly. She's just checking pup on you. Hopes you're doing ok. If not, she's available for pats, snugs, boops, the whole bit. 13/10 https://t.co/0Xxu71qeIV</td>\n",
              "      <td>13</td>\n",
              "      <td>10</td>\n",
              "      <td>Tilly</td>\n",
              "      <td>NaN</td>\n",
              "      <td>6514</td>\n",
              "      <td>33819</td>\n",
              "      <td>Chihuahua</td>\n",
              "      <td>32</td>\n",
              "    </tr>\n",
              "    <tr>\n",
              "      <th>1</th>\n",
              "      <td>891815181378084864</td>\n",
              "      <td>2017-07-31 00:18:03+00:00</td>\n",
              "      <td>Twitter for iPhone</td>\n",
              "      <td>This is Archie. He is a rare Norwegian Pouncing Corgo. Lives in the tall grass. You never know when one may strike. 12/10 https://t.co/wUnZnhtVJB</td>\n",
              "      <td>12</td>\n",
              "      <td>10</td>\n",
              "      <td>Archie</td>\n",
              "      <td>NaN</td>\n",
              "      <td>4328</td>\n",
              "      <td>25461</td>\n",
              "      <td>Chihuahua</td>\n",
              "      <td>71</td>\n",
              "    </tr>\n",
              "    <tr>\n",
              "      <th>2</th>\n",
              "      <td>891689557279858688</td>\n",
              "      <td>2017-07-30 15:58:51+00:00</td>\n",
              "      <td>Twitter for iPhone</td>\n",
              "      <td>This is Darla. She commenced a snooze mid meal. 13/10 happens to the best of us https://t.co/tD36da7qLQ</td>\n",
              "      <td>13</td>\n",
              "      <td>10</td>\n",
              "      <td>Darla</td>\n",
              "      <td>NaN</td>\n",
              "      <td>8964</td>\n",
              "      <td>42908</td>\n",
              "      <td>Labrador_retriever</td>\n",
              "      <td>16</td>\n",
              "    </tr>\n",
              "    <tr>\n",
              "      <th>3</th>\n",
              "      <td>891327558926688256</td>\n",
              "      <td>2017-07-29 16:00:24+00:00</td>\n",
              "      <td>Twitter for iPhone</td>\n",
              "      <td>This is Franklin. He would like you to stop calling him \"cute.\" He is a very fierce shark and should be respected as such. 12/10 #BarkWeek https://t.co/AtUZn91f7f</td>\n",
              "      <td>12</td>\n",
              "      <td>10</td>\n",
              "      <td>Franklin</td>\n",
              "      <td>NaN</td>\n",
              "      <td>9774</td>\n",
              "      <td>41048</td>\n",
              "      <td>basset</td>\n",
              "      <td>55</td>\n",
              "    </tr>\n",
              "    <tr>\n",
              "      <th>4</th>\n",
              "      <td>891087950875897856</td>\n",
              "      <td>2017-07-29 00:08:17+00:00</td>\n",
              "      <td>Twitter for iPhone</td>\n",
              "      <td>Here we have a majestic great white breaching off South Africa's coast. Absolutely h*ckin breathtaking. 13/10 (IG: tucker_marlo) #BarkWeek https://t.co/kQ04fDDRmh</td>\n",
              "      <td>13</td>\n",
              "      <td>10</td>\n",
              "      <td>NaN</td>\n",
              "      <td>NaN</td>\n",
              "      <td>3261</td>\n",
              "      <td>20562</td>\n",
              "      <td>Chesapeake_Bay_retriever</td>\n",
              "      <td>42</td>\n",
              "    </tr>\n",
              "  </tbody>\n",
              "</table>\n",
              "</div>"
            ],
            "text/plain": [
              "             tweet_id                 timestamp              source  \\\n",
              "0  892177421306343426 2017-08-01 00:17:27+00:00  Twitter for iPhone   \n",
              "1  891815181378084864 2017-07-31 00:18:03+00:00  Twitter for iPhone   \n",
              "2  891689557279858688 2017-07-30 15:58:51+00:00  Twitter for iPhone   \n",
              "3  891327558926688256 2017-07-29 16:00:24+00:00  Twitter for iPhone   \n",
              "4  891087950875897856 2017-07-29 00:08:17+00:00  Twitter for iPhone   \n",
              "\n",
              "                                                                                                                                                                 text  \\\n",
              "0  This is Tilly. She's just checking pup on you. Hopes you're doing ok. If not, she's available for pats, snugs, boops, the whole bit. 13/10 https://t.co/0Xxu71qeIV   \n",
              "1                   This is Archie. He is a rare Norwegian Pouncing Corgo. Lives in the tall grass. You never know when one may strike. 12/10 https://t.co/wUnZnhtVJB   \n",
              "2                                                             This is Darla. She commenced a snooze mid meal. 13/10 happens to the best of us https://t.co/tD36da7qLQ   \n",
              "3  This is Franklin. He would like you to stop calling him \"cute.\" He is a very fierce shark and should be respected as such. 12/10 #BarkWeek https://t.co/AtUZn91f7f   \n",
              "4  Here we have a majestic great white breaching off South Africa's coast. Absolutely h*ckin breathtaking. 13/10 (IG: tucker_marlo) #BarkWeek https://t.co/kQ04fDDRmh   \n",
              "\n",
              "   rating_numerator  rating_denominator      name dog_stage  retweet_count  \\\n",
              "0                13                  10     Tilly       NaN           6514   \n",
              "1                12                  10    Archie       NaN           4328   \n",
              "2                13                  10     Darla       NaN           8964   \n",
              "3                12                  10  Franklin       NaN           9774   \n",
              "4                13                  10       NaN       NaN           3261   \n",
              "\n",
              "   favorite_count                    breeds  confidence  \n",
              "0           33819                 Chihuahua          32  \n",
              "1           25461                 Chihuahua          71  \n",
              "2           42908        Labrador_retriever          16  \n",
              "3           41048                    basset          55  \n",
              "4           20562  Chesapeake_Bay_retriever          42  "
            ]
          },
          "execution_count": 696,
          "metadata": {},
          "output_type": "execute_result"
        }
      ],
      "source": [
        "twitter_archive_c.head()"
      ]
    },
    {
      "cell_type": "code",
      "execution_count": null,
      "id": "045d3c6c",
      "metadata": {
        "id": "045d3c6c",
        "outputId": "536bbb5c-ad63-431b-8d1e-c6f10e63f576"
      },
      "outputs": [
        {
          "name": "stdout",
          "output_type": "stream",
          "text": [
            "<class 'pandas.core.frame.DataFrame'>\n",
            "Int64Index: 1665 entries, 0 to 1664\n",
            "Data columns (total 12 columns):\n",
            " #   Column              Non-Null Count  Dtype              \n",
            "---  ------              --------------  -----              \n",
            " 0   tweet_id            1665 non-null   int64              \n",
            " 1   timestamp           1665 non-null   datetime64[ns, UTC]\n",
            " 2   source              1665 non-null   object             \n",
            " 3   text                1665 non-null   object             \n",
            " 4   rating_numerator    1665 non-null   int64              \n",
            " 5   rating_denominator  1665 non-null   int64              \n",
            " 6   name                1185 non-null   object             \n",
            " 7   dog_stage           284 non-null    category           \n",
            " 8   retweet_count       1665 non-null   int64              \n",
            " 9   favorite_count      1665 non-null   int64              \n",
            " 10  breeds              1665 non-null   object             \n",
            " 11  confidence          1665 non-null   int32              \n",
            "dtypes: category(1), datetime64[ns, UTC](1), int32(1), int64(5), object(4)\n",
            "memory usage: 151.9+ KB\n"
          ]
        }
      ],
      "source": [
        "twitter_archive_c.info()"
      ]
    },
    {
      "cell_type": "code",
      "execution_count": null,
      "id": "a9922897",
      "metadata": {
        "id": "a9922897"
      },
      "outputs": [],
      "source": [
        "twitter_archive_c.to_csv('twitter_archive_master.csv', index=False)"
      ]
    },
    {
      "cell_type": "code",
      "execution_count": null,
      "id": "c8d4f179",
      "metadata": {
        "id": "c8d4f179"
      },
      "outputs": [],
      "source": [
        "image_pred_c.to_csv('image_pred_master.csv', index=False)"
      ]
    },
    {
      "cell_type": "code",
      "execution_count": null,
      "id": "0988e39c",
      "metadata": {
        "id": "0988e39c"
      },
      "outputs": [],
      "source": []
    },
    {
      "cell_type": "code",
      "execution_count": null,
      "id": "a04e4629",
      "metadata": {
        "id": "a04e4629"
      },
      "outputs": [],
      "source": []
    },
    {
      "cell_type": "code",
      "execution_count": null,
      "id": "bd196e97",
      "metadata": {
        "id": "bd196e97"
      },
      "outputs": [],
      "source": []
    },
    {
      "cell_type": "markdown",
      "id": "5569b875",
      "metadata": {
        "id": "5569b875"
      },
      "source": [
        "### Resources:\n",
        "https://stackoverflow.com/questions/22551403/python-pandas-filtering-out-nan-from-a-data-selection-of-a-column-of-strings\n",
        "\n",
        "https://stackoverflow.com/questions/63148009/remove-0000-utc-offset-from-timestamp-in-python-pandas\n",
        "\n",
        "https://stackoverflow.com/questions/23743460/replace-none-with-nan-in-pandas-dataframe\n",
        "\n",
        "https://stackoverflow.com/questions/43387467/how-to-remove-seconds-from-datetime \n",
        "\n",
        "https://stackoverflow.com/questions/43772362/how-to-print-a-specific-row-of-a-pandas-dataframe\n",
        "\n",
        "https://pandas.pydata.org/docs/reference/api/pandas.melt.html\n"
      ]
    },
    {
      "cell_type": "code",
      "execution_count": null,
      "id": "f8dc37c1",
      "metadata": {
        "id": "f8dc37c1"
      },
      "outputs": [],
      "source": []
    },
    {
      "cell_type": "code",
      "execution_count": null,
      "id": "78dfe02b",
      "metadata": {
        "id": "78dfe02b"
      },
      "outputs": [],
      "source": []
    }
  ],
  "metadata": {
    "kernelspec": {
      "display_name": "Python 3 (ipykernel)",
      "language": "python",
      "name": "python3"
    },
    "language_info": {
      "codemirror_mode": {
        "name": "ipython",
        "version": 3
      },
      "file_extension": ".py",
      "mimetype": "text/x-python",
      "name": "python",
      "nbconvert_exporter": "python",
      "pygments_lexer": "ipython3",
      "version": "3.9.7"
    },
    "colab": {
      "provenance": [],
      "include_colab_link": true
    }
  },
  "nbformat": 4,
  "nbformat_minor": 5
}