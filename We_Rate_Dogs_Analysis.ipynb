{
  "cells": [
    {
      "cell_type": "markdown",
      "metadata": {
        "id": "view-in-github",
        "colab_type": "text"
      },
      "source": [
        "<a href=\"https://colab.research.google.com/github/DuckofDoom91/Portfolio/blob/main/We_Rate_Dogs_Analysis.ipynb\" target=\"_parent\"><img src=\"https://colab.research.google.com/assets/colab-badge.svg\" alt=\"Open In Colab\"/></a>"
      ]
    },
    {
      "cell_type": "markdown",
      "id": "b1ce8fc8",
      "metadata": {
        "id": "b1ce8fc8"
      },
      "source": [
        "# We Rate Dogs Twitter Analysis"
      ]
    },
    {
      "cell_type": "code",
      "execution_count": null,
      "id": "4c1938f7",
      "metadata": {
        "id": "4c1938f7"
      },
      "outputs": [],
      "source": [
        "import pandas as pd\n",
        "import numpy as np\n",
        "import requests\n",
        "import json\n",
        "import matplotlib.pyplot as plt\n",
        "%matplotlib inline\n",
        "pd.set_option('display.max_colwidth', None)\n",
        "import warnings\n",
        "warnings.filterwarnings('ignore')"
      ]
    },
    {
      "cell_type": "code",
      "execution_count": null,
      "id": "08bf7bd2",
      "metadata": {
        "id": "08bf7bd2"
      },
      "outputs": [],
      "source": [
        "archive = pd.read_csv('twitter_archive_master.csv')\n",
        "pred = pd.read_csv('image_pred_master.csv')"
      ]
    },
    {
      "cell_type": "code",
      "execution_count": null,
      "id": "2c3a46f0",
      "metadata": {
        "id": "2c3a46f0",
        "outputId": "44a85eef-b8d9-46aa-9ea4-f206cd8c3567"
      },
      "outputs": [
        {
          "name": "stdout",
          "output_type": "stream",
          "text": [
            "<class 'pandas.core.frame.DataFrame'>\n",
            "RangeIndex: 1665 entries, 0 to 1664\n",
            "Data columns (total 12 columns):\n",
            " #   Column              Non-Null Count  Dtype              \n",
            "---  ------              --------------  -----              \n",
            " 0   tweet_id            1665 non-null   int64              \n",
            " 1   timestamp           1665 non-null   datetime64[ns, UTC]\n",
            " 2   source              1665 non-null   object             \n",
            " 3   text                1665 non-null   object             \n",
            " 4   rating_numerator    1665 non-null   int64              \n",
            " 5   rating_denominator  1665 non-null   int64              \n",
            " 6   name                1185 non-null   object             \n",
            " 7   dog_stage           284 non-null    object             \n",
            " 8   retweet_count       1665 non-null   int64              \n",
            " 9   favorite_count      1665 non-null   int64              \n",
            " 10  breeds              1665 non-null   object             \n",
            " 11  confidence          1665 non-null   int64              \n",
            "dtypes: datetime64[ns, UTC](1), int64(6), object(5)\n",
            "memory usage: 156.2+ KB\n"
          ]
        }
      ],
      "source": [
        "#datetime didn't stay when the .csv file was saved. Easy as a copy/paste to fix.\n",
        "archive.timestamp = pd.to_datetime(archive.timestamp)\n",
        "archive.info()"
      ]
    },
    {
      "cell_type": "code",
      "execution_count": null,
      "id": "1a16a86c",
      "metadata": {
        "id": "1a16a86c",
        "outputId": "2cc76766-7a32-4aea-a184-8b99ee427844"
      },
      "outputs": [
        {
          "data": {
            "text/html": [
              "<div>\n",
              "<style scoped>\n",
              "    .dataframe tbody tr th:only-of-type {\n",
              "        vertical-align: middle;\n",
              "    }\n",
              "\n",
              "    .dataframe tbody tr th {\n",
              "        vertical-align: top;\n",
              "    }\n",
              "\n",
              "    .dataframe thead th {\n",
              "        text-align: right;\n",
              "    }\n",
              "</style>\n",
              "<table border=\"1\" class=\"dataframe\">\n",
              "  <thead>\n",
              "    <tr style=\"text-align: right;\">\n",
              "      <th></th>\n",
              "      <th>tweet_id</th>\n",
              "      <th>timestamp</th>\n",
              "      <th>source</th>\n",
              "      <th>text</th>\n",
              "      <th>rating_numerator</th>\n",
              "      <th>rating_denominator</th>\n",
              "      <th>name</th>\n",
              "      <th>dog_stage</th>\n",
              "      <th>retweet_count</th>\n",
              "      <th>favorite_count</th>\n",
              "      <th>breeds</th>\n",
              "      <th>confidence</th>\n",
              "    </tr>\n",
              "  </thead>\n",
              "  <tbody>\n",
              "    <tr>\n",
              "      <th>0</th>\n",
              "      <td>892177421306343426</td>\n",
              "      <td>2017-08-01 00:17:27+00:00</td>\n",
              "      <td>Twitter for iPhone</td>\n",
              "      <td>This is Tilly. She's just checking pup on you. Hopes you're doing ok. If not, she's available for pats, snugs, boops, the whole bit. 13/10 https://t.co/0Xxu71qeIV</td>\n",
              "      <td>13</td>\n",
              "      <td>10</td>\n",
              "      <td>Tilly</td>\n",
              "      <td>NaN</td>\n",
              "      <td>6514</td>\n",
              "      <td>33819</td>\n",
              "      <td>Chihuahua</td>\n",
              "      <td>32</td>\n",
              "    </tr>\n",
              "    <tr>\n",
              "      <th>1</th>\n",
              "      <td>891815181378084864</td>\n",
              "      <td>2017-07-31 00:18:03+00:00</td>\n",
              "      <td>Twitter for iPhone</td>\n",
              "      <td>This is Archie. He is a rare Norwegian Pouncing Corgo. Lives in the tall grass. You never know when one may strike. 12/10 https://t.co/wUnZnhtVJB</td>\n",
              "      <td>12</td>\n",
              "      <td>10</td>\n",
              "      <td>Archie</td>\n",
              "      <td>NaN</td>\n",
              "      <td>4328</td>\n",
              "      <td>25461</td>\n",
              "      <td>Chihuahua</td>\n",
              "      <td>71</td>\n",
              "    </tr>\n",
              "    <tr>\n",
              "      <th>2</th>\n",
              "      <td>891689557279858688</td>\n",
              "      <td>2017-07-30 15:58:51+00:00</td>\n",
              "      <td>Twitter for iPhone</td>\n",
              "      <td>This is Darla. She commenced a snooze mid meal. 13/10 happens to the best of us https://t.co/tD36da7qLQ</td>\n",
              "      <td>13</td>\n",
              "      <td>10</td>\n",
              "      <td>Darla</td>\n",
              "      <td>NaN</td>\n",
              "      <td>8964</td>\n",
              "      <td>42908</td>\n",
              "      <td>Labrador_retriever</td>\n",
              "      <td>16</td>\n",
              "    </tr>\n",
              "    <tr>\n",
              "      <th>3</th>\n",
              "      <td>891327558926688256</td>\n",
              "      <td>2017-07-29 16:00:24+00:00</td>\n",
              "      <td>Twitter for iPhone</td>\n",
              "      <td>This is Franklin. He would like you to stop calling him \"cute.\" He is a very fierce shark and should be respected as such. 12/10 #BarkWeek https://t.co/AtUZn91f7f</td>\n",
              "      <td>12</td>\n",
              "      <td>10</td>\n",
              "      <td>Franklin</td>\n",
              "      <td>NaN</td>\n",
              "      <td>9774</td>\n",
              "      <td>41048</td>\n",
              "      <td>basset</td>\n",
              "      <td>55</td>\n",
              "    </tr>\n",
              "    <tr>\n",
              "      <th>4</th>\n",
              "      <td>891087950875897856</td>\n",
              "      <td>2017-07-29 00:08:17+00:00</td>\n",
              "      <td>Twitter for iPhone</td>\n",
              "      <td>Here we have a majestic great white breaching off South Africa's coast. Absolutely h*ckin breathtaking. 13/10 (IG: tucker_marlo) #BarkWeek https://t.co/kQ04fDDRmh</td>\n",
              "      <td>13</td>\n",
              "      <td>10</td>\n",
              "      <td>NaN</td>\n",
              "      <td>NaN</td>\n",
              "      <td>3261</td>\n",
              "      <td>20562</td>\n",
              "      <td>Chesapeake_Bay_retriever</td>\n",
              "      <td>42</td>\n",
              "    </tr>\n",
              "  </tbody>\n",
              "</table>\n",
              "</div>"
            ],
            "text/plain": [
              "             tweet_id                 timestamp              source  \\\n",
              "0  892177421306343426 2017-08-01 00:17:27+00:00  Twitter for iPhone   \n",
              "1  891815181378084864 2017-07-31 00:18:03+00:00  Twitter for iPhone   \n",
              "2  891689557279858688 2017-07-30 15:58:51+00:00  Twitter for iPhone   \n",
              "3  891327558926688256 2017-07-29 16:00:24+00:00  Twitter for iPhone   \n",
              "4  891087950875897856 2017-07-29 00:08:17+00:00  Twitter for iPhone   \n",
              "\n",
              "                                                                                                                                                                 text  \\\n",
              "0  This is Tilly. She's just checking pup on you. Hopes you're doing ok. If not, she's available for pats, snugs, boops, the whole bit. 13/10 https://t.co/0Xxu71qeIV   \n",
              "1                   This is Archie. He is a rare Norwegian Pouncing Corgo. Lives in the tall grass. You never know when one may strike. 12/10 https://t.co/wUnZnhtVJB   \n",
              "2                                                             This is Darla. She commenced a snooze mid meal. 13/10 happens to the best of us https://t.co/tD36da7qLQ   \n",
              "3  This is Franklin. He would like you to stop calling him \"cute.\" He is a very fierce shark and should be respected as such. 12/10 #BarkWeek https://t.co/AtUZn91f7f   \n",
              "4  Here we have a majestic great white breaching off South Africa's coast. Absolutely h*ckin breathtaking. 13/10 (IG: tucker_marlo) #BarkWeek https://t.co/kQ04fDDRmh   \n",
              "\n",
              "   rating_numerator  rating_denominator      name dog_stage  retweet_count  \\\n",
              "0                13                  10     Tilly       NaN           6514   \n",
              "1                12                  10    Archie       NaN           4328   \n",
              "2                13                  10     Darla       NaN           8964   \n",
              "3                12                  10  Franklin       NaN           9774   \n",
              "4                13                  10       NaN       NaN           3261   \n",
              "\n",
              "   favorite_count                    breeds  confidence  \n",
              "0           33819                 Chihuahua          32  \n",
              "1           25461                 Chihuahua          71  \n",
              "2           42908        Labrador_retriever          16  \n",
              "3           41048                    basset          55  \n",
              "4           20562  Chesapeake_Bay_retriever          42  "
            ]
          },
          "execution_count": 152,
          "metadata": {},
          "output_type": "execute_result"
        }
      ],
      "source": [
        "archive.head()"
      ]
    },
    {
      "cell_type": "markdown",
      "id": "5235c7d9",
      "metadata": {
        "id": "5235c7d9"
      },
      "source": [
        "# Question 1: Is there a dominant dog stage?"
      ]
    },
    {
      "cell_type": "code",
      "execution_count": null,
      "id": "425622ee",
      "metadata": {
        "id": "425622ee",
        "outputId": "fee1577f-caae-4f66-b0a6-ae94679c84e3"
      },
      "outputs": [
        {
          "data": {
            "text/plain": [
              "pupper     161\n",
              "doggo       60\n",
              "puppo       24\n",
              "puppers     15\n",
              "Pupper       5\n",
              "doggos       4\n",
              "Floofer      4\n",
              "floofer      3\n",
              "Doggo        3\n",
              "PUPPER       3\n",
              "Puppo        1\n",
              "puppos       1\n",
              "Name: dog_stage, dtype: int64"
            ]
          },
          "execution_count": 153,
          "metadata": {},
          "output_type": "execute_result"
        }
      ],
      "source": [
        "dog_stage = archive.dog_stage.value_counts()\n",
        "dog_stage"
      ]
    },
    {
      "cell_type": "code",
      "execution_count": null,
      "id": "955476f6",
      "metadata": {
        "id": "955476f6",
        "outputId": "60ef400f-8f8e-4883-c7fd-416c56a1983c"
      },
      "outputs": [
        {
          "data": {
            "image/png": "[encoded data removed]",
            "text/plain": [
              "<Figure size 1008x720 with 1 Axes>"
            ]
          },
          "metadata": {
            "needs_background": "light"
          },
          "output_type": "display_data"
        }
      ],
      "source": [
        "dog_stage.plot(kind = 'bar', figsize = (14, 10))\n",
        "plt.title('Most Common Dog Stage', fontsize = 18)\n",
        "plt.xlabel('Dog Stage', fontsize = 14)\n",
        "plt.ylabel('Number of Tweets', fontsize = 14);"
      ]
    },
    {
      "cell_type": "markdown",
      "id": "c445c092",
      "metadata": {
        "id": "c445c092"
      },
      "source": [
        "### Answer: Even with multiple variations of the same stage, we can see that \"pupper\" wins in every variation."
      ]
    },
    {
      "cell_type": "markdown",
      "id": "c554b972",
      "metadata": {
        "id": "c554b972"
      },
      "source": [
        "# Question 2: Do more people Retweet or Favorite these tweets?"
      ]
    },
    {
      "cell_type": "code",
      "execution_count": null,
      "id": "a66a9955",
      "metadata": {
        "id": "a66a9955",
        "outputId": "b6232cf6-06d8-48e3-e4f9-6d3461344fec"
      },
      "outputs": [
        {
          "name": "stdout",
          "output_type": "stream",
          "text": [
            "Favorite Count: 15468188 Retweet Count: 4720505\n"
          ]
        }
      ],
      "source": [
        "favorite = archive.favorite_count.sum()\n",
        "retweet = archive.retweet_count.sum()\n",
        "print(\"Favorite Count:\", favorite, \"Retweet Count:\", retweet)\n",
        "#Favorite wins by a landslide."
      ]
    },
    {
      "cell_type": "markdown",
      "id": "a356456e",
      "metadata": {
        "id": "a356456e"
      },
      "source": [
        "### Does this change over time?"
      ]
    },
    {
      "cell_type": "code",
      "execution_count": null,
      "id": "d05d36e5",
      "metadata": {
        "id": "d05d36e5"
      },
      "outputs": [],
      "source": [
        "monthly_fave = archive.groupby(archive['timestamp'].dt.to_period('M'))['favorite_count'].mean()"
      ]
    },
    {
      "cell_type": "code",
      "execution_count": null,
      "id": "605286d4",
      "metadata": {
        "id": "605286d4",
        "outputId": "397c2f24-9932-44fd-ea01-7a70ea90c67f"
      },
      "outputs": [
        {
          "data": {
            "image/png": "[encoded data removed]",
            "text/plain": [
              "<Figure size 432x288 with 1 Axes>"
            ]
          },
          "metadata": {
            "needs_background": "light"
          },
          "output_type": "display_data"
        }
      ],
      "source": [
        "monthly_fave.plot()\n",
        "plt.title('Average Favorites per Month')\n",
        "plt.xlabel('Month')\n",
        "plt.ylabel('Number of Favorites');"
      ]
    },
    {
      "cell_type": "code",
      "execution_count": null,
      "id": "be41f9a1",
      "metadata": {
        "id": "be41f9a1"
      },
      "outputs": [],
      "source": [
        "monthly_rt = archive.groupby(archive['timestamp'].dt.to_period('M'))['retweet_count'].mean()"
      ]
    },
    {
      "cell_type": "code",
      "execution_count": null,
      "id": "c804b1b3",
      "metadata": {
        "id": "c804b1b3",
        "outputId": "08b0901c-0065-47db-ea17-e41c693b9be6"
      },
      "outputs": [
        {
          "data": {
            "image/png": "[encoded data removed]",
            "text/plain": [
              "<Figure size 432x288 with 1 Axes>"
            ]
          },
          "metadata": {
            "needs_background": "light"
          },
          "output_type": "display_data"
        }
      ],
      "source": [
        "monthly_rt.plot()\n",
        "plt.title('Average Retweets per Month')\n",
        "plt.xlabel('Month')\n",
        "plt.ylabel('Number of Retweets');"
      ]
    },
    {
      "cell_type": "markdown",
      "id": "6b8b9f03",
      "metadata": {
        "id": "6b8b9f03"
      },
      "source": [
        "### We can see that engagment with the account grew over time for both retweets and favorites."
      ]
    },
    {
      "cell_type": "markdown",
      "id": "cf296f9b",
      "metadata": {
        "id": "cf296f9b"
      },
      "source": [
        "## Question 3 What are the most favorited and retweeded tweets?"
      ]
    },
    {
      "cell_type": "code",
      "execution_count": null,
      "id": "114922f6",
      "metadata": {
        "id": "114922f6",
        "outputId": "e547ea4f-7a25-4bcf-f8b8-515ccb147d71"
      },
      "outputs": [
        {
          "data": {
            "text/html": [
              "<div>\n",
              "<style scoped>\n",
              "    .dataframe tbody tr th:only-of-type {\n",
              "        vertical-align: middle;\n",
              "    }\n",
              "\n",
              "    .dataframe tbody tr th {\n",
              "        vertical-align: top;\n",
              "    }\n",
              "\n",
              "    .dataframe thead th {\n",
              "        text-align: right;\n",
              "    }\n",
              "</style>\n",
              "<table border=\"1\" class=\"dataframe\">\n",
              "  <thead>\n",
              "    <tr style=\"text-align: right;\">\n",
              "      <th></th>\n",
              "      <th>tweet_id</th>\n",
              "      <th>timestamp</th>\n",
              "      <th>source</th>\n",
              "      <th>text</th>\n",
              "      <th>rating_numerator</th>\n",
              "      <th>rating_denominator</th>\n",
              "      <th>name</th>\n",
              "      <th>dog_stage</th>\n",
              "      <th>retweet_count</th>\n",
              "      <th>favorite_count</th>\n",
              "      <th>breeds</th>\n",
              "      <th>confidence</th>\n",
              "    </tr>\n",
              "  </thead>\n",
              "  <tbody>\n",
              "    <tr>\n",
              "      <th>275</th>\n",
              "      <td>822872901745569793</td>\n",
              "      <td>2017-01-21 18:26:02+00:00</td>\n",
              "      <td>Twitter for iPhone</td>\n",
              "      <td>Here's a super supportive puppo participating in the Toronto  #WomensMarch today. 13/10 https://t.co/nTz3FtorBc</td>\n",
              "      <td>13</td>\n",
              "      <td>10</td>\n",
              "      <td>NaN</td>\n",
              "      <td>puppo</td>\n",
              "      <td>48265</td>\n",
              "      <td>132810</td>\n",
              "      <td>Lakeland_terrier</td>\n",
              "      <td>19</td>\n",
              "    </tr>\n",
              "  </tbody>\n",
              "</table>\n",
              "</div>"
            ],
            "text/plain": [
              "               tweet_id                 timestamp              source  \\\n",
              "275  822872901745569793 2017-01-21 18:26:02+00:00  Twitter for iPhone   \n",
              "\n",
              "                                                                                                                text  \\\n",
              "275  Here's a super supportive puppo participating in the Toronto  #WomensMarch today. 13/10 https://t.co/nTz3FtorBc   \n",
              "\n",
              "     rating_numerator  rating_denominator name dog_stage  retweet_count  \\\n",
              "275                13                  10  NaN     puppo          48265   \n",
              "\n",
              "     favorite_count            breeds  confidence  \n",
              "275          132810  Lakeland_terrier          19  "
            ]
          },
          "execution_count": 160,
          "metadata": {},
          "output_type": "execute_result"
        }
      ],
      "source": [
        "#The Most Favorited\n",
        "archive.sort_values(by = 'favorite_count', ascending = False).head(1)"
      ]
    },
    {
      "cell_type": "markdown",
      "id": "21bf90aa",
      "metadata": {
        "id": "21bf90aa"
      },
      "source": [
        "#### Answer: \"Here's a super supportive puppo participating in the Toronto #WomensMarch today. 13/10\""
      ]
    },
    {
      "cell_type": "code",
      "execution_count": null,
      "id": "13aefcc4",
      "metadata": {
        "id": "13aefcc4",
        "outputId": "ca870aa8-f04b-4f57-b551-2105034626c4"
      },
      "outputs": [
        {
          "data": {
            "text/html": [
              "<div>\n",
              "<style scoped>\n",
              "    .dataframe tbody tr th:only-of-type {\n",
              "        vertical-align: middle;\n",
              "    }\n",
              "\n",
              "    .dataframe tbody tr th {\n",
              "        vertical-align: top;\n",
              "    }\n",
              "\n",
              "    .dataframe thead th {\n",
              "        text-align: right;\n",
              "    }\n",
              "</style>\n",
              "<table border=\"1\" class=\"dataframe\">\n",
              "  <thead>\n",
              "    <tr style=\"text-align: right;\">\n",
              "      <th></th>\n",
              "      <th>tweet_id</th>\n",
              "      <th>timestamp</th>\n",
              "      <th>source</th>\n",
              "      <th>text</th>\n",
              "      <th>rating_numerator</th>\n",
              "      <th>rating_denominator</th>\n",
              "      <th>name</th>\n",
              "      <th>dog_stage</th>\n",
              "      <th>retweet_count</th>\n",
              "      <th>favorite_count</th>\n",
              "      <th>breeds</th>\n",
              "      <th>confidence</th>\n",
              "    </tr>\n",
              "  </thead>\n",
              "  <tbody>\n",
              "    <tr>\n",
              "      <th>685</th>\n",
              "      <td>744234799360020481</td>\n",
              "      <td>2016-06-18 18:26:18+00:00</td>\n",
              "      <td>Twitter for iPhone</td>\n",
              "      <td>Here's a doggo realizing you can stand in a pool. 13/10 enlightened af (vid by Tina Conrad) https://t.co/7wE9LTEXC4</td>\n",
              "      <td>13</td>\n",
              "      <td>10</td>\n",
              "      <td>NaN</td>\n",
              "      <td>doggo</td>\n",
              "      <td>79515</td>\n",
              "      <td>131075</td>\n",
              "      <td>Labrador_retriever</td>\n",
              "      <td>82</td>\n",
              "    </tr>\n",
              "  </tbody>\n",
              "</table>\n",
              "</div>"
            ],
            "text/plain": [
              "               tweet_id                 timestamp              source  \\\n",
              "685  744234799360020481 2016-06-18 18:26:18+00:00  Twitter for iPhone   \n",
              "\n",
              "                                                                                                                    text  \\\n",
              "685  Here's a doggo realizing you can stand in a pool. 13/10 enlightened af (vid by Tina Conrad) https://t.co/7wE9LTEXC4   \n",
              "\n",
              "     rating_numerator  rating_denominator name dog_stage  retweet_count  \\\n",
              "685                13                  10  NaN     doggo          79515   \n",
              "\n",
              "     favorite_count              breeds  confidence  \n",
              "685          131075  Labrador_retriever          82  "
            ]
          },
          "execution_count": 161,
          "metadata": {},
          "output_type": "execute_result"
        }
      ],
      "source": [
        "#The Most Retweeted\n",
        "archive.sort_values(by = 'retweet_count', ascending = False).head(1)"
      ]
    },
    {
      "cell_type": "markdown",
      "id": "2863fe47",
      "metadata": {
        "id": "2863fe47"
      },
      "source": [
        "### Answer: Here's a doggo realizing you can stand in a pool. 13/10 enlightened af (vid by Tina Conrad)"
      ]
    },
    {
      "cell_type": "markdown",
      "id": "e5085a98",
      "metadata": {
        "id": "e5085a98"
      },
      "source": [
        "## Question # 4 What are the top 10 dog names?"
      ]
    },
    {
      "cell_type": "code",
      "execution_count": null,
      "id": "0718079c",
      "metadata": {
        "id": "0718079c"
      },
      "outputs": [],
      "source": [
        "top_10_d = archive.name.value_counts().head(10)\n",
        "top_10_d = top_10_d.sort_values(ascending = True)"
      ]
    },
    {
      "cell_type": "code",
      "execution_count": null,
      "id": "b8c2bf98",
      "metadata": {
        "id": "b8c2bf98",
        "outputId": "e3dac908-f3b3-4114-997f-d7ee99329a5b"
      },
      "outputs": [
        {
          "data": {
            "image/png": "[encoded data removed]",
            "text/plain": [
              "<Figure size 864x720 with 1 Axes>"
            ]
          },
          "metadata": {
            "needs_background": "light"
          },
          "output_type": "display_data"
        }
      ],
      "source": [
        "top_10_d.plot(kind='barh', figsize=(12, 10))\n",
        "plt.title('Top Ten Dog Names', fontsize=18)\n",
        "plt.xlabel('Number of Occurrences', fontsize=14)\n",
        "plt.ylabel('Name', fontsize=14);"
      ]
    },
    {
      "cell_type": "markdown",
      "id": "7ba92757",
      "metadata": {
        "id": "7ba92757"
      },
      "source": [
        "### Charlie and Lucy are tied for the Top Ten at 11 counts each."
      ]
    },
    {
      "cell_type": "markdown",
      "id": "553bad90",
      "metadata": {
        "id": "553bad90"
      },
      "source": [
        "## Question 5: According to the neural network built by Udacity instructors, what was the top dog breed listed?"
      ]
    },
    {
      "cell_type": "code",
      "execution_count": null,
      "id": "54cda6ca",
      "metadata": {
        "id": "54cda6ca"
      },
      "outputs": [],
      "source": [
        "top_10_b = archive.breeds.value_counts().head(10)\n",
        "top_10_b = top_10_b.sort_values(ascending = True)"
      ]
    },
    {
      "cell_type": "code",
      "execution_count": null,
      "id": "0a6e4357",
      "metadata": {
        "id": "0a6e4357",
        "outputId": "c5bf4331-d7a6-4352-a8a7-fb1f4280979e"
      },
      "outputs": [
        {
          "data": {
            "image/png": "[encoded data removed]",
            "text/plain": [
              "<Figure size 864x720 with 1 Axes>"
            ]
          },
          "metadata": {
            "needs_background": "light"
          },
          "output_type": "display_data"
        }
      ],
      "source": [
        "##Top 10 Breeds\n",
        "top_10_b.plot(kind='barh', figsize=(12, 10))\n",
        "yaxis={'categoryorder':'total ascending'}\n",
        "plt.title('Top Ten Dog Breeds', fontsize=18)\n",
        "plt.xlabel('Number of Occurrences', fontsize=14)\n",
        "plt.ylabel('Breed', fontsize=14);"
      ]
    },
    {
      "cell_type": "markdown",
      "id": "6b5fe200",
      "metadata": {
        "id": "6b5fe200"
      },
      "source": [
        "### As suspected, the top dogs are golden and labrador retrievers."
      ]
    },
    {
      "cell_type": "code",
      "execution_count": null,
      "id": "b58911c5",
      "metadata": {
        "id": "b58911c5"
      },
      "outputs": [],
      "source": []
    },
    {
      "cell_type": "code",
      "execution_count": null,
      "id": "c3e8b1ef",
      "metadata": {
        "id": "c3e8b1ef"
      },
      "outputs": [],
      "source": []
    },
    {
      "cell_type": "code",
      "execution_count": null,
      "id": "0c789035",
      "metadata": {
        "id": "0c789035"
      },
      "outputs": [],
      "source": []
    }
  ],
  "metadata": {
    "kernelspec": {
      "display_name": "Python 3 (ipykernel)",
      "language": "python",
      "name": "python3"
    },
    "language_info": {
      "codemirror_mode": {
        "name": "ipython",
        "version": 3
      },
      "file_extension": ".py",
      "mimetype": "text/x-python",
      "name": "python",
      "nbconvert_exporter": "python",
      "pygments_lexer": "ipython3",
      "version": "3.9.7"
    },
    "colab": {
      "provenance": [],
      "include_colab_link": true
    }
  },
  "nbformat": 4,
  "nbformat_minor": 5
}